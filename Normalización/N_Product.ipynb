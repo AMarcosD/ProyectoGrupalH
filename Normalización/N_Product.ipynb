{
 "cells": [
  {
   "cell_type": "code",
   "execution_count": 1,
   "metadata": {},
   "outputs": [],
   "source": [
    "import pandas as pd\n",
    "import numpy as np"
   ]
  },
  {
   "cell_type": "code",
   "execution_count": 3,
   "metadata": {},
   "outputs": [],
   "source": [
    "data_products = pd.read_csv(r'C:\\Users\\marco\\Desktop\\ProyectoGrupalH\\data\\olist_products_dataset.csv')"
   ]
  },
  {
   "cell_type": "code",
   "execution_count": 4,
   "metadata": {},
   "outputs": [],
   "source": [
    "data_products.rename(columns= {'product_name_lenght': 'product_name_length', 'product_description_lenght': 'product_description_length'}, inplace = True)"
   ]
  },
  {
   "cell_type": "code",
   "execution_count": 5,
   "metadata": {},
   "outputs": [],
   "source": [
    "data_products.drop(columns=['product_name_length', 'product_description_length'], axis=1, inplace=True)"
   ]
  },
  {
   "cell_type": "code",
   "execution_count": 7,
   "metadata": {},
   "outputs": [],
   "source": [
    "datamerge = pd.read_parquet(r'C:\\Users\\marco\\Desktop\\ProyectoGrupalH\\dataparquet\\data_category_productP')"
   ]
  },
  {
   "cell_type": "code",
   "execution_count": 8,
   "metadata": {},
   "outputs": [],
   "source": [
    "#Eliminamos columna de cantidad de fotos\n",
    "data_products.drop(columns=['product_photos_qty'], inplace=True)"
   ]
  },
  {
   "cell_type": "code",
   "execution_count": 9,
   "metadata": {},
   "outputs": [],
   "source": [
    "# cambiamos nulos por 'sin_categoria'\n",
    "data_products['product_category_name'] = data_products['product_category_name'].fillna('sin_categoria')"
   ]
  },
  {
   "cell_type": "code",
   "execution_count": 10,
   "metadata": {},
   "outputs": [],
   "source": [
    "#Utilizamos merge para utilizar nombres en ingles y eliminamos columna en portugues\n",
    "data_products = pd.merge(datamerge,data_products)\n",
    "data_products.drop(columns='product_category_name', inplace=True)"
   ]
  },
  {
   "cell_type": "markdown",
   "metadata": {},
   "source": [
    "Utilizamos la media para rellenar espacios nulos"
   ]
  },
  {
   "cell_type": "code",
   "execution_count": 11,
   "metadata": {},
   "outputs": [],
   "source": [
    "product_weight_median = data_products['product_weight_g'].median()\n",
    "product_length_median = data_products['product_length_cm'].median()\n",
    "product_height_median = data_products['product_height_cm'].median()\n",
    "product_width_median = data_products['product_width_cm'].median()\n",
    "data_products['product_weight_g'].fillna(product_weight_median, inplace=True)\n",
    "data_products['product_length_cm'].fillna(product_length_median, inplace=True)\n",
    "data_products['product_height_cm'].fillna(product_height_median, inplace=True)\n",
    "data_products['product_width_cm'].fillna(product_width_median, inplace=True)"
   ]
  },
  {
   "cell_type": "code",
   "execution_count": 13,
   "metadata": {},
   "outputs": [
    {
     "data": {
      "text/plain": [
       "product_category_name_english                          NoCategory\n",
       "product_id                       5eb564652db742ff8f28759cd8d2652a\n",
       "product_weight_g                                            700.0\n",
       "product_length_cm                                            25.0\n",
       "product_height_cm                                            13.0\n",
       "product_width_cm                                             20.0\n",
       "Name: 32693, dtype: object"
      ]
     },
     "execution_count": 13,
     "metadata": {},
     "output_type": "execute_result"
    }
   ],
   "source": [
    "#ID ANTERIORMENTE CON VALORES NULOS\n",
    "data_products.loc[32693]"
   ]
  }
 ],
 "metadata": {
  "kernelspec": {
   "display_name": "Python 3.10.2 64-bit",
   "language": "python",
   "name": "python3"
  },
  "language_info": {
   "codemirror_mode": {
    "name": "ipython",
    "version": 3
   },
   "file_extension": ".py",
   "mimetype": "text/x-python",
   "name": "python",
   "nbconvert_exporter": "python",
   "pygments_lexer": "ipython3",
   "version": "3.10.2"
  },
  "orig_nbformat": 4,
  "vscode": {
   "interpreter": {
    "hash": "ba18286d27dd3f1705df4025c31d2b7021c67fcd01f023a6f194ed0db21ec453"
   }
  }
 },
 "nbformat": 4,
 "nbformat_minor": 2
}
