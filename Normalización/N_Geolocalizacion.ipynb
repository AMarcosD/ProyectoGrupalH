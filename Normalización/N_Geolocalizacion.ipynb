{
 "cells": [
  {
   "cell_type": "code",
   "execution_count": 56,
   "metadata": {},
   "outputs": [],
   "source": [
    "import pandas as pd\n",
    "import numpy as np\n",
    "from geopy.geocoders import Nominatim \n",
    "geolocator = Nominatim(user_agent=\"leandro\")"
   ]
  },
  {
   "cell_type": "code",
   "execution_count": 57,
   "metadata": {},
   "outputs": [],
   "source": [
    "geo = pd.read_csv(r'C:\\Users\\leand\\Desktop\\Data Science (Henry)\\Proyectos\\Proyecto_grupal\\DS-Proyecto_Grupal_Olist\\data\\geolocation_dataset_brazil.csv')"
   ]
  },
  {
   "cell_type": "code",
   "execution_count": 58,
   "metadata": {},
   "outputs": [],
   "source": [
    "#Dropeamos duplicados y renombramos columnas para mantener la relación entre tablas\n",
    "\n",
    "geo.drop_duplicates(inplace=True)\n",
    "geo = geo.rename(columns={'geolocation_zip_code_prefix': 'zip_code', 'geolocation_lat':'geolatitud','geolocation_lng':'geolongitud', 'geolocation_city':'city', 'geolocation_state' : 'state'})"
   ]
  },
  {
   "cell_type": "code",
   "execution_count": 59,
   "metadata": {},
   "outputs": [],
   "source": [
    "#Utilizamos este json para normalizar el campo state\n",
    "\n",
    "dfj = pd.read_json(r'C:\\Users\\leand\\Desktop\\Data Science (Henry)\\Proyectos\\Proyecto_grupal\\DS-Proyecto_Grupal_Olist\\data\\estados.json')"
   ]
  },
  {
   "cell_type": "code",
   "execution_count": 60,
   "metadata": {},
   "outputs": [],
   "source": [
    "#Mergeamos ambas tablas\n",
    "geo = geo.merge(dfj[['nome', 'sigla']], right_on='sigla', left_on='state')\n",
    "\n",
    "#Renombramos columnas para unificar descripcion de mismo contenido de columna\n",
    "geo.rename(columns={'nome':'state_name'}, inplace=True)\n",
    "\n",
    "#Normalizamos mayúsculas\n",
    "geo['city'] = geo['city'].str.title()\n",
    "\n",
    "#Eliminamos duplicados por 'zip_code' \n",
    "geo = geo.drop_duplicates('zip_code')\n",
    "\n",
    "#Reseteamos indice\n",
    "geo = geo.reset_index(drop=True)\n",
    "\n",
    "#Finalmente, nos quedamos con las columnas que nos servirán a futuro.\n",
    "geo = geo[['zip_code', 'geolatitud', 'geolongitud', 'city', 'state_name']]"
   ]
  },
  {
   "cell_type": "code",
   "execution_count": 62,
   "metadata": {},
   "outputs": [],
   "source": [
    "#Reemplazamos aquellas latitudes y longitudes que estén en positivo\n",
    "\n",
    "geo.loc[geo.geolongitud > 0, 'geolongitud'] = geo.geolongitud * (-1)\n",
    "geo.loc[geo.geolatitud > 5, 'geolatitud'] = geo.geolatitud * (-1)"
   ]
  },
  {
   "cell_type": "code",
   "execution_count": 63,
   "metadata": {},
   "outputs": [],
   "source": [
    "# SOLUCIÒN A LOS REGISTROS CON COORDENADAS INCORRECTAS\n",
    "\n",
    "'CREAMOS MÁSCARA DONDE SE CUMPLEN LAS 3 CONDICIONES'\n",
    "a = (geo.geolongitud < -73) | (geo.geolongitud > -34) | (geo.geolatitud < -33)\n",
    "\n",
    "'Para buscar las coordenadas con más precisión'\n",
    "geo['full_data'] = geo.state_name + ',' + geo.city "
   ]
  },
  {
   "cell_type": "code",
   "execution_count": 64,
   "metadata": {},
   "outputs": [],
   "source": [
    "'Traemos las coordenadas con Geopy donde se cumple la máscara'\n",
    "\n",
    "geo.loc[a, 'gcode'] = geo[a]['full_data'].apply(geolocator.geocode)\n",
    "geo.loc[a,'lat'] = [g.latitude for g in geo[a]['gcode']]\n",
    "geo.loc[a,'long'] = [g.longitude for g in geo[a]['gcode']]"
   ]
  },
  {
   "cell_type": "code",
   "execution_count": 65,
   "metadata": {},
   "outputs": [],
   "source": [
    "'Reemplazamos en columna original'\n",
    "\n",
    "geo.loc[a, 'geolatitud'] = geo[a]['lat']\n",
    "geo.loc[a, 'geolongitud'] = geo[a]['long']"
   ]
  },
  {
   "cell_type": "code",
   "execution_count": 71,
   "metadata": {},
   "outputs": [],
   "source": [
    "# Eliminamos columnas auxiliares\n",
    "\n",
    "geo.drop(columns= ['gcode', 'lat', 'long', 'full_data'], inplace=True)"
   ]
  },
  {
   "cell_type": "code",
   "execution_count": 78,
   "metadata": {},
   "outputs": [],
   "source": [
    "geo.to_parquet('geolocation_cleanP')"
   ]
  }
 ],
 "metadata": {
  "kernelspec": {
   "display_name": "Python 3.9.12 ('datascience')",
   "language": "python",
   "name": "python3"
  },
  "language_info": {
   "codemirror_mode": {
    "name": "ipython",
    "version": 3
   },
   "file_extension": ".py",
   "mimetype": "text/x-python",
   "name": "python",
   "nbconvert_exporter": "python",
   "pygments_lexer": "ipython3",
   "version": "3.9.12"
  },
  "orig_nbformat": 4,
  "vscode": {
   "interpreter": {
    "hash": "9b0261dadc93494a3555537365c322d83416c4a1ed03d5df7c77bc94b07686c8"
   }
  }
 },
 "nbformat": 4,
 "nbformat_minor": 2
}
