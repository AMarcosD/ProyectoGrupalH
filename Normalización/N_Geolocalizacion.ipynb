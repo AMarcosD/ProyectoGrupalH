{
 "cells": [
  {
   "cell_type": "code",
   "execution_count": 3,
   "metadata": {},
   "outputs": [],
   "source": [
    "import pandas as pd\n",
    "import numpy as np"
   ]
  },
  {
   "cell_type": "markdown",
   "metadata": {},
   "source": [
    "Usamos base de datos de kaggle que utiliza el prefijo del codigo postal para normalizar los datos."
   ]
  },
  {
   "cell_type": "code",
   "execution_count": 4,
   "metadata": {},
   "outputs": [],
   "source": [
    "df = pd.read_csv(r'C:\\Users\\marco\\Desktop\\ProyectoGrupalH\\data\\geolocation_dataset_brazil.csv')"
   ]
  },
  {
   "cell_type": "code",
   "execution_count": 5,
   "metadata": {},
   "outputs": [],
   "source": [
    "#Dropeamos duplicados y renombramos columnas para unificar descripcion de mismo contenido de columna\n",
    "df.drop_duplicates(inplace=True)\n",
    "df = df.rename(columns={'geolocation_zip_code_prefix': 'zip_code', 'geolocation_lat':'geolatitud','geolocation_lng':'geolongitud', 'geolocation_city':'city', 'geolocation_state':'state'})"
   ]
  },
  {
   "cell_type": "code",
   "execution_count": 6,
   "metadata": {},
   "outputs": [],
   "source": [
    "#Utilizamos este json para normalizar el campo state\n",
    "dfj = pd.read_json(r'C:\\Users\\marco\\Desktop\\ProyectoGrupalH\\Json\\estados.json')"
   ]
  },
  {
   "cell_type": "code",
   "execution_count": 7,
   "metadata": {},
   "outputs": [],
   "source": [
    "#Mergeamos ambas tablas\n",
    "df = df.merge(dfj[['UF-nome', 'UF-sigla']], right_on='UF-sigla', left_on='state')\n",
    "#Dropeamos columna 'city_old' que hace referencia a un valor no normalizado\n",
    "df.drop(columns=['geolocation_city_old'], inplace=True)\n",
    "#Renombramos columnas para unificar descripcion de mismo contenido de columna\n",
    "df.rename(columns={'UF-nome':'state_name'}, inplace=True)\n",
    "#Normalizamos mayúsculas\n",
    "df['city'] = df['city'].str.title()\n",
    "#Eliminamos duplicados por 'zip_code' \n",
    "df = df.drop_duplicates('zip_code')\n",
    "#Reseteamos indice\n",
    "df = df.reset_index(drop=True)\n",
    "#Finalmente, nos quedamos con las columnas que nos servirán a futuro.\n",
    "df = df[['zip_code', 'geolatitud', 'geolongitud', 'city', 'state', 'state_name']]"
   ]
  },
  {
   "cell_type": "code",
   "execution_count": 8,
   "metadata": {},
   "outputs": [],
   "source": [
    "df.to_parquet(r'C:\\Users\\marco\\Desktop\\ProyectoGrupalH\\dataparquet\\geolocation_cleanP')"
   ]
  }
 ],
 "metadata": {
  "kernelspec": {
   "display_name": "Python 3.10.2 64-bit",
   "language": "python",
   "name": "python3"
  },
  "language_info": {
   "codemirror_mode": {
    "name": "ipython",
    "version": 3
   },
   "file_extension": ".py",
   "mimetype": "text/x-python",
   "name": "python",
   "nbconvert_exporter": "python",
   "pygments_lexer": "ipython3",
   "version": "3.10.2"
  },
  "orig_nbformat": 4,
  "vscode": {
   "interpreter": {
    "hash": "ba18286d27dd3f1705df4025c31d2b7021c67fcd01f023a6f194ed0db21ec453"
   }
  }
 },
 "nbformat": 4,
 "nbformat_minor": 2
}
