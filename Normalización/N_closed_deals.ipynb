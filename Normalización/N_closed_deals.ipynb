{
 "cells": [
  {
   "cell_type": "code",
   "execution_count": 14,
   "metadata": {},
   "outputs": [],
   "source": [
    "import pandas as pd\n",
    "import numpy as np"
   ]
  },
  {
   "cell_type": "code",
   "execution_count": 15,
   "metadata": {},
   "outputs": [],
   "source": [
    "data_closed = pd.read_csv(r'C:\\Users\\marco\\Desktop\\PG.V2\\data\\olist_closed_deals_dataset.csv')"
   ]
  },
  {
   "cell_type": "code",
   "execution_count": 16,
   "metadata": {},
   "outputs": [],
   "source": [
    "data_closed['won_date'] = pd.to_datetime(data_closed['won_date'])"
   ]
  },
  {
   "cell_type": "code",
   "execution_count": 17,
   "metadata": {},
   "outputs": [],
   "source": [
    "data_closed.drop(columns=['declared_monthly_revenue', 'sr_id', 'sdr_id', 'lead_behaviour_profile', 'has_company','lead_type','has_gtin','business_type' ,'average_stock', 'declared_product_catalog_size'], inplace=True)"
   ]
  },
  {
   "cell_type": "code",
   "execution_count": 18,
   "metadata": {},
   "outputs": [
    {
     "data": {
      "text/html": [
       "<div>\n",
       "<style scoped>\n",
       "    .dataframe tbody tr th:only-of-type {\n",
       "        vertical-align: middle;\n",
       "    }\n",
       "\n",
       "    .dataframe tbody tr th {\n",
       "        vertical-align: top;\n",
       "    }\n",
       "\n",
       "    .dataframe thead th {\n",
       "        text-align: right;\n",
       "    }\n",
       "</style>\n",
       "<table border=\"1\" class=\"dataframe\">\n",
       "  <thead>\n",
       "    <tr style=\"text-align: right;\">\n",
       "      <th></th>\n",
       "      <th>mql_id</th>\n",
       "      <th>seller_id</th>\n",
       "      <th>won_date</th>\n",
       "      <th>business_segment</th>\n",
       "    </tr>\n",
       "  </thead>\n",
       "  <tbody>\n",
       "    <tr>\n",
       "      <th>0</th>\n",
       "      <td>5420aad7fec3549a85876ba1c529bd84</td>\n",
       "      <td>2c43fb513632d29b3b58df74816f1b06</td>\n",
       "      <td>2018-02-26 19:58:54</td>\n",
       "      <td>pet</td>\n",
       "    </tr>\n",
       "    <tr>\n",
       "      <th>1</th>\n",
       "      <td>a555fb36b9368110ede0f043dfc3b9a0</td>\n",
       "      <td>bbb7d7893a450660432ea6652310ebb7</td>\n",
       "      <td>2018-05-08 20:17:59</td>\n",
       "      <td>car_accessories</td>\n",
       "    </tr>\n",
       "    <tr>\n",
       "      <th>2</th>\n",
       "      <td>327174d3648a2d047e8940d7d15204ca</td>\n",
       "      <td>612170e34b97004b3ba37eae81836b4c</td>\n",
       "      <td>2018-06-05 17:27:23</td>\n",
       "      <td>home_appliances</td>\n",
       "    </tr>\n",
       "    <tr>\n",
       "      <th>3</th>\n",
       "      <td>f5fee8f7da74f4887f5bcae2bafb6dd6</td>\n",
       "      <td>21e1781e36faf92725dde4730a88ca0f</td>\n",
       "      <td>2018-01-17 13:51:03</td>\n",
       "      <td>food_drink</td>\n",
       "    </tr>\n",
       "    <tr>\n",
       "      <th>4</th>\n",
       "      <td>ffe640179b554e295c167a2f6be528e0</td>\n",
       "      <td>ed8cb7b190ceb6067227478e48cf8dde</td>\n",
       "      <td>2018-07-03 20:17:45</td>\n",
       "      <td>home_appliances</td>\n",
       "    </tr>\n",
       "    <tr>\n",
       "      <th>...</th>\n",
       "      <td>...</td>\n",
       "      <td>...</td>\n",
       "      <td>...</td>\n",
       "      <td>...</td>\n",
       "    </tr>\n",
       "    <tr>\n",
       "      <th>837</th>\n",
       "      <td>df9a2abe2ad3f2d8758b675ac8331ecf</td>\n",
       "      <td>bfcc27719640628da877db48b672b169</td>\n",
       "      <td>2018-08-01 20:22:31</td>\n",
       "      <td>home_decor</td>\n",
       "    </tr>\n",
       "    <tr>\n",
       "      <th>838</th>\n",
       "      <td>8723201570415eb23b4f095d8c20a27c</td>\n",
       "      <td>4a82eab98441aeb64566e2776c1fb2b6</td>\n",
       "      <td>2018-09-27 18:58:41</td>\n",
       "      <td>construction_tools_house_garden</td>\n",
       "    </tr>\n",
       "    <tr>\n",
       "      <th>839</th>\n",
       "      <td>2e57665b8faf05c967a801eb5aedfa0a</td>\n",
       "      <td>55031883943971ca22db6894574cfe2c</td>\n",
       "      <td>2018-06-06 20:15:26</td>\n",
       "      <td>computers</td>\n",
       "    </tr>\n",
       "    <tr>\n",
       "      <th>840</th>\n",
       "      <td>40955be51cc85c5a5a6cdd12b19e9f10</td>\n",
       "      <td>c0e933c238e41f0cd459d6025ee9b364</td>\n",
       "      <td>2018-03-06 15:52:23</td>\n",
       "      <td>pet</td>\n",
       "    </tr>\n",
       "    <tr>\n",
       "      <th>841</th>\n",
       "      <td>8a6492305a5fbcdcdd1a7f5a90764c07</td>\n",
       "      <td>1bba9c94eb5c4e82fba9f7286fe81025</td>\n",
       "      <td>2018-05-02 13:31:32</td>\n",
       "      <td>household_utilities</td>\n",
       "    </tr>\n",
       "  </tbody>\n",
       "</table>\n",
       "<p>842 rows × 4 columns</p>\n",
       "</div>"
      ],
      "text/plain": [
       "                               mql_id                         seller_id  \\\n",
       "0    5420aad7fec3549a85876ba1c529bd84  2c43fb513632d29b3b58df74816f1b06   \n",
       "1    a555fb36b9368110ede0f043dfc3b9a0  bbb7d7893a450660432ea6652310ebb7   \n",
       "2    327174d3648a2d047e8940d7d15204ca  612170e34b97004b3ba37eae81836b4c   \n",
       "3    f5fee8f7da74f4887f5bcae2bafb6dd6  21e1781e36faf92725dde4730a88ca0f   \n",
       "4    ffe640179b554e295c167a2f6be528e0  ed8cb7b190ceb6067227478e48cf8dde   \n",
       "..                                ...                               ...   \n",
       "837  df9a2abe2ad3f2d8758b675ac8331ecf  bfcc27719640628da877db48b672b169   \n",
       "838  8723201570415eb23b4f095d8c20a27c  4a82eab98441aeb64566e2776c1fb2b6   \n",
       "839  2e57665b8faf05c967a801eb5aedfa0a  55031883943971ca22db6894574cfe2c   \n",
       "840  40955be51cc85c5a5a6cdd12b19e9f10  c0e933c238e41f0cd459d6025ee9b364   \n",
       "841  8a6492305a5fbcdcdd1a7f5a90764c07  1bba9c94eb5c4e82fba9f7286fe81025   \n",
       "\n",
       "               won_date                 business_segment  \n",
       "0   2018-02-26 19:58:54                              pet  \n",
       "1   2018-05-08 20:17:59                  car_accessories  \n",
       "2   2018-06-05 17:27:23                  home_appliances  \n",
       "3   2018-01-17 13:51:03                       food_drink  \n",
       "4   2018-07-03 20:17:45                  home_appliances  \n",
       "..                  ...                              ...  \n",
       "837 2018-08-01 20:22:31                       home_decor  \n",
       "838 2018-09-27 18:58:41  construction_tools_house_garden  \n",
       "839 2018-06-06 20:15:26                        computers  \n",
       "840 2018-03-06 15:52:23                              pet  \n",
       "841 2018-05-02 13:31:32              household_utilities  \n",
       "\n",
       "[842 rows x 4 columns]"
      ]
     },
     "execution_count": 18,
     "metadata": {},
     "output_type": "execute_result"
    }
   ],
   "source": [
    "data_closed"
   ]
  },
  {
   "cell_type": "code",
   "execution_count": 20,
   "metadata": {},
   "outputs": [],
   "source": [
    "data_closed.to_parquet(r'C:\\Users\\marco\\Desktop\\PG.V2\\dataparquet\\data_closedP')"
   ]
  }
 ],
 "metadata": {
  "kernelspec": {
   "display_name": "Python 3.10.2 64-bit",
   "language": "python",
   "name": "python3"
  },
  "language_info": {
   "codemirror_mode": {
    "name": "ipython",
    "version": 3
   },
   "file_extension": ".py",
   "mimetype": "text/x-python",
   "name": "python",
   "nbconvert_exporter": "python",
   "pygments_lexer": "ipython3",
   "version": "3.10.2"
  },
  "orig_nbformat": 4,
  "vscode": {
   "interpreter": {
    "hash": "ba18286d27dd3f1705df4025c31d2b7021c67fcd01f023a6f194ed0db21ec453"
   }
  }
 },
 "nbformat": 4,
 "nbformat_minor": 2
}
