{
 "cells": [
  {
   "cell_type": "code",
   "execution_count": 2,
   "metadata": {},
   "outputs": [
    {
     "name": "stderr",
     "output_type": "stream",
     "text": [
      "c:\\Users\\leand\\miniconda3\\envs\\datascience\\lib\\site-packages\\requests\\__init__.py:109: RequestsDependencyWarning: urllib3 (1.26.9) or chardet (5.0.0)/charset_normalizer (2.0.4) doesn't match a supported version!\n",
      "  warnings.warn(\n"
     ]
    }
   ],
   "source": [
    "import pandas as pd\n",
    "import numpy as np\n",
    "from datetime import datetime\n",
    "import os\n",
    "import shutil\n",
    "import mysql.connector as msql\n",
    "from mysql.connector import Error\n",
    "from geopy.geocoders import Nominatim \n",
    "geolocator = Nominatim(user_agent=\"MakroAnalyse\")\n",
    "import psycopg2\n",
    "from psycopg2 import Error\n",
    "import psycopg2.extras  "
   ]
  },
  {
   "cell_type": "code",
   "execution_count": 3,
   "metadata": {},
   "outputs": [
    {
     "name": "stdout",
     "output_type": "stream",
     "text": [
      "Database has been created successfully !!\n"
     ]
    }
   ],
   "source": [
    "import psycopg2\n",
    "\n",
    "try:  \n",
    "    # connection establishment\n",
    "    conn = psycopg2.connect(\n",
    "    database=\"postgres\",\n",
    "        user='postgres',\n",
    "        password='2685',\n",
    "        host='localhost',\n",
    "        port= '5432'\n",
    "    )\n",
    "    \n",
    "    conn.autocommit = True\n",
    "        \n",
    "    # Creating a cursor object\n",
    "    cursor = conn.cursor()\n",
    "    \n",
    "    # query to create a database \n",
    "    sql = ''' CREATE database db_olist;'''\n",
    "    # executing above query\n",
    "    cursor.execute(sql)\n",
    "    print(\"Database has been created successfully !!\");\n",
    "    \n",
    "    # Closing the connection\n",
    "    conn.close()\n",
    "except:\n",
    "    print('Database existente')"
   ]
  },
  {
   "cell_type": "markdown",
   "metadata": {},
   "source": [
    "CREACIÓN DE TABLAS"
   ]
  },
  {
   "cell_type": "code",
   "execution_count": 4,
   "metadata": {},
   "outputs": [],
   "source": [
    "#CATEGORY_PRODUCT\n",
    "\n",
    "try:\n",
    "        conn_string = \"host=%s dbname=%s user=%s password=%s\" % ('localhost', 'db_olist', 'postgres', '2685')\n",
    "        conn = psycopg2.connect(conn_string)\n",
    "        cursor = conn.cursor()\n",
    "        cursor.execute(\"CREATE TABLE category_product(product_name_id integer, product_category_name varchar, product_category_name_english varchar, PRIMARY KEY (product_category_name_english));\")\n",
    "        conn.commit()\n",
    "       \n",
    "except (Exception, psycopg2.Error) as error:\n",
    "            pass"
   ]
  },
  {
   "cell_type": "code",
   "execution_count": 5,
   "metadata": {},
   "outputs": [],
   "source": [
    "#CLOSE_DEALS\n",
    "\n",
    "try:\n",
    "        conn_string = \"host=%s dbname=%s user=%s password=%s\" % ('localhost', 'db_olist', 'postgres', '2685')\n",
    "        conn = psycopg2.connect(conn_string)\n",
    "        cursor = conn.cursor()\n",
    "        cursor.execute(\"CREATE TABLE closed_deal(closed_id integer, mql_id varchar, seller_id varchar, won_date timestamp, business_segment varchar, PRIMARY KEY (closed_id));\")\n",
    "        conn.commit()\n",
    "       \n",
    "except (Exception, psycopg2.Error) as error:\n",
    "            pass"
   ]
  },
  {
   "cell_type": "code",
   "execution_count": 6,
   "metadata": {},
   "outputs": [],
   "source": [
    "#GEOLOCATION\n",
    "\n",
    "try:\n",
    "        conn_string = \"host=%s dbname=%s user=%s password=%s\" % ('localhost', 'db_olist', 'postgres', '2685')\n",
    "        conn = psycopg2.connect(conn_string)\n",
    "        cursor = conn.cursor()\n",
    "        cursor.execute(\"CREATE TABLE geolocation (zip_code integer, geolatitud float, geolongitud float, city varchar, state_name varchar, PRIMARY KEY (zip_code));\")\n",
    "        conn.commit()\n",
    "       \n",
    "except (Exception, psycopg2.Error) as error:\n",
    "            pass"
   ]
  },
  {
   "cell_type": "code",
   "execution_count": 7,
   "metadata": {},
   "outputs": [],
   "source": [
    "#PRODUCT\n",
    "\n",
    "try:\n",
    "        conn_string = \"host=%s dbname=%s user=%s password=%s\" % ('localhost', 'db_olist', 'postgres', '2685')\n",
    "        conn = psycopg2.connect(conn_string)\n",
    "        cursor = conn.cursor()\n",
    "        cursor.execute(\"CREATE TABLE product (product_id varchar, product_category_name_english varchar, product_weight_g float, product_length_cm float, product_height_cm float, product_width_cm float, PRIMARY KEY (product_id))\")\n",
    "        conn.commit()\n",
    "       \n",
    "except (Exception, psycopg2.Error) as error:\n",
    "            pass"
   ]
  },
  {
   "cell_type": "code",
   "execution_count": 8,
   "metadata": {},
   "outputs": [],
   "source": [
    "#PAYMENT\n",
    "\n",
    "try:\n",
    "        conn_string = \"host=%s dbname=%s user=%s password=%s\" % ('localhost', 'db_olist', 'postgres', '2685')\n",
    "        conn = psycopg2.connect(conn_string)\n",
    "        cursor = conn.cursor()\n",
    "        cursor.execute(\"CREATE TABLE payment(payment_id integer, order_id varchar,payment_sequential integer, payment_type varchar, payment_installments integer, payment_value float, PRIMARY KEY(payment_id));\")\n",
    "        conn.commit()\n",
    "       \n",
    "except (Exception, psycopg2.Error) as error:\n",
    "            pass"
   ]
  },
  {
   "cell_type": "code",
   "execution_count": 9,
   "metadata": {},
   "outputs": [],
   "source": [
    "#data_order \n",
    "\n",
    "try:\n",
    "        conn_string = \"host=%s dbname=%s user=%s password=%s\" % ('localhost', 'db_olist', 'postgres', '2685')\n",
    "        conn = psycopg2.connect(conn_string)\n",
    "        cursor = conn.cursor()\n",
    "        cursor.execute(\"CREATE TABLE data_order (order_id varchar, customer_id varchar, order_status varchar, order_purchase_timestamp timestamp,\\\n",
    "                order_approved_at timestamp, order_delivered_carrier_date timestamp, order_delivered_customer_date timestamp,\\\n",
    "                    order_estimated_delivery_date timestamp, PRIMARY KEY (order_id));\")\n",
    "        conn.commit()\n",
    "\n",
    "except (Exception, psycopg2.Error) as error:\n",
    "            pass"
   ]
  },
  {
   "cell_type": "code",
   "execution_count": 10,
   "metadata": {},
   "outputs": [],
   "source": [
    "#item\n",
    "\n",
    "try:\n",
    "        conn_string = \"host=%s dbname=%s user=%s password=%s\" % ('localhost', 'db_olist', 'postgres', '2685')\n",
    "        conn = psycopg2.connect(conn_string)\n",
    "        cursor = conn.cursor()\n",
    "        cursor.execute(\"CREATE TABLE item(orderitem_id integer, order_id varchar, product_id varchar, seller_id varchar, shipping_limit_date timestamp, quantity integer, price float, freight_value float, percentagePF float, PRIMARY KEY (orderitem_id))\")\n",
    "        conn.commit()\n",
    "       \n",
    "except (Exception, psycopg2.Error) as error:\n",
    "            pass"
   ]
  },
  {
   "cell_type": "code",
   "execution_count": 11,
   "metadata": {},
   "outputs": [],
   "source": [
    "#data_review\n",
    "\n",
    "try:\n",
    "        conn_string = \"host=%s dbname=%s user=%s password=%s\" % ('localhost', 'db_olist', 'postgres', '2685')\n",
    "        conn = psycopg2.connect(conn_string)\n",
    "        cursor = conn.cursor()\n",
    "        cursor.execute(\"CREATE TABLE data_review (review_id integer, order_id varchar, review_score integer, review_creation_date date, PRIMARY KEY (review_id));\")\n",
    "        conn.commit()\n",
    "except (Exception, psycopg2.Error) as error:\n",
    "            pass"
   ]
  },
  {
   "cell_type": "code",
   "execution_count": 12,
   "metadata": {},
   "outputs": [],
   "source": [
    "#seller\n",
    "\n",
    "try:\n",
    "        conn_string = \"host=%s dbname=%s user=%s password=%s\" % ('localhost', 'db_olist', 'postgres', '2685')\n",
    "        conn = psycopg2.connect(conn_string)\n",
    "        cursor = conn.cursor()\n",
    "        cursor.execute(\"CREATE TABLE seller (seller_id varchar, zip_code int, city varchar, state_name varchar, PRIMARY KEY (seller_id));\")\n",
    "        conn.commit()\n",
    "       \n",
    "except (Exception, psycopg2.Error) as error:\n",
    "            pass"
   ]
  },
  {
   "cell_type": "code",
   "execution_count": 13,
   "metadata": {},
   "outputs": [],
   "source": [
    "#CUSTOMER\n",
    "\n",
    "try:\n",
    "        conn_string = \"host=%s dbname=%s user=%s password=%s\" % ('localhost', 'db_olist', 'postgres', '2685')\n",
    "        conn = psycopg2.connect(conn_string)\n",
    "        cursor = conn.cursor()\n",
    "        cursor.execute(\"CREATE TABLE customer (customer_id varchar, customer_unique_id varchar, zip_code integer, city varchar, state_name varchar, PRIMARY KEY (customer_id))\")\n",
    "        conn.commit()\n",
    "       \n",
    "except (Exception, psycopg2.Error) as error:\n",
    "            pass"
   ]
  },
  {
   "cell_type": "code",
   "execution_count": null,
   "metadata": {},
   "outputs": [],
   "source": [
    "conn = psycopg2.connect(\n",
    "database=\"db_olist\",\n",
    "    user='postgres',\n",
    "    password='2685',\n",
    "    host='localhost',\n",
    "    port= '5432'\n",
    ")\n",
    "conn.autocommit = True\n",
    "cursor = conn.cursor()\n",
    "\n",
    "cursor.execute(\"CREATE INDEX product_category_name_english ON category_product(product_category_name_english);\")\n",
    "cursor.execute(\"CREATE INDEX seller_id ON closed_deal(seller_id)\")\n",
    "cursor.execute('CREATE INDEX zip_code ON customer(zip_code)')\n",
    "cursor.execute('CREATE INDEX order_id ON item(order_id)')\n",
    "cursor.execute('CREATE INDEX product_id ON item(product_id)')\n",
    "cursor.execute('CREATE INDEX item_seller_id ON item(seller_id)')\n",
    "cursor.execute('CREATE INDEX payment_order_id ON payment(order_id)')\n",
    "cursor.execute('CREATE INDEX product_product_category_name_english ON product(product_category_name_english)')\n",
    "cursor.execute('CREATE INDEX review_order_id ON data_review(order_id)')\n",
    "cursor.execute('CREATE INDEX seller_zip_code ON seller(zip_code)')\n",
    "cursor.execute('CREATE INDEX customer_id ON data_order(customer_id)')\n",
    "\n",
    "conn.close()"
   ]
  },
  {
   "cell_type": "code",
   "execution_count": null,
   "metadata": {},
   "outputs": [],
   "source": [
    "conn = psycopg2.connect(\n",
    "database=\"db_olist\",\n",
    "    user='postgres',\n",
    "    password='2685',\n",
    "    host='localhost',\n",
    "    port= '5432'\n",
    ")\n",
    "conn.autocommit = True\n",
    "cursor = conn.cursor()\n",
    "\n",
    "cursor.execute(\"ALTER TABLE product ADD CONSTRAINT category_product_fk_product FOREIGN KEY (product_category_name_english) REFERENCES category_product(product_category_name_english) ON DELETE NO ACTION ON UPDATE NO ACTION;\")\n",
    "cursor.execute(\"ALTER TABLE closed_deal ADD CONSTRAINT closed_deals_fk_seller FOREIGN KEY (seller_id) REFERENCES seller (seller_id) ON DELETE NO ACTION ON UPDATE NO ACTION;\")\n",
    "cursor.execute(\"ALTER TABLE customer ADD CONSTRAINT customer_fk_geolocation FOREIGN KEY (zip_code) REFERENCES geolocation (zip_code) ON DELETE NO ACTION ON UPDATE NO ACTION;\")\n",
    "cursor.execute(\"ALTER TABLE item ADD CONSTRAINT item_fk_data_order FOREIGN KEY (order_id) REFERENCES data_order (order_id) ON DELETE NO ACTION ON UPDATE NO ACTION;\")\n",
    "cursor.execute(\"ALTER TABLE item ADD CONSTRAINT item_fk_product FOREIGN KEY (product_id) REFERENCES product (product_id) ON DELETE NO ACTION ON UPDATE NO ACTION;\")\n",
    "cursor.execute(\"ALTER TABLE item ADD CONSTRAINT item_fk_seller FOREIGN KEY (seller_id) REFERENCES seller (seller_id) ON DELETE NO ACTION ON UPDATE NO ACTION;\")\n",
    "cursor.execute(\"ALTER TABLE payment ADD CONSTRAINT payment_fk_data_order FOREIGN KEY (order_id) REFERENCES data_order (order_id) ON DELETE NO ACTION ON UPDATE NO ACTION;\")\n",
    "cursor.execute(\"ALTER TABLE product ADD CONSTRAINT product_fk_category_product FOREIGN KEY (product_category_name_english) REFERENCES category_product (product_category_name_english) ON DELETE NO ACTION ON UPDATE NO ACTION;\")\n",
    "cursor.execute(\"ALTER TABLE data_review ADD CONSTRAINT review_fk_data_order FOREIGN KEY (order_id) REFERENCES data_order (order_id) ON DELETE NO ACTION ON UPDATE NO ACTION;\")\n",
    "cursor.execute(\"ALTER TABLE seller ADD CONSTRAINT seller_fk_geolocation FOREIGN KEY (zip_code) REFERENCES geolocation (zip_code) ON DELETE NO ACTION ON UPDATE NO ACTION;\")\n",
    "cursor.execute(\"ALTER TABLE data_order ADD CONSTRAINT data_order_fk_customer FOREIGN KEY (customer_id) REFERENCES customer (customer_id) ON DELETE NO ACTION ON UPDATE NO ACTION;\")\n",
    "\n",
    "\n",
    "conn.close()"
   ]
  }
 ],
 "metadata": {
  "kernelspec": {
   "display_name": "Python 3.9.12 ('datascience')",
   "language": "python",
   "name": "python3"
  },
  "language_info": {
   "codemirror_mode": {
    "name": "ipython",
    "version": 3
   },
   "file_extension": ".py",
   "mimetype": "text/x-python",
   "name": "python",
   "nbconvert_exporter": "python",
   "pygments_lexer": "ipython3",
   "version": "3.9.12"
  },
  "orig_nbformat": 4,
  "vscode": {
   "interpreter": {
    "hash": "9b0261dadc93494a3555537365c322d83416c4a1ed03d5df7c77bc94b07686c8"
   }
  }
 },
 "nbformat": 4,
 "nbformat_minor": 2
}
