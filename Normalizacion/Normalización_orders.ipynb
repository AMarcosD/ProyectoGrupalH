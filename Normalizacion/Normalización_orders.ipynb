{
 "cells": [
  {
   "cell_type": "code",
   "execution_count": 1,
   "metadata": {},
   "outputs": [],
   "source": [
    "import numpy as np\n",
    "import pandas as pd\n",
    "import matplotlib.pyplot as plt \n",
    "import seaborn as sns"
   ]
  },
  {
   "cell_type": "code",
   "execution_count": 2,
   "metadata": {},
   "outputs": [],
   "source": [
    "data_order = pd.read_parquet(r'C:\\Users\\leand\\Desktop\\Data Science (Henry)\\Proyectos\\Proyecto_grupal\\DS-Proyecto_Grupal_Olist\\data_parquet\\data_orderP')"
   ]
  },
  {
   "cell_type": "code",
   "execution_count": 3,
   "metadata": {},
   "outputs": [
    {
     "data": {
      "text/html": [
       "<div>\n",
       "<style scoped>\n",
       "    .dataframe tbody tr th:only-of-type {\n",
       "        vertical-align: middle;\n",
       "    }\n",
       "\n",
       "    .dataframe tbody tr th {\n",
       "        vertical-align: top;\n",
       "    }\n",
       "\n",
       "    .dataframe thead th {\n",
       "        text-align: right;\n",
       "    }\n",
       "</style>\n",
       "<table border=\"1\" class=\"dataframe\">\n",
       "  <thead>\n",
       "    <tr style=\"text-align: right;\">\n",
       "      <th></th>\n",
       "      <th>order_id</th>\n",
       "      <th>customer_id</th>\n",
       "      <th>order_status</th>\n",
       "      <th>order_purchase_timestamp</th>\n",
       "      <th>order_approved_at</th>\n",
       "      <th>order_delivered_carrier_date</th>\n",
       "      <th>order_delivered_customer_date</th>\n",
       "      <th>order_estimated_delivery_date</th>\n",
       "    </tr>\n",
       "  </thead>\n",
       "  <tbody>\n",
       "    <tr>\n",
       "      <th>0</th>\n",
       "      <td>e481f51cbdc54678b7cc49136f2d6af7</td>\n",
       "      <td>9ef432eb6251297304e76186b10a928d</td>\n",
       "      <td>delivered</td>\n",
       "      <td>2017-10-02 10:56:33</td>\n",
       "      <td>2017-10-02 11:07:15</td>\n",
       "      <td>2017-10-04 19:55:00</td>\n",
       "      <td>2017-10-10 21:25:13</td>\n",
       "      <td>2017-10-18</td>\n",
       "    </tr>\n",
       "    <tr>\n",
       "      <th>1</th>\n",
       "      <td>53cdb2fc8bc7dce0b6741e2150273451</td>\n",
       "      <td>b0830fb4747a6c6d20dea0b8c802d7ef</td>\n",
       "      <td>delivered</td>\n",
       "      <td>2018-07-24 20:41:37</td>\n",
       "      <td>2018-07-26 03:24:27</td>\n",
       "      <td>2018-07-26 14:31:00</td>\n",
       "      <td>2018-08-07 15:27:45</td>\n",
       "      <td>2018-08-13</td>\n",
       "    </tr>\n",
       "  </tbody>\n",
       "</table>\n",
       "</div>"
      ],
      "text/plain": [
       "                           order_id                       customer_id  \\\n",
       "0  e481f51cbdc54678b7cc49136f2d6af7  9ef432eb6251297304e76186b10a928d   \n",
       "1  53cdb2fc8bc7dce0b6741e2150273451  b0830fb4747a6c6d20dea0b8c802d7ef   \n",
       "\n",
       "  order_status order_purchase_timestamp   order_approved_at  \\\n",
       "0    delivered      2017-10-02 10:56:33 2017-10-02 11:07:15   \n",
       "1    delivered      2018-07-24 20:41:37 2018-07-26 03:24:27   \n",
       "\n",
       "  order_delivered_carrier_date order_delivered_customer_date  \\\n",
       "0          2017-10-04 19:55:00           2017-10-10 21:25:13   \n",
       "1          2018-07-26 14:31:00           2018-08-07 15:27:45   \n",
       "\n",
       "  order_estimated_delivery_date  \n",
       "0                    2017-10-18  \n",
       "1                    2018-08-13  "
      ]
     },
     "execution_count": 3,
     "metadata": {},
     "output_type": "execute_result"
    }
   ],
   "source": [
    "data_order.head(2)"
   ]
  },
  {
   "cell_type": "code",
   "execution_count": 4,
   "metadata": {},
   "outputs": [
    {
     "name": "stdout",
     "output_type": "stream",
     "text": [
      "<class 'pandas.core.frame.DataFrame'>\n",
      "RangeIndex: 99441 entries, 0 to 99440\n",
      "Data columns (total 8 columns):\n",
      " #   Column                         Non-Null Count  Dtype         \n",
      "---  ------                         --------------  -----         \n",
      " 0   order_id                       99441 non-null  object        \n",
      " 1   customer_id                    99441 non-null  object        \n",
      " 2   order_status                   99441 non-null  object        \n",
      " 3   order_purchase_timestamp       99441 non-null  datetime64[ns]\n",
      " 4   order_approved_at              99281 non-null  datetime64[ns]\n",
      " 5   order_delivered_carrier_date   97658 non-null  datetime64[ns]\n",
      " 6   order_delivered_customer_date  96476 non-null  datetime64[ns]\n",
      " 7   order_estimated_delivery_date  99441 non-null  datetime64[ns]\n",
      "dtypes: datetime64[ns](5), object(3)\n",
      "memory usage: 6.1+ MB\n"
     ]
    }
   ],
   "source": [
    "data_order.info()"
   ]
  },
  {
   "cell_type": "code",
   "execution_count": 5,
   "metadata": {},
   "outputs": [
    {
     "data": {
      "text/plain": [
       "order_id                            0\n",
       "customer_id                         0\n",
       "order_status                        0\n",
       "order_purchase_timestamp            0\n",
       "order_approved_at                 160\n",
       "order_delivered_carrier_date     1783\n",
       "order_delivered_customer_date    2965\n",
       "order_estimated_delivery_date       0\n",
       "dtype: int64"
      ]
     },
     "execution_count": 5,
     "metadata": {},
     "output_type": "execute_result"
    }
   ],
   "source": [
    "data_order.isnull().sum()"
   ]
  },
  {
   "cell_type": "markdown",
   "metadata": {},
   "source": [
    "### ***PRIMERO HABRÍA QUE CORREGIR LOS REGISTROS DONDE LAS FECHAS SON INCONSISTENTES, Y DESPUÉS YA SÍ PASAR A LA IMPUTACIÓN DE FALTANTES***"
   ]
  },
  {
   "cell_type": "code",
   "execution_count": 6,
   "metadata": {},
   "outputs": [
    {
     "data": {
      "text/html": [
       "<div>\n",
       "<style scoped>\n",
       "    .dataframe tbody tr th:only-of-type {\n",
       "        vertical-align: middle;\n",
       "    }\n",
       "\n",
       "    .dataframe tbody tr th {\n",
       "        vertical-align: top;\n",
       "    }\n",
       "\n",
       "    .dataframe thead th {\n",
       "        text-align: right;\n",
       "    }\n",
       "</style>\n",
       "<table border=\"1\" class=\"dataframe\">\n",
       "  <thead>\n",
       "    <tr style=\"text-align: right;\">\n",
       "      <th></th>\n",
       "      <th>order_id</th>\n",
       "      <th>customer_id</th>\n",
       "      <th>order_status</th>\n",
       "      <th>order_purchase_timestamp</th>\n",
       "      <th>order_approved_at</th>\n",
       "      <th>order_delivered_carrier_date</th>\n",
       "      <th>order_delivered_customer_date</th>\n",
       "      <th>order_estimated_delivery_date</th>\n",
       "    </tr>\n",
       "  </thead>\n",
       "  <tbody>\n",
       "  </tbody>\n",
       "</table>\n",
       "</div>"
      ],
      "text/plain": [
       "Empty DataFrame\n",
       "Columns: [order_id, customer_id, order_status, order_purchase_timestamp, order_approved_at, order_delivered_carrier_date, order_delivered_customer_date, order_estimated_delivery_date]\n",
       "Index: []"
      ]
     },
     "execution_count": 6,
     "metadata": {},
     "output_type": "execute_result"
    }
   ],
   "source": [
    "'Comprobamos que no haya registros con fecha de aprobación anterior a la fecha de compra del producto'\n",
    "\n",
    "data_order[data_order['order_approved_at'] < data_order['order_purchase_timestamp']]"
   ]
  },
  {
   "cell_type": "code",
   "execution_count": 7,
   "metadata": {},
   "outputs": [
    {
     "data": {
      "text/plain": [
       "Timedelta('187 days 21:10:50')"
      ]
     },
     "execution_count": 7,
     "metadata": {},
     "output_type": "execute_result"
    }
   ],
   "source": [
    "'NO PUEDE SERRRR'\n",
    "\n",
    "(data_order['order_approved_at'] - data_order['order_purchase_timestamp']).max()"
   ]
  },
  {
   "cell_type": "code",
   "execution_count": 8,
   "metadata": {},
   "outputs": [
    {
     "data": {
      "text/html": [
       "<div>\n",
       "<style scoped>\n",
       "    .dataframe tbody tr th:only-of-type {\n",
       "        vertical-align: middle;\n",
       "    }\n",
       "\n",
       "    .dataframe tbody tr th {\n",
       "        vertical-align: top;\n",
       "    }\n",
       "\n",
       "    .dataframe thead th {\n",
       "        text-align: right;\n",
       "    }\n",
       "</style>\n",
       "<table border=\"1\" class=\"dataframe\">\n",
       "  <thead>\n",
       "    <tr style=\"text-align: right;\">\n",
       "      <th></th>\n",
       "      <th>order_id</th>\n",
       "      <th>customer_id</th>\n",
       "      <th>order_status</th>\n",
       "      <th>order_purchase_timestamp</th>\n",
       "      <th>order_approved_at</th>\n",
       "      <th>order_delivered_carrier_date</th>\n",
       "      <th>order_delivered_customer_date</th>\n",
       "      <th>order_estimated_delivery_date</th>\n",
       "    </tr>\n",
       "  </thead>\n",
       "  <tbody>\n",
       "    <tr>\n",
       "      <th>47552</th>\n",
       "      <td>1612081119e8f23745698ad3367cc14b</td>\n",
       "      <td>20d32833d8983a835cafcd54099631a0</td>\n",
       "      <td>unavailable</td>\n",
       "      <td>2016-10-05 18:06:48</td>\n",
       "      <td>2017-04-11 15:17:38</td>\n",
       "      <td>NaT</td>\n",
       "      <td>NaT</td>\n",
       "      <td>2016-11-17</td>\n",
       "    </tr>\n",
       "  </tbody>\n",
       "</table>\n",
       "</div>"
      ],
      "text/plain": [
       "                               order_id                       customer_id  \\\n",
       "47552  1612081119e8f23745698ad3367cc14b  20d32833d8983a835cafcd54099631a0   \n",
       "\n",
       "      order_status order_purchase_timestamp   order_approved_at  \\\n",
       "47552  unavailable      2016-10-05 18:06:48 2017-04-11 15:17:38   \n",
       "\n",
       "      order_delivered_carrier_date order_delivered_customer_date  \\\n",
       "47552                          NaT                           NaT   \n",
       "\n",
       "      order_estimated_delivery_date  \n",
       "47552                    2016-11-17  "
      ]
     },
     "execution_count": 8,
     "metadata": {},
     "output_type": "execute_result"
    }
   ],
   "source": [
    "'yo lo borraría a la concha de la lora. Mauro también. Y Juan ahora también'\n",
    "\n",
    "data_order[data_order.index == 47552]"
   ]
  },
  {
   "cell_type": "code",
   "execution_count": 9,
   "metadata": {},
   "outputs": [],
   "source": [
    "data_order.drop([47552], inplace= True)"
   ]
  },
  {
   "cell_type": "code",
   "execution_count": 10,
   "metadata": {},
   "outputs": [
    {
     "data": {
      "text/plain": [
       "62293   60 days 10:51:59\n",
       "4541    32 days 16:02:44\n",
       "4396    32 days 13:01:41\n",
       "43697   32 days 12:51:18\n",
       "96251   30 days 21:26:37\n",
       "              ...       \n",
       "97696                NaT\n",
       "98415                NaT\n",
       "98909                NaT\n",
       "99283                NaT\n",
       "99347                NaT\n",
       "Length: 99440, dtype: timedelta64[ns]"
      ]
     },
     "execution_count": 10,
     "metadata": {},
     "output_type": "execute_result"
    }
   ],
   "source": [
    "(data_order['order_approved_at'] - data_order['order_purchase_timestamp']).sort_values(ascending= False)"
   ]
  },
  {
   "cell_type": "markdown",
   "metadata": {},
   "source": [
    "*La mayoría de los registros con varios días de diferencia tienen información valiosa, por eso no es recomendable eliminarlos. Muchas son ventas que no se terminaron concretando, dato que nos sirve para un de nuestros KPI*"
   ]
  },
  {
   "cell_type": "code",
   "execution_count": 12,
   "metadata": {},
   "outputs": [],
   "source": [
    "diferencia_compra_aprobacion = data_order['order_approved_at'] - data_order['order_purchase_timestamp']"
   ]
  },
  {
   "cell_type": "code",
   "execution_count": 13,
   "metadata": {},
   "outputs": [
    {
     "data": {
      "text/plain": [
       "0        0.0\n",
       "1        1.0\n",
       "2        0.0\n",
       "3        0.0\n",
       "4        0.0\n",
       "        ... \n",
       "99436    0.0\n",
       "99437    0.0\n",
       "99438    0.0\n",
       "99439    0.0\n",
       "99440    0.0\n",
       "Length: 99440, dtype: float64"
      ]
     },
     "execution_count": 13,
     "metadata": {},
     "output_type": "execute_result"
    }
   ],
   "source": [
    "diferencia_compra_aprobacion.dt.days"
   ]
  },
  {
   "cell_type": "code",
   "execution_count": 14,
   "metadata": {},
   "outputs": [
    {
     "data": {
      "text/plain": [
       "count    99280.000000\n",
       "mean         0.267919\n",
       "std          0.788281\n",
       "min          0.000000\n",
       "25%          0.000000\n",
       "50%          0.000000\n",
       "75%          0.000000\n",
       "max         60.000000\n",
       "dtype: float64"
      ]
     },
     "execution_count": 14,
     "metadata": {},
     "output_type": "execute_result"
    }
   ],
   "source": [
    "diferencia_compra_aprobacion.dt.days.describe()"
   ]
  },
  {
   "cell_type": "code",
   "execution_count": 15,
   "metadata": {},
   "outputs": [
    {
     "data": {
      "text/plain": [
       "<AxesSubplot:>"
      ]
     },
     "execution_count": 15,
     "metadata": {},
     "output_type": "execute_result"
    },
    {
     "data": {
      "image/png": "[encoded data removed]",
      "text/plain": [
       "<Figure size 1440x360 with 1 Axes>"
      ]
     },
     "metadata": {
      "needs_background": "light"
     },
     "output_type": "display_data"
    }
   ],
   "source": [
    "plt.figure(figsize=(20,5))\n",
    "sns.boxplot(x = diferencia_compra_aprobacion.dt.days)"
   ]
  },
  {
   "cell_type": "markdown",
   "metadata": {},
   "source": [
    "#### Diferencia entre que una orden es aprobada y enviada"
   ]
  },
  {
   "cell_type": "code",
   "execution_count": 16,
   "metadata": {},
   "outputs": [
    {
     "data": {
      "text/plain": [
       "Timedelta('-172 days +18:44:38')"
      ]
     },
     "execution_count": 16,
     "metadata": {},
     "output_type": "execute_result"
    }
   ],
   "source": [
    "'ESTÁ MAAAAAL'\n",
    "\n",
    "(data_order['order_delivered_carrier_date'] - data_order['order_approved_at']).min()"
   ]
  },
  {
   "cell_type": "code",
   "execution_count": 18,
   "metadata": {},
   "outputs": [],
   "source": [
    "diferencia_aprobacion_envio = data_order['order_delivered_carrier_date'] - data_order['order_approved_at']"
   ]
  },
  {
   "cell_type": "code",
   "execution_count": 21,
   "metadata": {},
   "outputs": [
    {
     "data": {
      "text/plain": [
       "Timedelta('125 days 18:18:06')"
      ]
     },
     "execution_count": 21,
     "metadata": {},
     "output_type": "execute_result"
    }
   ],
   "source": [
    "diferencia_aprobacion_envio.max()"
   ]
  },
  {
   "cell_type": "code",
   "execution_count": 22,
   "metadata": {},
   "outputs": [
    {
     "data": {
      "text/html": [
       "<div>\n",
       "<style scoped>\n",
       "    .dataframe tbody tr th:only-of-type {\n",
       "        vertical-align: middle;\n",
       "    }\n",
       "\n",
       "    .dataframe tbody tr th {\n",
       "        vertical-align: top;\n",
       "    }\n",
       "\n",
       "    .dataframe thead th {\n",
       "        text-align: right;\n",
       "    }\n",
       "</style>\n",
       "<table border=\"1\" class=\"dataframe\">\n",
       "  <thead>\n",
       "    <tr style=\"text-align: right;\">\n",
       "      <th></th>\n",
       "      <th>order_id</th>\n",
       "      <th>customer_id</th>\n",
       "      <th>order_status</th>\n",
       "      <th>order_purchase_timestamp</th>\n",
       "      <th>order_approved_at</th>\n",
       "      <th>order_delivered_carrier_date</th>\n",
       "      <th>order_delivered_customer_date</th>\n",
       "      <th>order_estimated_delivery_date</th>\n",
       "    </tr>\n",
       "  </thead>\n",
       "  <tbody>\n",
       "    <tr>\n",
       "      <th>36305</th>\n",
       "      <td>da81fbc27b55e0f3d2813cf2078dc780</td>\n",
       "      <td>9cb739dc712ebd193e4eb94f3aeb8d20</td>\n",
       "      <td>delivered</td>\n",
       "      <td>2017-11-14 21:07:55</td>\n",
       "      <td>2017-11-14 21:26:34</td>\n",
       "      <td>2018-03-20 15:44:40</td>\n",
       "      <td>2018-03-21 00:18:54</td>\n",
       "      <td>2017-12-11</td>\n",
       "    </tr>\n",
       "  </tbody>\n",
       "</table>\n",
       "</div>"
      ],
      "text/plain": [
       "                               order_id                       customer_id  \\\n",
       "36305  da81fbc27b55e0f3d2813cf2078dc780  9cb739dc712ebd193e4eb94f3aeb8d20   \n",
       "\n",
       "      order_status order_purchase_timestamp   order_approved_at  \\\n",
       "36305    delivered      2017-11-14 21:07:55 2017-11-14 21:26:34   \n",
       "\n",
       "      order_delivered_carrier_date order_delivered_customer_date  \\\n",
       "36305          2018-03-20 15:44:40           2018-03-21 00:18:54   \n",
       "\n",
       "      order_estimated_delivery_date  \n",
       "36305                    2017-12-11  "
      ]
     },
     "execution_count": 22,
     "metadata": {},
     "output_type": "execute_result"
    }
   ],
   "source": [
    "data_order[data_order.index == 36305]"
   ]
  },
  {
   "cell_type": "code",
   "execution_count": 23,
   "metadata": {},
   "outputs": [
    {
     "data": {
      "text/plain": [
       "36305   125 days 18:18:06\n",
       "35213   107 days 01:16:38\n",
       "3077    101 days 08:40:15\n",
       "44200    64 days 13:41:06\n",
       "71854    62 days 14:13:29\n",
       "               ...       \n",
       "99283                 NaT\n",
       "99313                 NaT\n",
       "99347                 NaT\n",
       "99348                 NaT\n",
       "99415                 NaT\n",
       "Length: 99440, dtype: timedelta64[ns]"
      ]
     },
     "execution_count": 23,
     "metadata": {},
     "output_type": "execute_result"
    }
   ],
   "source": [
    "diferencia_aprobacion_envio.sort_values(ascending= False)"
   ]
  },
  {
   "cell_type": "code",
   "execution_count": 24,
   "metadata": {},
   "outputs": [
    {
     "data": {
      "text/plain": [
       "<AxesSubplot:>"
      ]
     },
     "execution_count": 24,
     "metadata": {},
     "output_type": "execute_result"
    },
    {
     "data": {
      "image/png": "[encoded data removed]",
      "text/plain": [
       "<Figure size 1440x360 with 1 Axes>"
      ]
     },
     "metadata": {
      "needs_background": "light"
     },
     "output_type": "display_data"
    }
   ],
   "source": [
    "plt.figure(figsize=(20,5))\n",
    "sns.boxplot(x = diferencia_aprobacion_envio.dt.days)"
   ]
  },
  {
   "cell_type": "code",
   "execution_count": 25,
   "metadata": {},
   "outputs": [
    {
     "data": {
      "text/plain": [
       "1359"
      ]
     },
     "execution_count": 25,
     "metadata": {},
     "output_type": "execute_result"
    }
   ],
   "source": [
    "(diferencia_aprobacion_envio.dt.days < 0).sum()"
   ]
  },
  {
   "cell_type": "code",
   "execution_count": 40,
   "metadata": {},
   "outputs": [
    {
     "data": {
      "text/html": [
       "<div>\n",
       "<style scoped>\n",
       "    .dataframe tbody tr th:only-of-type {\n",
       "        vertical-align: middle;\n",
       "    }\n",
       "\n",
       "    .dataframe tbody tr th {\n",
       "        vertical-align: top;\n",
       "    }\n",
       "\n",
       "    .dataframe thead th {\n",
       "        text-align: right;\n",
       "    }\n",
       "</style>\n",
       "<table border=\"1\" class=\"dataframe\">\n",
       "  <thead>\n",
       "    <tr style=\"text-align: right;\">\n",
       "      <th></th>\n",
       "      <th>order_id</th>\n",
       "      <th>customer_id</th>\n",
       "      <th>order_status</th>\n",
       "      <th>order_purchase_timestamp</th>\n",
       "      <th>order_approved_at</th>\n",
       "      <th>order_delivered_carrier_date</th>\n",
       "      <th>order_delivered_customer_date</th>\n",
       "      <th>order_estimated_delivery_date</th>\n",
       "    </tr>\n",
       "  </thead>\n",
       "  <tbody>\n",
       "    <tr>\n",
       "      <th>15</th>\n",
       "      <td>dcb36b511fcac050b97cd5c05de84dc3</td>\n",
       "      <td>3b6828a50ffe546942b7a473d70ac0fc</td>\n",
       "      <td>delivered</td>\n",
       "      <td>2018-06-07 19:03:12</td>\n",
       "      <td>2018-06-12 23:31:02</td>\n",
       "      <td>2018-06-11 14:54:00</td>\n",
       "      <td>2018-06-21 15:34:32</td>\n",
       "      <td>2018-07-04</td>\n",
       "    </tr>\n",
       "    <tr>\n",
       "      <th>64</th>\n",
       "      <td>688052146432ef8253587b930b01a06d</td>\n",
       "      <td>81e08b08e5ed4472008030d70327c71f</td>\n",
       "      <td>delivered</td>\n",
       "      <td>2018-04-22 08:48:13</td>\n",
       "      <td>2018-04-24 18:25:22</td>\n",
       "      <td>2018-04-23 19:19:14</td>\n",
       "      <td>2018-04-24 19:31:58</td>\n",
       "      <td>2018-05-15</td>\n",
       "    </tr>\n",
       "    <tr>\n",
       "      <th>199</th>\n",
       "      <td>58d4c4747ee059eeeb865b349b41f53a</td>\n",
       "      <td>1755fad7863475346bc6c3773fe055d3</td>\n",
       "      <td>delivered</td>\n",
       "      <td>2018-07-21 12:49:32</td>\n",
       "      <td>2018-07-26 23:31:53</td>\n",
       "      <td>2018-07-24 12:57:00</td>\n",
       "      <td>2018-07-25 23:58:19</td>\n",
       "      <td>2018-07-31</td>\n",
       "    </tr>\n",
       "    <tr>\n",
       "      <th>210</th>\n",
       "      <td>412fccb2b44a99b36714bca3fef8ad7b</td>\n",
       "      <td>c6865c523687cb3f235aa599afef1710</td>\n",
       "      <td>delivered</td>\n",
       "      <td>2018-07-22 22:30:05</td>\n",
       "      <td>2018-07-23 12:31:53</td>\n",
       "      <td>2018-07-23 12:24:00</td>\n",
       "      <td>2018-07-24 19:26:42</td>\n",
       "      <td>2018-07-31</td>\n",
       "    </tr>\n",
       "    <tr>\n",
       "      <th>415</th>\n",
       "      <td>56a4ac10a4a8f2ba7693523bb439eede</td>\n",
       "      <td>78438ba6ace7d2cb023dbbc81b083562</td>\n",
       "      <td>delivered</td>\n",
       "      <td>2018-07-22 13:04:47</td>\n",
       "      <td>2018-07-27 23:31:09</td>\n",
       "      <td>2018-07-24 14:03:00</td>\n",
       "      <td>2018-07-28 00:05:39</td>\n",
       "      <td>2018-08-06</td>\n",
       "    </tr>\n",
       "    <tr>\n",
       "      <th>...</th>\n",
       "      <td>...</td>\n",
       "      <td>...</td>\n",
       "      <td>...</td>\n",
       "      <td>...</td>\n",
       "      <td>...</td>\n",
       "      <td>...</td>\n",
       "      <td>...</td>\n",
       "      <td>...</td>\n",
       "    </tr>\n",
       "    <tr>\n",
       "      <th>99091</th>\n",
       "      <td>240ead1a7284667e0ec71d01f80e4d5e</td>\n",
       "      <td>fcdd7556401aaa1c980f8b67a69f95dc</td>\n",
       "      <td>delivered</td>\n",
       "      <td>2018-07-02 16:30:02</td>\n",
       "      <td>2018-07-05 16:17:59</td>\n",
       "      <td>2018-07-05 14:11:00</td>\n",
       "      <td>2018-07-10 23:21:47</td>\n",
       "      <td>2018-07-24</td>\n",
       "    </tr>\n",
       "    <tr>\n",
       "      <th>99230</th>\n",
       "      <td>78008d03bd8ef7fcf1568728b316553c</td>\n",
       "      <td>043e3254e68daf7256bda1c9c03c2286</td>\n",
       "      <td>delivered</td>\n",
       "      <td>2018-07-03 13:11:13</td>\n",
       "      <td>2018-07-05 16:32:52</td>\n",
       "      <td>2018-07-03 12:57:00</td>\n",
       "      <td>2018-07-10 17:47:39</td>\n",
       "      <td>2018-07-23</td>\n",
       "    </tr>\n",
       "    <tr>\n",
       "      <th>99266</th>\n",
       "      <td>76a948cd55bf22799753720d4545dd2d</td>\n",
       "      <td>3f20a07b28aa252d0502fe7f7eb030a9</td>\n",
       "      <td>delivered</td>\n",
       "      <td>2018-01-30 02:41:30</td>\n",
       "      <td>2018-02-04 23:31:46</td>\n",
       "      <td>2018-01-31 18:11:58</td>\n",
       "      <td>2018-03-18 20:08:50</td>\n",
       "      <td>2018-03-02</td>\n",
       "    </tr>\n",
       "    <tr>\n",
       "      <th>99377</th>\n",
       "      <td>a6bd1f93b7ff72cc348ca07f38ec4bee</td>\n",
       "      <td>6d63fa86bd2f62908ad328325799152f</td>\n",
       "      <td>delivered</td>\n",
       "      <td>2018-04-20 17:28:40</td>\n",
       "      <td>2018-04-24 19:26:10</td>\n",
       "      <td>2018-04-23 17:18:40</td>\n",
       "      <td>2018-04-28 17:38:42</td>\n",
       "      <td>2018-05-15</td>\n",
       "    </tr>\n",
       "    <tr>\n",
       "      <th>99406</th>\n",
       "      <td>7fd85cb0143de098a4c5ab5a57bfbd91</td>\n",
       "      <td>d32034dfc685b1ae15dd4c78eace868e</td>\n",
       "      <td>delivered</td>\n",
       "      <td>2017-05-04 21:05:28</td>\n",
       "      <td>2017-05-09 22:33:28</td>\n",
       "      <td>2017-05-09 17:02:58</td>\n",
       "      <td>2017-05-18 06:34:38</td>\n",
       "      <td>2017-06-01</td>\n",
       "    </tr>\n",
       "  </tbody>\n",
       "</table>\n",
       "<p>1359 rows × 8 columns</p>\n",
       "</div>"
      ],
      "text/plain": [
       "                               order_id                       customer_id  \\\n",
       "15     dcb36b511fcac050b97cd5c05de84dc3  3b6828a50ffe546942b7a473d70ac0fc   \n",
       "64     688052146432ef8253587b930b01a06d  81e08b08e5ed4472008030d70327c71f   \n",
       "199    58d4c4747ee059eeeb865b349b41f53a  1755fad7863475346bc6c3773fe055d3   \n",
       "210    412fccb2b44a99b36714bca3fef8ad7b  c6865c523687cb3f235aa599afef1710   \n",
       "415    56a4ac10a4a8f2ba7693523bb439eede  78438ba6ace7d2cb023dbbc81b083562   \n",
       "...                                 ...                               ...   \n",
       "99091  240ead1a7284667e0ec71d01f80e4d5e  fcdd7556401aaa1c980f8b67a69f95dc   \n",
       "99230  78008d03bd8ef7fcf1568728b316553c  043e3254e68daf7256bda1c9c03c2286   \n",
       "99266  76a948cd55bf22799753720d4545dd2d  3f20a07b28aa252d0502fe7f7eb030a9   \n",
       "99377  a6bd1f93b7ff72cc348ca07f38ec4bee  6d63fa86bd2f62908ad328325799152f   \n",
       "99406  7fd85cb0143de098a4c5ab5a57bfbd91  d32034dfc685b1ae15dd4c78eace868e   \n",
       "\n",
       "      order_status order_purchase_timestamp   order_approved_at  \\\n",
       "15       delivered      2018-06-07 19:03:12 2018-06-12 23:31:02   \n",
       "64       delivered      2018-04-22 08:48:13 2018-04-24 18:25:22   \n",
       "199      delivered      2018-07-21 12:49:32 2018-07-26 23:31:53   \n",
       "210      delivered      2018-07-22 22:30:05 2018-07-23 12:31:53   \n",
       "415      delivered      2018-07-22 13:04:47 2018-07-27 23:31:09   \n",
       "...            ...                      ...                 ...   \n",
       "99091    delivered      2018-07-02 16:30:02 2018-07-05 16:17:59   \n",
       "99230    delivered      2018-07-03 13:11:13 2018-07-05 16:32:52   \n",
       "99266    delivered      2018-01-30 02:41:30 2018-02-04 23:31:46   \n",
       "99377    delivered      2018-04-20 17:28:40 2018-04-24 19:26:10   \n",
       "99406    delivered      2017-05-04 21:05:28 2017-05-09 22:33:28   \n",
       "\n",
       "      order_delivered_carrier_date order_delivered_customer_date  \\\n",
       "15             2018-06-11 14:54:00           2018-06-21 15:34:32   \n",
       "64             2018-04-23 19:19:14           2018-04-24 19:31:58   \n",
       "199            2018-07-24 12:57:00           2018-07-25 23:58:19   \n",
       "210            2018-07-23 12:24:00           2018-07-24 19:26:42   \n",
       "415            2018-07-24 14:03:00           2018-07-28 00:05:39   \n",
       "...                            ...                           ...   \n",
       "99091          2018-07-05 14:11:00           2018-07-10 23:21:47   \n",
       "99230          2018-07-03 12:57:00           2018-07-10 17:47:39   \n",
       "99266          2018-01-31 18:11:58           2018-03-18 20:08:50   \n",
       "99377          2018-04-23 17:18:40           2018-04-28 17:38:42   \n",
       "99406          2017-05-09 17:02:58           2017-05-18 06:34:38   \n",
       "\n",
       "      order_estimated_delivery_date  \n",
       "15                       2018-07-04  \n",
       "64                       2018-05-15  \n",
       "199                      2018-07-31  \n",
       "210                      2018-07-31  \n",
       "415                      2018-08-06  \n",
       "...                             ...  \n",
       "99091                    2018-07-24  \n",
       "99230                    2018-07-23  \n",
       "99266                    2018-03-02  \n",
       "99377                    2018-05-15  \n",
       "99406                    2017-06-01  \n",
       "\n",
       "[1359 rows x 8 columns]"
      ]
     },
     "execution_count": 40,
     "metadata": {},
     "output_type": "execute_result"
    }
   ],
   "source": [
    "data_order[diferencia_aprobacion_envio.dt.days < 0]"
   ]
  },
  {
   "cell_type": "markdown",
   "metadata": {},
   "source": [
    "#### TRATAMIENTO DE VALORES QUE ESTÁN MAL EN LA FECHA DE APROBACIÓN RESPECTO A LA FECHA DE COMPRA"
   ]
  },
  {
   "cell_type": "code",
   "execution_count": 26,
   "metadata": {},
   "outputs": [],
   "source": [
    "Q1 = diferencia_compra_aprobacion.dt.days.quantile(0.25) \n",
    "Q3 = diferencia_compra_aprobacion.dt.days.quantile(0.75)\n",
    "IQR = Q3 - Q1\n",
    "BI = Q1 - 1.5*IQR\n",
    "BS = Q3 + 1.5*IQR\n",
    "out = (diferencia_compra_aprobacion.dt.days<BI) | (diferencia_compra_aprobacion.dt.days>BS)"
   ]
  },
  {
   "cell_type": "code",
   "execution_count": 27,
   "metadata": {},
   "outputs": [
    {
     "data": {
      "text/plain": [
       "0        0.0\n",
       "1        1.0\n",
       "2        0.0\n",
       "3        0.0\n",
       "4        0.0\n",
       "        ... \n",
       "99436    0.0\n",
       "99437    0.0\n",
       "99438    0.0\n",
       "99439    0.0\n",
       "99440    0.0\n",
       "Length: 99440, dtype: float64"
      ]
     },
     "execution_count": 27,
     "metadata": {},
     "output_type": "execute_result"
    }
   ],
   "source": [
    "diferencia_compra_aprobacion.dt.days"
   ]
  },
  {
   "cell_type": "code",
   "execution_count": 28,
   "metadata": {},
   "outputs": [
    {
     "data": {
      "text/plain": [
       "17419"
      ]
     },
     "execution_count": 28,
     "metadata": {},
     "output_type": "execute_result"
    }
   ],
   "source": [
    "out.sum()"
   ]
  },
  {
   "cell_type": "code",
   "execution_count": 29,
   "metadata": {},
   "outputs": [
    {
     "data": {
      "text/plain": [
       "0       0 days 00:10:42\n",
       "2       0 days 00:16:34\n",
       "3       0 days 00:17:53\n",
       "4       0 days 01:01:50\n",
       "5       0 days 00:13:08\n",
       "              ...      \n",
       "99436   0 days 00:00:00\n",
       "99437   0 days 00:11:39\n",
       "99438   0 days 00:17:33\n",
       "99439   0 days 00:07:54\n",
       "99440   0 days 14:22:58\n",
       "Length: 82021, dtype: timedelta64[ns]"
      ]
     },
     "execution_count": 29,
     "metadata": {},
     "output_type": "execute_result"
    }
   ],
   "source": [
    "diferencia_compra_aprobacion[~out]"
   ]
  },
  {
   "cell_type": "code",
   "execution_count": 30,
   "metadata": {},
   "outputs": [],
   "source": [
    "'Calculamos el promedio SIN LOS OUTLIERS para que no se distorsione la métrica. ESTO ES CLAVEEEE :). Antes daba 10 horitas'\n",
    "\n",
    "promedio_demora_aprobacion = diferencia_compra_aprobacion[~out].mean()"
   ]
  },
  {
   "cell_type": "code",
   "execution_count": 31,
   "metadata": {},
   "outputs": [
    {
     "data": {
      "text/plain": [
       "Timedelta('0 days 02:48:30.204700651')"
      ]
     },
     "execution_count": 31,
     "metadata": {},
     "output_type": "execute_result"
    }
   ],
   "source": [
    "promedio_demora_aprobacion"
   ]
  },
  {
   "cell_type": "code",
   "execution_count": 41,
   "metadata": {},
   "outputs": [],
   "source": [
    "'Procedemos a imputar donde hay incosistencia entre fecha de aprobación y fecha de salida del producto'\n",
    "\n",
    "\n",
    "data_order.loc[diferencia_aprobacion_envio.dt.days < 0, 'order_approved_at'] = data_order.order_purchase_timestamp + pd.Timedelta(promedio_demora_aprobacion) "
   ]
  },
  {
   "cell_type": "code",
   "execution_count": 42,
   "metadata": {},
   "outputs": [
    {
     "data": {
      "text/html": [
       "<div>\n",
       "<style scoped>\n",
       "    .dataframe tbody tr th:only-of-type {\n",
       "        vertical-align: middle;\n",
       "    }\n",
       "\n",
       "    .dataframe tbody tr th {\n",
       "        vertical-align: top;\n",
       "    }\n",
       "\n",
       "    .dataframe thead th {\n",
       "        text-align: right;\n",
       "    }\n",
       "</style>\n",
       "<table border=\"1\" class=\"dataframe\">\n",
       "  <thead>\n",
       "    <tr style=\"text-align: right;\">\n",
       "      <th></th>\n",
       "      <th>order_id</th>\n",
       "      <th>customer_id</th>\n",
       "      <th>order_status</th>\n",
       "      <th>order_purchase_timestamp</th>\n",
       "      <th>order_approved_at</th>\n",
       "      <th>order_delivered_carrier_date</th>\n",
       "      <th>order_delivered_customer_date</th>\n",
       "      <th>order_estimated_delivery_date</th>\n",
       "    </tr>\n",
       "  </thead>\n",
       "  <tbody>\n",
       "    <tr>\n",
       "      <th>15</th>\n",
       "      <td>dcb36b511fcac050b97cd5c05de84dc3</td>\n",
       "      <td>3b6828a50ffe546942b7a473d70ac0fc</td>\n",
       "      <td>delivered</td>\n",
       "      <td>2018-06-07 19:03:12</td>\n",
       "      <td>2018-06-07 21:51:42.204700651</td>\n",
       "      <td>2018-06-11 14:54:00</td>\n",
       "      <td>2018-06-21 15:34:32</td>\n",
       "      <td>2018-07-04</td>\n",
       "    </tr>\n",
       "  </tbody>\n",
       "</table>\n",
       "</div>"
      ],
      "text/plain": [
       "                            order_id                       customer_id  \\\n",
       "15  dcb36b511fcac050b97cd5c05de84dc3  3b6828a50ffe546942b7a473d70ac0fc   \n",
       "\n",
       "   order_status order_purchase_timestamp             order_approved_at  \\\n",
       "15    delivered      2018-06-07 19:03:12 2018-06-07 21:51:42.204700651   \n",
       "\n",
       "   order_delivered_carrier_date order_delivered_customer_date  \\\n",
       "15          2018-06-11 14:54:00           2018-06-21 15:34:32   \n",
       "\n",
       "   order_estimated_delivery_date  \n",
       "15                    2018-07-04  "
      ]
     },
     "execution_count": 42,
     "metadata": {},
     "output_type": "execute_result"
    }
   ],
   "source": [
    "'chequeamos que el método magistral haya dado sus frutos. ah ponia frutos'\n",
    "\n",
    "data_order[data_order.index == 15]"
   ]
  },
  {
   "cell_type": "code",
   "execution_count": 43,
   "metadata": {},
   "outputs": [],
   "source": [
    "diferencia_aprobacion_envio_2 = data_order['order_delivered_carrier_date'] - data_order['order_approved_at']"
   ]
  },
  {
   "cell_type": "code",
   "execution_count": 44,
   "metadata": {},
   "outputs": [
    {
     "data": {
      "text/plain": [
       "<AxesSubplot:>"
      ]
     },
     "execution_count": 44,
     "metadata": {},
     "output_type": "execute_result"
    },
    {
     "data": {
      "image/png": "[encoded data removed]",
      "text/plain": [
       "<Figure size 1440x360 with 1 Axes>"
      ]
     },
     "metadata": {
      "needs_background": "light"
     },
     "output_type": "display_data"
    }
   ],
   "source": [
    "plt.figure(figsize=(20,5))\n",
    "sns.boxplot(x = diferencia_aprobacion_envio_2.dt.days)"
   ]
  },
  {
   "cell_type": "markdown",
   "metadata": {},
   "source": [
    "Podemos ver que todavía quedaron algunos mal, eso es porque están mal los valores de los otros campos de fecha"
   ]
  },
  {
   "cell_type": "code",
   "execution_count": 180,
   "metadata": {},
   "outputs": [
    {
     "data": {
      "text/plain": [
       "273"
      ]
     },
     "execution_count": 180,
     "metadata": {},
     "output_type": "execute_result"
    }
   ],
   "source": [
    "'Antes eran 1359'\n",
    "\n",
    "(diferencia_aprobacion_envio_2.dt.days < 0).sum()"
   ]
  },
  {
   "cell_type": "code",
   "execution_count": 182,
   "metadata": {},
   "outputs": [
    {
     "data": {
      "text/html": [
       "<div>\n",
       "<style scoped>\n",
       "    .dataframe tbody tr th:only-of-type {\n",
       "        vertical-align: middle;\n",
       "    }\n",
       "\n",
       "    .dataframe tbody tr th {\n",
       "        vertical-align: top;\n",
       "    }\n",
       "\n",
       "    .dataframe thead th {\n",
       "        text-align: right;\n",
       "    }\n",
       "</style>\n",
       "<table border=\"1\" class=\"dataframe\">\n",
       "  <thead>\n",
       "    <tr style=\"text-align: right;\">\n",
       "      <th></th>\n",
       "      <th>order_id</th>\n",
       "      <th>customer_id</th>\n",
       "      <th>order_status</th>\n",
       "      <th>order_purchase_timestamp</th>\n",
       "      <th>order_approved_at</th>\n",
       "      <th>order_delivered_carrier_date</th>\n",
       "      <th>order_delivered_customer_date</th>\n",
       "      <th>order_estimated_delivery_date</th>\n",
       "    </tr>\n",
       "  </thead>\n",
       "  <tbody>\n",
       "    <tr>\n",
       "      <th>615</th>\n",
       "      <td>b9afddbdcfadc9a87b41a83271c3e888</td>\n",
       "      <td>85c6af75161b8b2b1af98e82b5a6a5a5</td>\n",
       "      <td>delivered</td>\n",
       "      <td>2018-08-16 13:50:48</td>\n",
       "      <td>2018-08-16 16:39:18.204700651</td>\n",
       "      <td>2018-08-16 13:27:00</td>\n",
       "      <td>2018-08-24 14:58:37</td>\n",
       "      <td>2018-09-04</td>\n",
       "    </tr>\n",
       "    <tr>\n",
       "      <th>1031</th>\n",
       "      <td>95fa26b6ea476ed040e592e0a825d6f0</td>\n",
       "      <td>9aad6db5643769b3d802a87328ec31e2</td>\n",
       "      <td>delivered</td>\n",
       "      <td>2018-06-06 13:48:42</td>\n",
       "      <td>2018-06-06 16:37:12.204700651</td>\n",
       "      <td>2018-06-06 14:02:00</td>\n",
       "      <td>2018-06-11 16:55:40</td>\n",
       "      <td>2018-07-12</td>\n",
       "    </tr>\n",
       "    <tr>\n",
       "      <th>1111</th>\n",
       "      <td>ad133696906f6a78826daa0911b7daec</td>\n",
       "      <td>e6f5b234bb0d847f10eebd70130c5d49</td>\n",
       "      <td>delivered</td>\n",
       "      <td>2018-06-15 15:41:22</td>\n",
       "      <td>2018-06-15 18:29:52.204700651</td>\n",
       "      <td>2018-06-15 14:52:00</td>\n",
       "      <td>2018-06-22 18:09:37</td>\n",
       "      <td>2018-07-18</td>\n",
       "    </tr>\n",
       "    <tr>\n",
       "      <th>1329</th>\n",
       "      <td>74e033208dc13a7b8127eb8e73d09b76</td>\n",
       "      <td>72fcbb1145f2889eddcba6d6c1d6c090</td>\n",
       "      <td>delivered</td>\n",
       "      <td>2018-05-02 10:48:44</td>\n",
       "      <td>2018-05-02 13:37:14.204700651</td>\n",
       "      <td>2018-05-02 09:49:00</td>\n",
       "      <td>2018-05-07 23:06:36</td>\n",
       "      <td>2018-05-29</td>\n",
       "    </tr>\n",
       "    <tr>\n",
       "      <th>1372</th>\n",
       "      <td>a6b58794fd2ba533359a76c08df576e3</td>\n",
       "      <td>ccd8e3459ad58ae538c9d2cf35532ba4</td>\n",
       "      <td>delivered</td>\n",
       "      <td>2018-05-14 15:18:23</td>\n",
       "      <td>2018-05-14 18:06:53.204700651</td>\n",
       "      <td>2018-05-14 13:46:00</td>\n",
       "      <td>2018-05-19 19:33:32</td>\n",
       "      <td>2018-06-08</td>\n",
       "    </tr>\n",
       "    <tr>\n",
       "      <th>...</th>\n",
       "      <td>...</td>\n",
       "      <td>...</td>\n",
       "      <td>...</td>\n",
       "      <td>...</td>\n",
       "      <td>...</td>\n",
       "      <td>...</td>\n",
       "      <td>...</td>\n",
       "      <td>...</td>\n",
       "    </tr>\n",
       "    <tr>\n",
       "      <th>98672</th>\n",
       "      <td>5ded8a3706eabd813685534724f066de</td>\n",
       "      <td>460316e38d4d241fc79d4f6729f8f7f6</td>\n",
       "      <td>delivered</td>\n",
       "      <td>2018-07-18 08:46:52</td>\n",
       "      <td>2018-07-18 11:35:22.204700651</td>\n",
       "      <td>2018-07-18 08:44:00</td>\n",
       "      <td>2018-07-25 13:53:17</td>\n",
       "      <td>2018-08-10</td>\n",
       "    </tr>\n",
       "    <tr>\n",
       "      <th>98780</th>\n",
       "      <td>d10046876c7d9f01613da59ffa6cb07f</td>\n",
       "      <td>6559cb5b365f173915f766fefcd86972</td>\n",
       "      <td>delivered</td>\n",
       "      <td>2018-07-18 16:14:16</td>\n",
       "      <td>2018-07-18 19:02:46.204700651</td>\n",
       "      <td>2018-07-18 15:34:00</td>\n",
       "      <td>2018-07-23 20:46:44</td>\n",
       "      <td>2018-08-07</td>\n",
       "    </tr>\n",
       "    <tr>\n",
       "      <th>98815</th>\n",
       "      <td>810b8bba6a2fb6419db87fe22a4299fe</td>\n",
       "      <td>831bc4457a38cb2e1bd53a4f015a0528</td>\n",
       "      <td>delivered</td>\n",
       "      <td>2018-05-10 11:54:32</td>\n",
       "      <td>2018-05-10 14:43:02.204700651</td>\n",
       "      <td>2018-05-10 12:18:00</td>\n",
       "      <td>2018-05-15 19:54:56</td>\n",
       "      <td>2018-05-29</td>\n",
       "    </tr>\n",
       "    <tr>\n",
       "      <th>98968</th>\n",
       "      <td>bf0e0772c9e81651f6f0f255ed74bf88</td>\n",
       "      <td>ba796cfb1a430e5d6ceed83cde80ff92</td>\n",
       "      <td>delivered</td>\n",
       "      <td>2018-05-29 13:46:56</td>\n",
       "      <td>2018-05-29 16:35:26.204700651</td>\n",
       "      <td>2018-05-29 14:09:00</td>\n",
       "      <td>2018-06-12 12:56:44</td>\n",
       "      <td>2018-07-11</td>\n",
       "    </tr>\n",
       "    <tr>\n",
       "      <th>99230</th>\n",
       "      <td>78008d03bd8ef7fcf1568728b316553c</td>\n",
       "      <td>043e3254e68daf7256bda1c9c03c2286</td>\n",
       "      <td>delivered</td>\n",
       "      <td>2018-07-03 13:11:13</td>\n",
       "      <td>2018-07-03 15:59:43.204700651</td>\n",
       "      <td>2018-07-03 12:57:00</td>\n",
       "      <td>2018-07-10 17:47:39</td>\n",
       "      <td>2018-07-23</td>\n",
       "    </tr>\n",
       "  </tbody>\n",
       "</table>\n",
       "<p>273 rows × 8 columns</p>\n",
       "</div>"
      ],
      "text/plain": [
       "                               order_id                       customer_id  \\\n",
       "615    b9afddbdcfadc9a87b41a83271c3e888  85c6af75161b8b2b1af98e82b5a6a5a5   \n",
       "1031   95fa26b6ea476ed040e592e0a825d6f0  9aad6db5643769b3d802a87328ec31e2   \n",
       "1111   ad133696906f6a78826daa0911b7daec  e6f5b234bb0d847f10eebd70130c5d49   \n",
       "1329   74e033208dc13a7b8127eb8e73d09b76  72fcbb1145f2889eddcba6d6c1d6c090   \n",
       "1372   a6b58794fd2ba533359a76c08df576e3  ccd8e3459ad58ae538c9d2cf35532ba4   \n",
       "...                                 ...                               ...   \n",
       "98672  5ded8a3706eabd813685534724f066de  460316e38d4d241fc79d4f6729f8f7f6   \n",
       "98780  d10046876c7d9f01613da59ffa6cb07f  6559cb5b365f173915f766fefcd86972   \n",
       "98815  810b8bba6a2fb6419db87fe22a4299fe  831bc4457a38cb2e1bd53a4f015a0528   \n",
       "98968  bf0e0772c9e81651f6f0f255ed74bf88  ba796cfb1a430e5d6ceed83cde80ff92   \n",
       "99230  78008d03bd8ef7fcf1568728b316553c  043e3254e68daf7256bda1c9c03c2286   \n",
       "\n",
       "      order_status order_purchase_timestamp             order_approved_at  \\\n",
       "615      delivered      2018-08-16 13:50:48 2018-08-16 16:39:18.204700651   \n",
       "1031     delivered      2018-06-06 13:48:42 2018-06-06 16:37:12.204700651   \n",
       "1111     delivered      2018-06-15 15:41:22 2018-06-15 18:29:52.204700651   \n",
       "1329     delivered      2018-05-02 10:48:44 2018-05-02 13:37:14.204700651   \n",
       "1372     delivered      2018-05-14 15:18:23 2018-05-14 18:06:53.204700651   \n",
       "...            ...                      ...                           ...   \n",
       "98672    delivered      2018-07-18 08:46:52 2018-07-18 11:35:22.204700651   \n",
       "98780    delivered      2018-07-18 16:14:16 2018-07-18 19:02:46.204700651   \n",
       "98815    delivered      2018-05-10 11:54:32 2018-05-10 14:43:02.204700651   \n",
       "98968    delivered      2018-05-29 13:46:56 2018-05-29 16:35:26.204700651   \n",
       "99230    delivered      2018-07-03 13:11:13 2018-07-03 15:59:43.204700651   \n",
       "\n",
       "      order_delivered_carrier_date order_delivered_customer_date  \\\n",
       "615            2018-08-16 13:27:00           2018-08-24 14:58:37   \n",
       "1031           2018-06-06 14:02:00           2018-06-11 16:55:40   \n",
       "1111           2018-06-15 14:52:00           2018-06-22 18:09:37   \n",
       "1329           2018-05-02 09:49:00           2018-05-07 23:06:36   \n",
       "1372           2018-05-14 13:46:00           2018-05-19 19:33:32   \n",
       "...                            ...                           ...   \n",
       "98672          2018-07-18 08:44:00           2018-07-25 13:53:17   \n",
       "98780          2018-07-18 15:34:00           2018-07-23 20:46:44   \n",
       "98815          2018-05-10 12:18:00           2018-05-15 19:54:56   \n",
       "98968          2018-05-29 14:09:00           2018-06-12 12:56:44   \n",
       "99230          2018-07-03 12:57:00           2018-07-10 17:47:39   \n",
       "\n",
       "      order_estimated_delivery_date  \n",
       "615                      2018-09-04  \n",
       "1031                     2018-07-12  \n",
       "1111                     2018-07-18  \n",
       "1329                     2018-05-29  \n",
       "1372                     2018-06-08  \n",
       "...                             ...  \n",
       "98672                    2018-08-10  \n",
       "98780                    2018-08-07  \n",
       "98815                    2018-05-29  \n",
       "98968                    2018-07-11  \n",
       "99230                    2018-07-23  \n",
       "\n",
       "[273 rows x 8 columns]"
      ]
     },
     "execution_count": 182,
     "metadata": {},
     "output_type": "execute_result"
    }
   ],
   "source": [
    "'Observamos que el error sigue estando porque hay compras en que la fecha de salida es anterior a la misma compra'\n",
    "\n",
    "data_order[diferencia_aprobacion_envio_2.dt.days < 0]"
   ]
  },
  {
   "cell_type": "markdown",
   "metadata": {},
   "source": [
    "Hay que seguir tratando estos valores. Vamos a corregirlos poniendo el promedio de demora entre que una compra es aprobada y sale el flete"
   ]
  },
  {
   "cell_type": "code",
   "execution_count": 45,
   "metadata": {},
   "outputs": [],
   "source": [
    "Q1 = diferencia_aprobacion_envio_2.dt.days.quantile(0.25) \n",
    "Q3 = diferencia_aprobacion_envio_2.dt.days.quantile(0.75)\n",
    "IQR = Q3 - Q1\n",
    "BI = Q1 - 1.5*IQR\n",
    "BS = Q3 + 1.5*IQR\n",
    "out = (diferencia_aprobacion_envio_2.dt.days<BI) | (diferencia_aprobacion_envio_2.dt.days>BS)"
   ]
  },
  {
   "cell_type": "code",
   "execution_count": 46,
   "metadata": {},
   "outputs": [
    {
     "data": {
      "text/plain": [
       "5029"
      ]
     },
     "execution_count": 46,
     "metadata": {},
     "output_type": "execute_result"
    }
   ],
   "source": [
    "out.sum()"
   ]
  },
  {
   "cell_type": "code",
   "execution_count": 47,
   "metadata": {},
   "outputs": [
    {
     "data": {
      "text/html": [
       "<div>\n",
       "<style scoped>\n",
       "    .dataframe tbody tr th:only-of-type {\n",
       "        vertical-align: middle;\n",
       "    }\n",
       "\n",
       "    .dataframe tbody tr th {\n",
       "        vertical-align: top;\n",
       "    }\n",
       "\n",
       "    .dataframe thead th {\n",
       "        text-align: right;\n",
       "    }\n",
       "</style>\n",
       "<table border=\"1\" class=\"dataframe\">\n",
       "  <thead>\n",
       "    <tr style=\"text-align: right;\">\n",
       "      <th></th>\n",
       "      <th>order_id</th>\n",
       "      <th>customer_id</th>\n",
       "      <th>order_status</th>\n",
       "      <th>order_purchase_timestamp</th>\n",
       "      <th>order_approved_at</th>\n",
       "      <th>order_delivered_carrier_date</th>\n",
       "      <th>order_delivered_customer_date</th>\n",
       "      <th>order_estimated_delivery_date</th>\n",
       "    </tr>\n",
       "  </thead>\n",
       "  <tbody>\n",
       "    <tr>\n",
       "      <th>9</th>\n",
       "      <td>e69bfb5eb88e0ed6a785585b27e16dbf</td>\n",
       "      <td>31ad1d1b63eb9962463f764d4e6e0c9d</td>\n",
       "      <td>delivered</td>\n",
       "      <td>2017-07-29 11:55:02</td>\n",
       "      <td>2017-07-29 12:05:32</td>\n",
       "      <td>2017-08-10 19:45:24</td>\n",
       "      <td>2017-08-16 17:14:30</td>\n",
       "      <td>2017-08-23</td>\n",
       "    </tr>\n",
       "    <tr>\n",
       "      <th>20</th>\n",
       "      <td>203096f03d82e0dffbc41ebc2e2bcfb7</td>\n",
       "      <td>d2b091571da224a1b36412c18bc3bbfe</td>\n",
       "      <td>delivered</td>\n",
       "      <td>2017-09-18 14:31:30</td>\n",
       "      <td>2017-09-19 04:04:09</td>\n",
       "      <td>2017-10-06 17:50:03</td>\n",
       "      <td>2017-10-09 22:23:46</td>\n",
       "      <td>2017-09-28</td>\n",
       "    </tr>\n",
       "    <tr>\n",
       "      <th>23</th>\n",
       "      <td>95266dbfb7e20354baba07964dac78d5</td>\n",
       "      <td>a166da34890074091a942054b36e4265</td>\n",
       "      <td>delivered</td>\n",
       "      <td>2018-01-08 07:55:29</td>\n",
       "      <td>2018-01-08 08:07:31</td>\n",
       "      <td>2018-01-24 23:16:37</td>\n",
       "      <td>2018-01-26 17:32:38</td>\n",
       "      <td>2018-02-21</td>\n",
       "    </tr>\n",
       "    <tr>\n",
       "      <th>41</th>\n",
       "      <td>6ea2f835b4556291ffdc53fa0b3b95e8</td>\n",
       "      <td>c7340080e394356141681bd4c9b8fe31</td>\n",
       "      <td>delivered</td>\n",
       "      <td>2017-11-24 21:27:48</td>\n",
       "      <td>2017-11-25 00:21:09</td>\n",
       "      <td>2017-12-13 21:14:05</td>\n",
       "      <td>2017-12-28 18:59:23</td>\n",
       "      <td>2017-12-21</td>\n",
       "    </tr>\n",
       "    <tr>\n",
       "      <th>58</th>\n",
       "      <td>a685d016c8a26f71a0bb67821070e398</td>\n",
       "      <td>911e4c37f5cafe1604fe6767034bf1ae</td>\n",
       "      <td>delivered</td>\n",
       "      <td>2017-03-13 18:14:36</td>\n",
       "      <td>2017-03-13 18:14:36</td>\n",
       "      <td>2017-03-22 14:03:09</td>\n",
       "      <td>2017-04-06 13:37:16</td>\n",
       "      <td>2017-03-30</td>\n",
       "    </tr>\n",
       "    <tr>\n",
       "      <th>...</th>\n",
       "      <td>...</td>\n",
       "      <td>...</td>\n",
       "      <td>...</td>\n",
       "      <td>...</td>\n",
       "      <td>...</td>\n",
       "      <td>...</td>\n",
       "      <td>...</td>\n",
       "      <td>...</td>\n",
       "    </tr>\n",
       "    <tr>\n",
       "      <th>99322</th>\n",
       "      <td>e0cb1558bbe670b4cd84bf99bf93318f</td>\n",
       "      <td>956d144703c3b72fcb05e587e39f3ab2</td>\n",
       "      <td>delivered</td>\n",
       "      <td>2018-01-12 17:02:11</td>\n",
       "      <td>2018-01-12 17:13:24</td>\n",
       "      <td>2018-01-24 13:06:49</td>\n",
       "      <td>2018-02-02 16:08:40</td>\n",
       "      <td>2018-02-20</td>\n",
       "    </tr>\n",
       "    <tr>\n",
       "      <th>99337</th>\n",
       "      <td>5dea57306e01caa42ad0b07b85042953</td>\n",
       "      <td>0b3a3c105d2d5b981fcf34c111fb18a4</td>\n",
       "      <td>delivered</td>\n",
       "      <td>2018-07-16 01:31:13</td>\n",
       "      <td>2018-07-16 01:47:22</td>\n",
       "      <td>2018-07-26 11:05:00</td>\n",
       "      <td>2018-08-02 19:42:02</td>\n",
       "      <td>2018-08-14</td>\n",
       "    </tr>\n",
       "    <tr>\n",
       "      <th>99389</th>\n",
       "      <td>83db27f85506380229913b0dfdf5cd18</td>\n",
       "      <td>472acc24324ad4cee482fe4ef5910dc1</td>\n",
       "      <td>delivered</td>\n",
       "      <td>2018-04-18 12:35:58</td>\n",
       "      <td>2018-04-19 02:51:26</td>\n",
       "      <td>2018-05-02 08:52:00</td>\n",
       "      <td>2018-05-07 16:40:55</td>\n",
       "      <td>2018-05-29</td>\n",
       "    </tr>\n",
       "    <tr>\n",
       "      <th>99396</th>\n",
       "      <td>b3112ca67f3afd4e20cf2ee91fc4f804</td>\n",
       "      <td>6f83c71b6c044fb156d697d4130fe9b5</td>\n",
       "      <td>delivered</td>\n",
       "      <td>2018-08-02 22:46:54</td>\n",
       "      <td>2018-08-02 23:04:06</td>\n",
       "      <td>2018-08-15 17:42:00</td>\n",
       "      <td>2018-08-21 00:03:26</td>\n",
       "      <td>2018-08-16</td>\n",
       "    </tr>\n",
       "    <tr>\n",
       "      <th>99417</th>\n",
       "      <td>e6cc57f923c4dab2222b8c9aa8742eea</td>\n",
       "      <td>2f4a42f9bb4b9a8cd402fa549df5c7fd</td>\n",
       "      <td>delivered</td>\n",
       "      <td>2018-02-07 12:09:45</td>\n",
       "      <td>2018-02-07 12:31:13</td>\n",
       "      <td>2018-02-21 23:38:05</td>\n",
       "      <td>2018-03-05 18:56:39</td>\n",
       "      <td>2018-05-11</td>\n",
       "    </tr>\n",
       "  </tbody>\n",
       "</table>\n",
       "<p>5029 rows × 8 columns</p>\n",
       "</div>"
      ],
      "text/plain": [
       "                               order_id                       customer_id  \\\n",
       "9      e69bfb5eb88e0ed6a785585b27e16dbf  31ad1d1b63eb9962463f764d4e6e0c9d   \n",
       "20     203096f03d82e0dffbc41ebc2e2bcfb7  d2b091571da224a1b36412c18bc3bbfe   \n",
       "23     95266dbfb7e20354baba07964dac78d5  a166da34890074091a942054b36e4265   \n",
       "41     6ea2f835b4556291ffdc53fa0b3b95e8  c7340080e394356141681bd4c9b8fe31   \n",
       "58     a685d016c8a26f71a0bb67821070e398  911e4c37f5cafe1604fe6767034bf1ae   \n",
       "...                                 ...                               ...   \n",
       "99322  e0cb1558bbe670b4cd84bf99bf93318f  956d144703c3b72fcb05e587e39f3ab2   \n",
       "99337  5dea57306e01caa42ad0b07b85042953  0b3a3c105d2d5b981fcf34c111fb18a4   \n",
       "99389  83db27f85506380229913b0dfdf5cd18  472acc24324ad4cee482fe4ef5910dc1   \n",
       "99396  b3112ca67f3afd4e20cf2ee91fc4f804  6f83c71b6c044fb156d697d4130fe9b5   \n",
       "99417  e6cc57f923c4dab2222b8c9aa8742eea  2f4a42f9bb4b9a8cd402fa549df5c7fd   \n",
       "\n",
       "      order_status order_purchase_timestamp   order_approved_at  \\\n",
       "9        delivered      2017-07-29 11:55:02 2017-07-29 12:05:32   \n",
       "20       delivered      2017-09-18 14:31:30 2017-09-19 04:04:09   \n",
       "23       delivered      2018-01-08 07:55:29 2018-01-08 08:07:31   \n",
       "41       delivered      2017-11-24 21:27:48 2017-11-25 00:21:09   \n",
       "58       delivered      2017-03-13 18:14:36 2017-03-13 18:14:36   \n",
       "...            ...                      ...                 ...   \n",
       "99322    delivered      2018-01-12 17:02:11 2018-01-12 17:13:24   \n",
       "99337    delivered      2018-07-16 01:31:13 2018-07-16 01:47:22   \n",
       "99389    delivered      2018-04-18 12:35:58 2018-04-19 02:51:26   \n",
       "99396    delivered      2018-08-02 22:46:54 2018-08-02 23:04:06   \n",
       "99417    delivered      2018-02-07 12:09:45 2018-02-07 12:31:13   \n",
       "\n",
       "      order_delivered_carrier_date order_delivered_customer_date  \\\n",
       "9              2017-08-10 19:45:24           2017-08-16 17:14:30   \n",
       "20             2017-10-06 17:50:03           2017-10-09 22:23:46   \n",
       "23             2018-01-24 23:16:37           2018-01-26 17:32:38   \n",
       "41             2017-12-13 21:14:05           2017-12-28 18:59:23   \n",
       "58             2017-03-22 14:03:09           2017-04-06 13:37:16   \n",
       "...                            ...                           ...   \n",
       "99322          2018-01-24 13:06:49           2018-02-02 16:08:40   \n",
       "99337          2018-07-26 11:05:00           2018-08-02 19:42:02   \n",
       "99389          2018-05-02 08:52:00           2018-05-07 16:40:55   \n",
       "99396          2018-08-15 17:42:00           2018-08-21 00:03:26   \n",
       "99417          2018-02-21 23:38:05           2018-03-05 18:56:39   \n",
       "\n",
       "      order_estimated_delivery_date  \n",
       "9                        2017-08-23  \n",
       "20                       2017-09-28  \n",
       "23                       2018-02-21  \n",
       "41                       2017-12-21  \n",
       "58                       2017-03-30  \n",
       "...                             ...  \n",
       "99322                    2018-02-20  \n",
       "99337                    2018-08-14  \n",
       "99389                    2018-05-29  \n",
       "99396                    2018-08-16  \n",
       "99417                    2018-05-11  \n",
       "\n",
       "[5029 rows x 8 columns]"
      ]
     },
     "execution_count": 47,
     "metadata": {},
     "output_type": "execute_result"
    }
   ],
   "source": [
    "data_order[out]"
   ]
  },
  {
   "cell_type": "code",
   "execution_count": 48,
   "metadata": {},
   "outputs": [],
   "source": [
    "'Calculamos el promedio SIN LOS OUTLIERS para que no se distorsione la métrica'\n",
    "\n",
    "\n",
    "promedio_demora_salida = diferencia_aprobacion_envio_2[~out].mean()"
   ]
  },
  {
   "cell_type": "code",
   "execution_count": 49,
   "metadata": {},
   "outputs": [
    {
     "data": {
      "text/plain": [
       "Timedelta('2 days 05:44:34.240298236')"
      ]
     },
     "execution_count": 49,
     "metadata": {},
     "output_type": "execute_result"
    }
   ],
   "source": [
    "promedio_demora_salida"
   ]
  },
  {
   "cell_type": "code",
   "execution_count": 50,
   "metadata": {},
   "outputs": [],
   "source": [
    "'Procedemos a imputar donde hay incosistencia entre fecha de aprobación y fecha de salida del producto'\n",
    "\n",
    "\n",
    "data_order.loc[diferencia_aprobacion_envio_2.dt.days < 0, 'order_delivered_carrier_date'] = data_order.order_approved_at + pd.Timedelta(promedio_demora_salida) "
   ]
  },
  {
   "cell_type": "code",
   "execution_count": 51,
   "metadata": {},
   "outputs": [
    {
     "data": {
      "text/html": [
       "<div>\n",
       "<style scoped>\n",
       "    .dataframe tbody tr th:only-of-type {\n",
       "        vertical-align: middle;\n",
       "    }\n",
       "\n",
       "    .dataframe tbody tr th {\n",
       "        vertical-align: top;\n",
       "    }\n",
       "\n",
       "    .dataframe thead th {\n",
       "        text-align: right;\n",
       "    }\n",
       "</style>\n",
       "<table border=\"1\" class=\"dataframe\">\n",
       "  <thead>\n",
       "    <tr style=\"text-align: right;\">\n",
       "      <th></th>\n",
       "      <th>order_id</th>\n",
       "      <th>customer_id</th>\n",
       "      <th>order_status</th>\n",
       "      <th>order_purchase_timestamp</th>\n",
       "      <th>order_approved_at</th>\n",
       "      <th>order_delivered_carrier_date</th>\n",
       "      <th>order_delivered_customer_date</th>\n",
       "      <th>order_estimated_delivery_date</th>\n",
       "    </tr>\n",
       "  </thead>\n",
       "  <tbody>\n",
       "    <tr>\n",
       "      <th>615</th>\n",
       "      <td>b9afddbdcfadc9a87b41a83271c3e888</td>\n",
       "      <td>85c6af75161b8b2b1af98e82b5a6a5a5</td>\n",
       "      <td>delivered</td>\n",
       "      <td>2018-08-16 13:50:48</td>\n",
       "      <td>2018-08-16 16:39:18.204700651</td>\n",
       "      <td>2018-08-18 22:23:52.444998887</td>\n",
       "      <td>2018-08-24 14:58:37</td>\n",
       "      <td>2018-09-04</td>\n",
       "    </tr>\n",
       "  </tbody>\n",
       "</table>\n",
       "</div>"
      ],
      "text/plain": [
       "                             order_id                       customer_id  \\\n",
       "615  b9afddbdcfadc9a87b41a83271c3e888  85c6af75161b8b2b1af98e82b5a6a5a5   \n",
       "\n",
       "    order_status order_purchase_timestamp             order_approved_at  \\\n",
       "615    delivered      2018-08-16 13:50:48 2018-08-16 16:39:18.204700651   \n",
       "\n",
       "     order_delivered_carrier_date order_delivered_customer_date  \\\n",
       "615 2018-08-18 22:23:52.444998887           2018-08-24 14:58:37   \n",
       "\n",
       "    order_estimated_delivery_date  \n",
       "615                    2018-09-04  "
      ]
     },
     "execution_count": 51,
     "metadata": {},
     "output_type": "execute_result"
    }
   ],
   "source": [
    "'chequeamos que el método magistral haya dado sus frutos. ah ponia frutos'\n",
    "\n",
    "data_order[data_order.index == 615]"
   ]
  },
  {
   "cell_type": "code",
   "execution_count": 58,
   "metadata": {},
   "outputs": [
    {
     "data": {
      "text/plain": [
       "0"
      ]
     },
     "execution_count": 58,
     "metadata": {},
     "output_type": "execute_result"
    }
   ],
   "source": [
    "'Ya funciona a pleno'\n",
    "\n",
    "diferencia_aprobacion_envio_3 = data_order['order_delivered_carrier_date'] - data_order['order_approved_at']\n",
    "(diferencia_aprobacion_envio_3.dt.days < 0).sum()"
   ]
  },
  {
   "cell_type": "markdown",
   "metadata": {},
   "source": [
    "#### TRATAMIENTO DE VALORES QUE ESTÁN MAL EN LA FECHA DE LLEGADA DEL PRODUCTO RESPECTO A LA FECHA DE SALIDA"
   ]
  },
  {
   "cell_type": "code",
   "execution_count": 62,
   "metadata": {},
   "outputs": [
    {
     "data": {
      "text/plain": [
       "(53, 8)"
      ]
     },
     "execution_count": 62,
     "metadata": {},
     "output_type": "execute_result"
    }
   ],
   "source": [
    "data_order[data_order.order_delivered_carrier_date > data_order.order_delivered_customer_date].shape"
   ]
  },
  {
   "cell_type": "code",
   "execution_count": 64,
   "metadata": {},
   "outputs": [
    {
     "data": {
      "text/html": [
       "<div>\n",
       "<style scoped>\n",
       "    .dataframe tbody tr th:only-of-type {\n",
       "        vertical-align: middle;\n",
       "    }\n",
       "\n",
       "    .dataframe tbody tr th {\n",
       "        vertical-align: top;\n",
       "    }\n",
       "\n",
       "    .dataframe thead th {\n",
       "        text-align: right;\n",
       "    }\n",
       "</style>\n",
       "<table border=\"1\" class=\"dataframe\">\n",
       "  <thead>\n",
       "    <tr style=\"text-align: right;\">\n",
       "      <th></th>\n",
       "      <th>order_id</th>\n",
       "      <th>customer_id</th>\n",
       "      <th>order_status</th>\n",
       "      <th>order_purchase_timestamp</th>\n",
       "      <th>order_approved_at</th>\n",
       "      <th>order_delivered_carrier_date</th>\n",
       "      <th>order_delivered_customer_date</th>\n",
       "      <th>order_estimated_delivery_date</th>\n",
       "    </tr>\n",
       "  </thead>\n",
       "  <tbody>\n",
       "    <tr>\n",
       "      <th>3011</th>\n",
       "      <td>b777b7d618ee48ec7cf64aeb188e9da5</td>\n",
       "      <td>2b83d4c1da04d92aceb19710d0a59ef9</td>\n",
       "      <td>delivered</td>\n",
       "      <td>2018-08-09 11:47:22</td>\n",
       "      <td>2018-08-09 14:35:52.204700651</td>\n",
       "      <td>2018-08-11 20:20:26.444998887</td>\n",
       "      <td>2018-08-10 15:41:50</td>\n",
       "      <td>2018-08-15</td>\n",
       "    </tr>\n",
       "    <tr>\n",
       "      <th>4114</th>\n",
       "      <td>08adcddad19d3acf37d1fa01cb9ded1e</td>\n",
       "      <td>94c2f45091985c47b4c4fb301113f0a4</td>\n",
       "      <td>delivered</td>\n",
       "      <td>2018-06-27 11:16:44</td>\n",
       "      <td>2018-06-27 14:05:14.204700651</td>\n",
       "      <td>2018-06-29 19:49:48.444998887</td>\n",
       "      <td>2018-06-29 17:39:53</td>\n",
       "      <td>2018-07-18</td>\n",
       "    </tr>\n",
       "    <tr>\n",
       "      <th>4660</th>\n",
       "      <td>d454d6650d375ebc3f9667a4d2fe161c</td>\n",
       "      <td>7ae2a9337aa4bc799723511faa1d6830</td>\n",
       "      <td>delivered</td>\n",
       "      <td>2018-05-10 09:12:16</td>\n",
       "      <td>2018-05-10 12:00:46.204700651</td>\n",
       "      <td>2018-05-12 17:45:20.444998887</td>\n",
       "      <td>2018-05-11 18:58:28</td>\n",
       "      <td>2018-05-23</td>\n",
       "    </tr>\n",
       "  </tbody>\n",
       "</table>\n",
       "</div>"
      ],
      "text/plain": [
       "                              order_id                       customer_id  \\\n",
       "3011  b777b7d618ee48ec7cf64aeb188e9da5  2b83d4c1da04d92aceb19710d0a59ef9   \n",
       "4114  08adcddad19d3acf37d1fa01cb9ded1e  94c2f45091985c47b4c4fb301113f0a4   \n",
       "4660  d454d6650d375ebc3f9667a4d2fe161c  7ae2a9337aa4bc799723511faa1d6830   \n",
       "\n",
       "     order_status order_purchase_timestamp             order_approved_at  \\\n",
       "3011    delivered      2018-08-09 11:47:22 2018-08-09 14:35:52.204700651   \n",
       "4114    delivered      2018-06-27 11:16:44 2018-06-27 14:05:14.204700651   \n",
       "4660    delivered      2018-05-10 09:12:16 2018-05-10 12:00:46.204700651   \n",
       "\n",
       "      order_delivered_carrier_date order_delivered_customer_date  \\\n",
       "3011 2018-08-11 20:20:26.444998887           2018-08-10 15:41:50   \n",
       "4114 2018-06-29 19:49:48.444998887           2018-06-29 17:39:53   \n",
       "4660 2018-05-12 17:45:20.444998887           2018-05-11 18:58:28   \n",
       "\n",
       "     order_estimated_delivery_date  \n",
       "3011                    2018-08-15  \n",
       "4114                    2018-07-18  \n",
       "4660                    2018-05-23  "
      ]
     },
     "execution_count": 64,
     "metadata": {},
     "output_type": "execute_result"
    }
   ],
   "source": [
    "data_order[data_order.order_delivered_carrier_date > data_order.order_delivered_customer_date].head(3)"
   ]
  },
  {
   "cell_type": "code",
   "execution_count": 65,
   "metadata": {},
   "outputs": [],
   "source": [
    "diferencia_salida_llegada = data_order['order_delivered_customer_date'] - data_order['order_delivered_carrier_date']"
   ]
  },
  {
   "cell_type": "code",
   "execution_count": 67,
   "metadata": {},
   "outputs": [
    {
     "data": {
      "text/plain": [
       "53"
      ]
     },
     "execution_count": 67,
     "metadata": {},
     "output_type": "execute_result"
    }
   ],
   "source": [
    "(diferencia_salida_llegada.dt.days < 0).sum()"
   ]
  },
  {
   "cell_type": "code",
   "execution_count": 69,
   "metadata": {},
   "outputs": [
    {
     "data": {
      "text/plain": [
       "<AxesSubplot:>"
      ]
     },
     "execution_count": 69,
     "metadata": {},
     "output_type": "execute_result"
    },
    {
     "data": {
      "image/png": "[encoded data removed]",
      "text/plain": [
       "<Figure size 1440x360 with 1 Axes>"
      ]
     },
     "metadata": {
      "needs_background": "light"
     },
     "output_type": "display_data"
    }
   ],
   "source": [
    "plt.figure(figsize=(20,5))\n",
    "sns.boxplot(x = diferencia_salida_llegada.dt.days)"
   ]
  },
  {
   "cell_type": "code",
   "execution_count": 72,
   "metadata": {},
   "outputs": [],
   "source": [
    "Q1 = diferencia_salida_llegada.dt.days.quantile(0.25) \n",
    "Q3 = diferencia_salida_llegada.dt.days.quantile(0.75)\n",
    "IQR = Q3 - Q1\n",
    "BI = Q1 - 1.5*IQR\n",
    "BS = Q3 + 1.5*IQR\n",
    "out = (diferencia_salida_llegada.dt.days<BI) | (diferencia_salida_llegada.dt.days>BS)"
   ]
  },
  {
   "cell_type": "code",
   "execution_count": 75,
   "metadata": {},
   "outputs": [
    {
     "data": {
      "text/plain": [
       "4551"
      ]
     },
     "execution_count": 75,
     "metadata": {},
     "output_type": "execute_result"
    }
   ],
   "source": [
    "out.sum()"
   ]
  },
  {
   "cell_type": "code",
   "execution_count": 78,
   "metadata": {},
   "outputs": [
    {
     "data": {
      "text/plain": [
       "Timedelta('7 days 23:34:08.253344124')"
      ]
     },
     "execution_count": 78,
     "metadata": {},
     "output_type": "execute_result"
    }
   ],
   "source": [
    "'Calculamos promedio sin outliers'\n",
    "\n",
    "promedio_demora_llegada = diferencia_salida_llegada[~out].mean()\n",
    "promedio_demora_llegada"
   ]
  },
  {
   "cell_type": "code",
   "execution_count": 79,
   "metadata": {},
   "outputs": [],
   "source": [
    "'Procedemos a imputar donde hay incosistencia entre fecha de salida del producto y fecha de llegada'\n",
    "\n",
    "\n",
    "data_order.loc[diferencia_salida_llegada.dt.days < 0, 'order_delivered_customer_date'] = data_order.order_delivered_carrier_date + pd.Timedelta(promedio_demora_llegada) "
   ]
  },
  {
   "cell_type": "code",
   "execution_count": 82,
   "metadata": {},
   "outputs": [
    {
     "data": {
      "text/html": [
       "<div>\n",
       "<style scoped>\n",
       "    .dataframe tbody tr th:only-of-type {\n",
       "        vertical-align: middle;\n",
       "    }\n",
       "\n",
       "    .dataframe tbody tr th {\n",
       "        vertical-align: top;\n",
       "    }\n",
       "\n",
       "    .dataframe thead th {\n",
       "        text-align: right;\n",
       "    }\n",
       "</style>\n",
       "<table border=\"1\" class=\"dataframe\">\n",
       "  <thead>\n",
       "    <tr style=\"text-align: right;\">\n",
       "      <th></th>\n",
       "      <th>order_id</th>\n",
       "      <th>customer_id</th>\n",
       "      <th>order_status</th>\n",
       "      <th>order_purchase_timestamp</th>\n",
       "      <th>order_approved_at</th>\n",
       "      <th>order_delivered_carrier_date</th>\n",
       "      <th>order_delivered_customer_date</th>\n",
       "      <th>order_estimated_delivery_date</th>\n",
       "    </tr>\n",
       "  </thead>\n",
       "  <tbody>\n",
       "    <tr>\n",
       "      <th>3011</th>\n",
       "      <td>b777b7d618ee48ec7cf64aeb188e9da5</td>\n",
       "      <td>2b83d4c1da04d92aceb19710d0a59ef9</td>\n",
       "      <td>delivered</td>\n",
       "      <td>2018-08-09 11:47:22</td>\n",
       "      <td>2018-08-09 14:35:52.204700651</td>\n",
       "      <td>2018-08-11 20:20:26.444998887</td>\n",
       "      <td>2018-08-19 19:54:34.698343011</td>\n",
       "      <td>2018-08-15</td>\n",
       "    </tr>\n",
       "  </tbody>\n",
       "</table>\n",
       "</div>"
      ],
      "text/plain": [
       "                              order_id                       customer_id  \\\n",
       "3011  b777b7d618ee48ec7cf64aeb188e9da5  2b83d4c1da04d92aceb19710d0a59ef9   \n",
       "\n",
       "     order_status order_purchase_timestamp             order_approved_at  \\\n",
       "3011    delivered      2018-08-09 11:47:22 2018-08-09 14:35:52.204700651   \n",
       "\n",
       "      order_delivered_carrier_date order_delivered_customer_date  \\\n",
       "3011 2018-08-11 20:20:26.444998887 2018-08-19 19:54:34.698343011   \n",
       "\n",
       "     order_estimated_delivery_date  \n",
       "3011                    2018-08-15  "
      ]
     },
     "execution_count": 82,
     "metadata": {},
     "output_type": "execute_result"
    }
   ],
   "source": [
    "'Corroboramos'\n",
    "\n",
    "data_order[data_order.index == 3011]"
   ]
  },
  {
   "cell_type": "code",
   "execution_count": 83,
   "metadata": {},
   "outputs": [],
   "source": [
    "'Probamos que no haya más incosistencias luego de la imputación'\n",
    "\n",
    "diferencia_salida_llegada_2 = data_order['order_delivered_customer_date'] - data_order['order_delivered_carrier_date']"
   ]
  },
  {
   "cell_type": "code",
   "execution_count": 87,
   "metadata": {},
   "outputs": [
    {
     "data": {
      "text/plain": [
       "0"
      ]
     },
     "execution_count": 87,
     "metadata": {},
     "output_type": "execute_result"
    }
   ],
   "source": [
    "(diferencia_salida_llegada_2.dt.days < 0).sum()"
   ]
  },
  {
   "cell_type": "markdown",
   "metadata": {},
   "source": [
    "### **Verificamos que no haya registros con fecha estimada de llegada anterior a la fecha de compra**"
   ]
  },
  {
   "cell_type": "code",
   "execution_count": 89,
   "metadata": {},
   "outputs": [
    {
     "data": {
      "text/html": [
       "<div>\n",
       "<style scoped>\n",
       "    .dataframe tbody tr th:only-of-type {\n",
       "        vertical-align: middle;\n",
       "    }\n",
       "\n",
       "    .dataframe tbody tr th {\n",
       "        vertical-align: top;\n",
       "    }\n",
       "\n",
       "    .dataframe thead th {\n",
       "        text-align: right;\n",
       "    }\n",
       "</style>\n",
       "<table border=\"1\" class=\"dataframe\">\n",
       "  <thead>\n",
       "    <tr style=\"text-align: right;\">\n",
       "      <th></th>\n",
       "      <th>order_id</th>\n",
       "      <th>customer_id</th>\n",
       "      <th>order_status</th>\n",
       "      <th>order_purchase_timestamp</th>\n",
       "      <th>order_approved_at</th>\n",
       "      <th>order_delivered_carrier_date</th>\n",
       "      <th>order_delivered_customer_date</th>\n",
       "      <th>order_estimated_delivery_date</th>\n",
       "    </tr>\n",
       "  </thead>\n",
       "  <tbody>\n",
       "  </tbody>\n",
       "</table>\n",
       "</div>"
      ],
      "text/plain": [
       "Empty DataFrame\n",
       "Columns: [order_id, customer_id, order_status, order_purchase_timestamp, order_approved_at, order_delivered_carrier_date, order_delivered_customer_date, order_estimated_delivery_date]\n",
       "Index: []"
      ]
     },
     "execution_count": 89,
     "metadata": {},
     "output_type": "execute_result"
    }
   ],
   "source": [
    "\n",
    "data_order[data_order.order_estimated_delivery_date < data_order.order_purchase_timestamp]"
   ]
  },
  {
   "cell_type": "markdown",
   "metadata": {},
   "source": [
    "## **TRATAMIENTO DE VALORES FALTANTES**"
   ]
  },
  {
   "cell_type": "markdown",
   "metadata": {},
   "source": [
    "***'order_approved_at' en órdenes en estado entregadas***"
   ]
  },
  {
   "cell_type": "code",
   "execution_count": 90,
   "metadata": {},
   "outputs": [
    {
     "data": {
      "text/plain": [
       "array(['canceled', 'delivered', 'created'], dtype=object)"
      ]
     },
     "execution_count": 90,
     "metadata": {},
     "output_type": "execute_result"
    }
   ],
   "source": [
    "'Vemos en qué estado de la compra se encuentran los faltantes en fecha de aprobación'\n",
    "\n",
    "data_order[data_order.order_approved_at.isnull()].order_status.unique()"
   ]
  },
  {
   "cell_type": "code",
   "execution_count": 91,
   "metadata": {},
   "outputs": [
    {
     "data": {
      "text/plain": [
       "order_id                          0\n",
       "customer_id                       0\n",
       "order_status                      0\n",
       "order_purchase_timestamp          0\n",
       "order_approved_at                14\n",
       "order_delivered_carrier_date      2\n",
       "order_delivered_customer_date     8\n",
       "order_estimated_delivery_date     0\n",
       "dtype: int64"
      ]
     },
     "execution_count": 91,
     "metadata": {},
     "output_type": "execute_result"
    }
   ],
   "source": [
    "data_order[(data_order.order_status == 'delivered')].isnull().sum()"
   ]
  },
  {
   "cell_type": "code",
   "execution_count": 92,
   "metadata": {},
   "outputs": [
    {
     "data": {
      "text/html": [
       "<div>\n",
       "<style scoped>\n",
       "    .dataframe tbody tr th:only-of-type {\n",
       "        vertical-align: middle;\n",
       "    }\n",
       "\n",
       "    .dataframe tbody tr th {\n",
       "        vertical-align: top;\n",
       "    }\n",
       "\n",
       "    .dataframe thead th {\n",
       "        text-align: right;\n",
       "    }\n",
       "</style>\n",
       "<table border=\"1\" class=\"dataframe\">\n",
       "  <thead>\n",
       "    <tr style=\"text-align: right;\">\n",
       "      <th></th>\n",
       "      <th>order_id</th>\n",
       "      <th>customer_id</th>\n",
       "      <th>order_status</th>\n",
       "      <th>order_purchase_timestamp</th>\n",
       "      <th>order_approved_at</th>\n",
       "      <th>order_delivered_carrier_date</th>\n",
       "      <th>order_delivered_customer_date</th>\n",
       "      <th>order_estimated_delivery_date</th>\n",
       "    </tr>\n",
       "  </thead>\n",
       "  <tbody>\n",
       "    <tr>\n",
       "      <th>5323</th>\n",
       "      <td>e04abd8149ef81b95221e88f6ed9ab6a</td>\n",
       "      <td>2127dc6603ac33544953ef05ec155771</td>\n",
       "      <td>delivered</td>\n",
       "      <td>2017-02-18 14:40:00</td>\n",
       "      <td>NaT</td>\n",
       "      <td>2017-02-23 12:04:47</td>\n",
       "      <td>2017-03-01 13:25:33</td>\n",
       "      <td>2017-03-17</td>\n",
       "    </tr>\n",
       "    <tr>\n",
       "      <th>16567</th>\n",
       "      <td>8a9adc69528e1001fc68dd0aaebbb54a</td>\n",
       "      <td>4c1ccc74e00993733742a3c786dc3c1f</td>\n",
       "      <td>delivered</td>\n",
       "      <td>2017-02-18 12:45:31</td>\n",
       "      <td>NaT</td>\n",
       "      <td>2017-02-23 09:01:52</td>\n",
       "      <td>2017-03-02 10:05:06</td>\n",
       "      <td>2017-03-21</td>\n",
       "    </tr>\n",
       "    <tr>\n",
       "      <th>19031</th>\n",
       "      <td>7013bcfc1c97fe719a7b5e05e61c12db</td>\n",
       "      <td>2941af76d38100e0f8740a374f1a5dc3</td>\n",
       "      <td>delivered</td>\n",
       "      <td>2017-02-18 13:29:47</td>\n",
       "      <td>NaT</td>\n",
       "      <td>2017-02-22 16:25:25</td>\n",
       "      <td>2017-03-01 08:07:38</td>\n",
       "      <td>2017-03-17</td>\n",
       "    </tr>\n",
       "    <tr>\n",
       "      <th>22663</th>\n",
       "      <td>5cf925b116421afa85ee25e99b4c34fb</td>\n",
       "      <td>29c35fc91fc13fb5073c8f30505d860d</td>\n",
       "      <td>delivered</td>\n",
       "      <td>2017-02-18 16:48:35</td>\n",
       "      <td>NaT</td>\n",
       "      <td>2017-02-22 11:23:10</td>\n",
       "      <td>2017-03-09 07:28:47</td>\n",
       "      <td>2017-03-31</td>\n",
       "    </tr>\n",
       "    <tr>\n",
       "      <th>23156</th>\n",
       "      <td>12a95a3c06dbaec84bcfb0e2da5d228a</td>\n",
       "      <td>1e101e0daffaddce8159d25a8e53f2b2</td>\n",
       "      <td>delivered</td>\n",
       "      <td>2017-02-17 13:05:55</td>\n",
       "      <td>NaT</td>\n",
       "      <td>2017-02-22 11:23:11</td>\n",
       "      <td>2017-03-02 11:09:19</td>\n",
       "      <td>2017-03-20</td>\n",
       "    </tr>\n",
       "    <tr>\n",
       "      <th>26800</th>\n",
       "      <td>c1d4211b3dae76144deccd6c74144a88</td>\n",
       "      <td>684cb238dc5b5d6366244e0e0776b450</td>\n",
       "      <td>delivered</td>\n",
       "      <td>2017-01-19 12:48:08</td>\n",
       "      <td>NaT</td>\n",
       "      <td>2017-01-25 14:56:50</td>\n",
       "      <td>2017-01-30 18:16:01</td>\n",
       "      <td>2017-03-01</td>\n",
       "    </tr>\n",
       "    <tr>\n",
       "      <th>38290</th>\n",
       "      <td>d69e5d356402adc8cf17e08b5033acfb</td>\n",
       "      <td>68d081753ad4fe22fc4d410a9eb1ca01</td>\n",
       "      <td>delivered</td>\n",
       "      <td>2017-02-19 01:28:47</td>\n",
       "      <td>NaT</td>\n",
       "      <td>2017-02-23 03:11:48</td>\n",
       "      <td>2017-03-02 03:41:58</td>\n",
       "      <td>2017-03-27</td>\n",
       "    </tr>\n",
       "    <tr>\n",
       "      <th>39334</th>\n",
       "      <td>d77031d6a3c8a52f019764e68f211c69</td>\n",
       "      <td>0bf35cac6cc7327065da879e2d90fae8</td>\n",
       "      <td>delivered</td>\n",
       "      <td>2017-02-18 11:04:19</td>\n",
       "      <td>NaT</td>\n",
       "      <td>2017-02-23 07:23:36</td>\n",
       "      <td>2017-03-02 16:15:23</td>\n",
       "      <td>2017-03-22</td>\n",
       "    </tr>\n",
       "    <tr>\n",
       "      <th>48401</th>\n",
       "      <td>7002a78c79c519ac54022d4f8a65e6e8</td>\n",
       "      <td>d5de688c321096d15508faae67a27051</td>\n",
       "      <td>delivered</td>\n",
       "      <td>2017-01-19 22:26:59</td>\n",
       "      <td>NaT</td>\n",
       "      <td>2017-01-27 11:08:05</td>\n",
       "      <td>2017-02-06 14:22:19</td>\n",
       "      <td>2017-03-16</td>\n",
       "    </tr>\n",
       "    <tr>\n",
       "      <th>61743</th>\n",
       "      <td>2eecb0d85f281280f79fa00f9cec1a95</td>\n",
       "      <td>a3d3c38e58b9d2dfb9207cab690b6310</td>\n",
       "      <td>delivered</td>\n",
       "      <td>2017-02-17 17:21:55</td>\n",
       "      <td>NaT</td>\n",
       "      <td>2017-02-22 11:42:51</td>\n",
       "      <td>2017-03-03 12:16:03</td>\n",
       "      <td>2017-03-20</td>\n",
       "    </tr>\n",
       "    <tr>\n",
       "      <th>63052</th>\n",
       "      <td>51eb2eebd5d76a24625b31c33dd41449</td>\n",
       "      <td>07a2a7e0f63fd8cb757ed77d4245623c</td>\n",
       "      <td>delivered</td>\n",
       "      <td>2017-02-18 15:52:27</td>\n",
       "      <td>NaT</td>\n",
       "      <td>2017-02-23 03:09:14</td>\n",
       "      <td>2017-03-07 13:57:47</td>\n",
       "      <td>2017-03-29</td>\n",
       "    </tr>\n",
       "    <tr>\n",
       "      <th>67697</th>\n",
       "      <td>88083e8f64d95b932164187484d90212</td>\n",
       "      <td>f67cd1a215aae2a1074638bbd35a223a</td>\n",
       "      <td>delivered</td>\n",
       "      <td>2017-02-18 22:49:19</td>\n",
       "      <td>NaT</td>\n",
       "      <td>2017-02-22 11:31:06</td>\n",
       "      <td>2017-03-02 12:06:06</td>\n",
       "      <td>2017-03-21</td>\n",
       "    </tr>\n",
       "    <tr>\n",
       "      <th>72407</th>\n",
       "      <td>3c0b8706b065f9919d0505d3b3343881</td>\n",
       "      <td>d85919cb3c0529589c6fa617f5f43281</td>\n",
       "      <td>delivered</td>\n",
       "      <td>2017-02-17 15:53:27</td>\n",
       "      <td>NaT</td>\n",
       "      <td>2017-02-22 11:31:30</td>\n",
       "      <td>2017-03-03 11:47:47</td>\n",
       "      <td>2017-03-23</td>\n",
       "    </tr>\n",
       "    <tr>\n",
       "      <th>84999</th>\n",
       "      <td>2babbb4b15e6d2dfe95e2de765c97bce</td>\n",
       "      <td>74bebaf46603f9340e3b50c6b086f992</td>\n",
       "      <td>delivered</td>\n",
       "      <td>2017-02-18 17:15:03</td>\n",
       "      <td>NaT</td>\n",
       "      <td>2017-02-22 11:23:11</td>\n",
       "      <td>2017-03-03 18:43:43</td>\n",
       "      <td>2017-03-31</td>\n",
       "    </tr>\n",
       "  </tbody>\n",
       "</table>\n",
       "</div>"
      ],
      "text/plain": [
       "                               order_id                       customer_id  \\\n",
       "5323   e04abd8149ef81b95221e88f6ed9ab6a  2127dc6603ac33544953ef05ec155771   \n",
       "16567  8a9adc69528e1001fc68dd0aaebbb54a  4c1ccc74e00993733742a3c786dc3c1f   \n",
       "19031  7013bcfc1c97fe719a7b5e05e61c12db  2941af76d38100e0f8740a374f1a5dc3   \n",
       "22663  5cf925b116421afa85ee25e99b4c34fb  29c35fc91fc13fb5073c8f30505d860d   \n",
       "23156  12a95a3c06dbaec84bcfb0e2da5d228a  1e101e0daffaddce8159d25a8e53f2b2   \n",
       "26800  c1d4211b3dae76144deccd6c74144a88  684cb238dc5b5d6366244e0e0776b450   \n",
       "38290  d69e5d356402adc8cf17e08b5033acfb  68d081753ad4fe22fc4d410a9eb1ca01   \n",
       "39334  d77031d6a3c8a52f019764e68f211c69  0bf35cac6cc7327065da879e2d90fae8   \n",
       "48401  7002a78c79c519ac54022d4f8a65e6e8  d5de688c321096d15508faae67a27051   \n",
       "61743  2eecb0d85f281280f79fa00f9cec1a95  a3d3c38e58b9d2dfb9207cab690b6310   \n",
       "63052  51eb2eebd5d76a24625b31c33dd41449  07a2a7e0f63fd8cb757ed77d4245623c   \n",
       "67697  88083e8f64d95b932164187484d90212  f67cd1a215aae2a1074638bbd35a223a   \n",
       "72407  3c0b8706b065f9919d0505d3b3343881  d85919cb3c0529589c6fa617f5f43281   \n",
       "84999  2babbb4b15e6d2dfe95e2de765c97bce  74bebaf46603f9340e3b50c6b086f992   \n",
       "\n",
       "      order_status order_purchase_timestamp order_approved_at  \\\n",
       "5323     delivered      2017-02-18 14:40:00               NaT   \n",
       "16567    delivered      2017-02-18 12:45:31               NaT   \n",
       "19031    delivered      2017-02-18 13:29:47               NaT   \n",
       "22663    delivered      2017-02-18 16:48:35               NaT   \n",
       "23156    delivered      2017-02-17 13:05:55               NaT   \n",
       "26800    delivered      2017-01-19 12:48:08               NaT   \n",
       "38290    delivered      2017-02-19 01:28:47               NaT   \n",
       "39334    delivered      2017-02-18 11:04:19               NaT   \n",
       "48401    delivered      2017-01-19 22:26:59               NaT   \n",
       "61743    delivered      2017-02-17 17:21:55               NaT   \n",
       "63052    delivered      2017-02-18 15:52:27               NaT   \n",
       "67697    delivered      2017-02-18 22:49:19               NaT   \n",
       "72407    delivered      2017-02-17 15:53:27               NaT   \n",
       "84999    delivered      2017-02-18 17:15:03               NaT   \n",
       "\n",
       "      order_delivered_carrier_date order_delivered_customer_date  \\\n",
       "5323           2017-02-23 12:04:47           2017-03-01 13:25:33   \n",
       "16567          2017-02-23 09:01:52           2017-03-02 10:05:06   \n",
       "19031          2017-02-22 16:25:25           2017-03-01 08:07:38   \n",
       "22663          2017-02-22 11:23:10           2017-03-09 07:28:47   \n",
       "23156          2017-02-22 11:23:11           2017-03-02 11:09:19   \n",
       "26800          2017-01-25 14:56:50           2017-01-30 18:16:01   \n",
       "38290          2017-02-23 03:11:48           2017-03-02 03:41:58   \n",
       "39334          2017-02-23 07:23:36           2017-03-02 16:15:23   \n",
       "48401          2017-01-27 11:08:05           2017-02-06 14:22:19   \n",
       "61743          2017-02-22 11:42:51           2017-03-03 12:16:03   \n",
       "63052          2017-02-23 03:09:14           2017-03-07 13:57:47   \n",
       "67697          2017-02-22 11:31:06           2017-03-02 12:06:06   \n",
       "72407          2017-02-22 11:31:30           2017-03-03 11:47:47   \n",
       "84999          2017-02-22 11:23:11           2017-03-03 18:43:43   \n",
       "\n",
       "      order_estimated_delivery_date  \n",
       "5323                     2017-03-17  \n",
       "16567                    2017-03-21  \n",
       "19031                    2017-03-17  \n",
       "22663                    2017-03-31  \n",
       "23156                    2017-03-20  \n",
       "26800                    2017-03-01  \n",
       "38290                    2017-03-27  \n",
       "39334                    2017-03-22  \n",
       "48401                    2017-03-16  \n",
       "61743                    2017-03-20  \n",
       "63052                    2017-03-29  \n",
       "67697                    2017-03-21  \n",
       "72407                    2017-03-23  \n",
       "84999                    2017-03-31  "
      ]
     },
     "execution_count": 92,
     "metadata": {},
     "output_type": "execute_result"
    }
   ],
   "source": [
    "data_order[(data_order.order_status == 'delivered') & (data_order.order_approved_at.isnull())]"
   ]
  },
  {
   "cell_type": "code",
   "execution_count": 94,
   "metadata": {},
   "outputs": [],
   "source": [
    "'Me traigo aquellos registros con fecha de aprobación nulos y que han sido entregados. En la parte derecha, imputo el valor con el promedio de demora'\n",
    "\n",
    "data_order.loc[(data_order.order_status == 'delivered') & (data_order.order_approved_at.isnull()), 'order_approved_at'] = data_order.order_purchase_timestamp + pd.Timedelta(promedio_demora_aprobacion) \n"
   ]
  },
  {
   "cell_type": "code",
   "execution_count": 97,
   "metadata": {},
   "outputs": [
    {
     "data": {
      "text/html": [
       "<div>\n",
       "<style scoped>\n",
       "    .dataframe tbody tr th:only-of-type {\n",
       "        vertical-align: middle;\n",
       "    }\n",
       "\n",
       "    .dataframe tbody tr th {\n",
       "        vertical-align: top;\n",
       "    }\n",
       "\n",
       "    .dataframe thead th {\n",
       "        text-align: right;\n",
       "    }\n",
       "</style>\n",
       "<table border=\"1\" class=\"dataframe\">\n",
       "  <thead>\n",
       "    <tr style=\"text-align: right;\">\n",
       "      <th></th>\n",
       "      <th>order_id</th>\n",
       "      <th>customer_id</th>\n",
       "      <th>order_status</th>\n",
       "      <th>order_purchase_timestamp</th>\n",
       "      <th>order_approved_at</th>\n",
       "      <th>order_delivered_carrier_date</th>\n",
       "      <th>order_delivered_customer_date</th>\n",
       "      <th>order_estimated_delivery_date</th>\n",
       "    </tr>\n",
       "  </thead>\n",
       "  <tbody>\n",
       "    <tr>\n",
       "      <th>5323</th>\n",
       "      <td>e04abd8149ef81b95221e88f6ed9ab6a</td>\n",
       "      <td>2127dc6603ac33544953ef05ec155771</td>\n",
       "      <td>delivered</td>\n",
       "      <td>2017-02-18 14:40:00</td>\n",
       "      <td>2017-02-18 17:28:30.204700651</td>\n",
       "      <td>2017-02-23 12:04:47</td>\n",
       "      <td>2017-03-01 13:25:33</td>\n",
       "      <td>2017-03-17</td>\n",
       "    </tr>\n",
       "  </tbody>\n",
       "</table>\n",
       "</div>"
      ],
      "text/plain": [
       "                              order_id                       customer_id  \\\n",
       "5323  e04abd8149ef81b95221e88f6ed9ab6a  2127dc6603ac33544953ef05ec155771   \n",
       "\n",
       "     order_status order_purchase_timestamp             order_approved_at  \\\n",
       "5323    delivered      2017-02-18 14:40:00 2017-02-18 17:28:30.204700651   \n",
       "\n",
       "     order_delivered_carrier_date order_delivered_customer_date  \\\n",
       "5323          2017-02-23 12:04:47           2017-03-01 13:25:33   \n",
       "\n",
       "     order_estimated_delivery_date  \n",
       "5323                    2017-03-17  "
      ]
     },
     "execution_count": 97,
     "metadata": {},
     "output_type": "execute_result"
    }
   ],
   "source": [
    "'vemos que brilla el método'\n",
    "\n",
    "data_order[data_order.index == 5323]"
   ]
  },
  {
   "cell_type": "markdown",
   "metadata": {},
   "source": [
    "***'order_delivered_carrier_date' en órdenes entregadas***"
   ]
  },
  {
   "cell_type": "code",
   "execution_count": 10,
   "metadata": {},
   "outputs": [
    {
     "data": {
      "text/html": [
       "<div>\n",
       "<style scoped>\n",
       "    .dataframe tbody tr th:only-of-type {\n",
       "        vertical-align: middle;\n",
       "    }\n",
       "\n",
       "    .dataframe tbody tr th {\n",
       "        vertical-align: top;\n",
       "    }\n",
       "\n",
       "    .dataframe thead th {\n",
       "        text-align: right;\n",
       "    }\n",
       "</style>\n",
       "<table border=\"1\" class=\"dataframe\">\n",
       "  <thead>\n",
       "    <tr style=\"text-align: right;\">\n",
       "      <th></th>\n",
       "      <th>order_id</th>\n",
       "      <th>customer_id</th>\n",
       "      <th>order_status</th>\n",
       "      <th>order_purchase_timestamp</th>\n",
       "      <th>order_approved_at</th>\n",
       "      <th>order_delivered_carrier_date</th>\n",
       "      <th>order_delivered_customer_date</th>\n",
       "      <th>order_estimated_delivery_date</th>\n",
       "    </tr>\n",
       "  </thead>\n",
       "  <tbody>\n",
       "    <tr>\n",
       "      <th>73222</th>\n",
       "      <td>2aa91108853cecb43c84a5dc5b277475</td>\n",
       "      <td>afeb16c7f46396c0ed54acb45ccaaa40</td>\n",
       "      <td>delivered</td>\n",
       "      <td>2017-09-29 08:52:58</td>\n",
       "      <td>2017-09-29 09:07:16</td>\n",
       "      <td>NaT</td>\n",
       "      <td>2017-11-20 19:44:47</td>\n",
       "      <td>2017-11-14</td>\n",
       "    </tr>\n",
       "    <tr>\n",
       "      <th>92643</th>\n",
       "      <td>2d858f451373b04fb5c984a1cc2defaf</td>\n",
       "      <td>e08caf668d499a6d643dafd7c5cc498a</td>\n",
       "      <td>delivered</td>\n",
       "      <td>2017-05-25 23:22:43</td>\n",
       "      <td>2017-05-25 23:30:16</td>\n",
       "      <td>NaT</td>\n",
       "      <td>NaT</td>\n",
       "      <td>2017-06-23</td>\n",
       "    </tr>\n",
       "  </tbody>\n",
       "</table>\n",
       "</div>"
      ],
      "text/plain": [
       "                               order_id                       customer_id  \\\n",
       "73222  2aa91108853cecb43c84a5dc5b277475  afeb16c7f46396c0ed54acb45ccaaa40   \n",
       "92643  2d858f451373b04fb5c984a1cc2defaf  e08caf668d499a6d643dafd7c5cc498a   \n",
       "\n",
       "      order_status order_purchase_timestamp   order_approved_at  \\\n",
       "73222    delivered      2017-09-29 08:52:58 2017-09-29 09:07:16   \n",
       "92643    delivered      2017-05-25 23:22:43 2017-05-25 23:30:16   \n",
       "\n",
       "      order_delivered_carrier_date order_delivered_customer_date  \\\n",
       "73222                          NaT           2017-11-20 19:44:47   \n",
       "92643                          NaT                           NaT   \n",
       "\n",
       "      order_estimated_delivery_date  \n",
       "73222                    2017-11-14  \n",
       "92643                    2017-06-23  "
      ]
     },
     "execution_count": 10,
     "metadata": {},
     "output_type": "execute_result"
    }
   ],
   "source": [
    "data_order[(data_order.order_status == 'delivered') & (data_order.order_delivered_carrier_date.isnull())]"
   ]
  },
  {
   "cell_type": "code",
   "execution_count": 99,
   "metadata": {},
   "outputs": [],
   "source": [
    "'Me traigo aquellos registros con fecha de salida nulos y que han sido entregados. En la parte derecha, imputo el valor con el promedio de demora'\n",
    "\n",
    "data_order.loc[(data_order.order_status == 'delivered') & (data_order.order_delivered_carrier_date.isnull()), 'order_delivered_carrier_date'] = data_order.order_approved_at + pd.Timedelta(promedio_demora_salida) "
   ]
  },
  {
   "cell_type": "code",
   "execution_count": 102,
   "metadata": {},
   "outputs": [
    {
     "data": {
      "text/html": [
       "<div>\n",
       "<style scoped>\n",
       "    .dataframe tbody tr th:only-of-type {\n",
       "        vertical-align: middle;\n",
       "    }\n",
       "\n",
       "    .dataframe tbody tr th {\n",
       "        vertical-align: top;\n",
       "    }\n",
       "\n",
       "    .dataframe thead th {\n",
       "        text-align: right;\n",
       "    }\n",
       "</style>\n",
       "<table border=\"1\" class=\"dataframe\">\n",
       "  <thead>\n",
       "    <tr style=\"text-align: right;\">\n",
       "      <th></th>\n",
       "      <th>order_id</th>\n",
       "      <th>customer_id</th>\n",
       "      <th>order_status</th>\n",
       "      <th>order_purchase_timestamp</th>\n",
       "      <th>order_approved_at</th>\n",
       "      <th>order_delivered_carrier_date</th>\n",
       "      <th>order_delivered_customer_date</th>\n",
       "      <th>order_estimated_delivery_date</th>\n",
       "    </tr>\n",
       "  </thead>\n",
       "  <tbody>\n",
       "    <tr>\n",
       "      <th>73222</th>\n",
       "      <td>2aa91108853cecb43c84a5dc5b277475</td>\n",
       "      <td>afeb16c7f46396c0ed54acb45ccaaa40</td>\n",
       "      <td>delivered</td>\n",
       "      <td>2017-09-29 08:52:58</td>\n",
       "      <td>2017-09-29 09:07:16</td>\n",
       "      <td>2017-10-01 14:51:50.240298236</td>\n",
       "      <td>2017-11-20 19:44:47</td>\n",
       "      <td>2017-11-14</td>\n",
       "    </tr>\n",
       "  </tbody>\n",
       "</table>\n",
       "</div>"
      ],
      "text/plain": [
       "                               order_id                       customer_id  \\\n",
       "73222  2aa91108853cecb43c84a5dc5b277475  afeb16c7f46396c0ed54acb45ccaaa40   \n",
       "\n",
       "      order_status order_purchase_timestamp   order_approved_at  \\\n",
       "73222    delivered      2017-09-29 08:52:58 2017-09-29 09:07:16   \n",
       "\n",
       "       order_delivered_carrier_date order_delivered_customer_date  \\\n",
       "73222 2017-10-01 14:51:50.240298236           2017-11-20 19:44:47   \n",
       "\n",
       "      order_estimated_delivery_date  \n",
       "73222                    2017-11-14  "
      ]
     },
     "execution_count": 102,
     "metadata": {},
     "output_type": "execute_result"
    }
   ],
   "source": [
    "data_order[data_order.index == 73222]"
   ]
  },
  {
   "cell_type": "markdown",
   "metadata": {},
   "source": [
    "***'order_delivered_customer_date' en órdenes entregadas***"
   ]
  },
  {
   "cell_type": "code",
   "execution_count": 105,
   "metadata": {},
   "outputs": [
    {
     "data": {
      "text/html": [
       "<div>\n",
       "<style scoped>\n",
       "    .dataframe tbody tr th:only-of-type {\n",
       "        vertical-align: middle;\n",
       "    }\n",
       "\n",
       "    .dataframe tbody tr th {\n",
       "        vertical-align: top;\n",
       "    }\n",
       "\n",
       "    .dataframe thead th {\n",
       "        text-align: right;\n",
       "    }\n",
       "</style>\n",
       "<table border=\"1\" class=\"dataframe\">\n",
       "  <thead>\n",
       "    <tr style=\"text-align: right;\">\n",
       "      <th></th>\n",
       "      <th>order_id</th>\n",
       "      <th>customer_id</th>\n",
       "      <th>order_status</th>\n",
       "      <th>order_purchase_timestamp</th>\n",
       "      <th>order_approved_at</th>\n",
       "      <th>order_delivered_carrier_date</th>\n",
       "      <th>order_delivered_customer_date</th>\n",
       "      <th>order_estimated_delivery_date</th>\n",
       "    </tr>\n",
       "  </thead>\n",
       "  <tbody>\n",
       "    <tr>\n",
       "      <th>3002</th>\n",
       "      <td>2d1e2d5bf4dc7227b3bfebb81328c15f</td>\n",
       "      <td>ec05a6d8558c6455f0cbbd8a420ad34f</td>\n",
       "      <td>delivered</td>\n",
       "      <td>2017-11-28 17:44:07</td>\n",
       "      <td>2017-11-28 17:56:40</td>\n",
       "      <td>2017-11-30 18:12:23.000000000</td>\n",
       "      <td>NaT</td>\n",
       "      <td>2017-12-18</td>\n",
       "    </tr>\n",
       "    <tr>\n",
       "      <th>20618</th>\n",
       "      <td>f5dd62b788049ad9fc0526e3ad11a097</td>\n",
       "      <td>5e89028e024b381dc84a13a3570decb4</td>\n",
       "      <td>delivered</td>\n",
       "      <td>2018-06-20 06:58:43</td>\n",
       "      <td>2018-06-20 07:19:05</td>\n",
       "      <td>2018-06-25 08:05:00.000000000</td>\n",
       "      <td>NaT</td>\n",
       "      <td>2018-07-16</td>\n",
       "    </tr>\n",
       "    <tr>\n",
       "      <th>43834</th>\n",
       "      <td>2ebdfc4f15f23b91474edf87475f108e</td>\n",
       "      <td>29f0540231702fda0cfdee0a310f11aa</td>\n",
       "      <td>delivered</td>\n",
       "      <td>2018-07-01 17:05:11</td>\n",
       "      <td>2018-07-01 17:15:12</td>\n",
       "      <td>2018-07-03 13:57:00.000000000</td>\n",
       "      <td>NaT</td>\n",
       "      <td>2018-07-30</td>\n",
       "    </tr>\n",
       "    <tr>\n",
       "      <th>79263</th>\n",
       "      <td>e69f75a717d64fc5ecdfae42b2e8e086</td>\n",
       "      <td>cfda40ca8dd0a5d486a9635b611b398a</td>\n",
       "      <td>delivered</td>\n",
       "      <td>2018-07-01 22:05:55</td>\n",
       "      <td>2018-07-01 22:15:14</td>\n",
       "      <td>2018-07-03 13:57:00.000000000</td>\n",
       "      <td>NaT</td>\n",
       "      <td>2018-07-30</td>\n",
       "    </tr>\n",
       "    <tr>\n",
       "      <th>82868</th>\n",
       "      <td>0d3268bad9b086af767785e3f0fc0133</td>\n",
       "      <td>4f1d63d35fb7c8999853b2699f5c7649</td>\n",
       "      <td>delivered</td>\n",
       "      <td>2018-07-01 21:14:02</td>\n",
       "      <td>2018-07-01 21:29:54</td>\n",
       "      <td>2018-07-03 09:28:00.000000000</td>\n",
       "      <td>NaT</td>\n",
       "      <td>2018-07-24</td>\n",
       "    </tr>\n",
       "    <tr>\n",
       "      <th>92643</th>\n",
       "      <td>2d858f451373b04fb5c984a1cc2defaf</td>\n",
       "      <td>e08caf668d499a6d643dafd7c5cc498a</td>\n",
       "      <td>delivered</td>\n",
       "      <td>2017-05-25 23:22:43</td>\n",
       "      <td>2017-05-25 23:30:16</td>\n",
       "      <td>2017-05-28 05:14:50.240298236</td>\n",
       "      <td>NaT</td>\n",
       "      <td>2017-06-23</td>\n",
       "    </tr>\n",
       "    <tr>\n",
       "      <th>97647</th>\n",
       "      <td>ab7c89dc1bf4a1ead9d6ec1ec8968a84</td>\n",
       "      <td>dd1b84a7286eb4524d52af4256c0ba24</td>\n",
       "      <td>delivered</td>\n",
       "      <td>2018-06-08 12:09:39</td>\n",
       "      <td>2018-06-08 12:36:39</td>\n",
       "      <td>2018-06-12 14:10:00.000000000</td>\n",
       "      <td>NaT</td>\n",
       "      <td>2018-06-26</td>\n",
       "    </tr>\n",
       "    <tr>\n",
       "      <th>98038</th>\n",
       "      <td>20edc82cf5400ce95e1afacc25798b31</td>\n",
       "      <td>28c37425f1127d887d7337f284080a0f</td>\n",
       "      <td>delivered</td>\n",
       "      <td>2018-06-27 16:09:12</td>\n",
       "      <td>2018-06-27 16:29:30</td>\n",
       "      <td>2018-07-03 19:26:00.000000000</td>\n",
       "      <td>NaT</td>\n",
       "      <td>2018-07-19</td>\n",
       "    </tr>\n",
       "  </tbody>\n",
       "</table>\n",
       "</div>"
      ],
      "text/plain": [
       "                               order_id                       customer_id  \\\n",
       "3002   2d1e2d5bf4dc7227b3bfebb81328c15f  ec05a6d8558c6455f0cbbd8a420ad34f   \n",
       "20618  f5dd62b788049ad9fc0526e3ad11a097  5e89028e024b381dc84a13a3570decb4   \n",
       "43834  2ebdfc4f15f23b91474edf87475f108e  29f0540231702fda0cfdee0a310f11aa   \n",
       "79263  e69f75a717d64fc5ecdfae42b2e8e086  cfda40ca8dd0a5d486a9635b611b398a   \n",
       "82868  0d3268bad9b086af767785e3f0fc0133  4f1d63d35fb7c8999853b2699f5c7649   \n",
       "92643  2d858f451373b04fb5c984a1cc2defaf  e08caf668d499a6d643dafd7c5cc498a   \n",
       "97647  ab7c89dc1bf4a1ead9d6ec1ec8968a84  dd1b84a7286eb4524d52af4256c0ba24   \n",
       "98038  20edc82cf5400ce95e1afacc25798b31  28c37425f1127d887d7337f284080a0f   \n",
       "\n",
       "      order_status order_purchase_timestamp   order_approved_at  \\\n",
       "3002     delivered      2017-11-28 17:44:07 2017-11-28 17:56:40   \n",
       "20618    delivered      2018-06-20 06:58:43 2018-06-20 07:19:05   \n",
       "43834    delivered      2018-07-01 17:05:11 2018-07-01 17:15:12   \n",
       "79263    delivered      2018-07-01 22:05:55 2018-07-01 22:15:14   \n",
       "82868    delivered      2018-07-01 21:14:02 2018-07-01 21:29:54   \n",
       "92643    delivered      2017-05-25 23:22:43 2017-05-25 23:30:16   \n",
       "97647    delivered      2018-06-08 12:09:39 2018-06-08 12:36:39   \n",
       "98038    delivered      2018-06-27 16:09:12 2018-06-27 16:29:30   \n",
       "\n",
       "       order_delivered_carrier_date order_delivered_customer_date  \\\n",
       "3002  2017-11-30 18:12:23.000000000                           NaT   \n",
       "20618 2018-06-25 08:05:00.000000000                           NaT   \n",
       "43834 2018-07-03 13:57:00.000000000                           NaT   \n",
       "79263 2018-07-03 13:57:00.000000000                           NaT   \n",
       "82868 2018-07-03 09:28:00.000000000                           NaT   \n",
       "92643 2017-05-28 05:14:50.240298236                           NaT   \n",
       "97647 2018-06-12 14:10:00.000000000                           NaT   \n",
       "98038 2018-07-03 19:26:00.000000000                           NaT   \n",
       "\n",
       "      order_estimated_delivery_date  \n",
       "3002                     2017-12-18  \n",
       "20618                    2018-07-16  \n",
       "43834                    2018-07-30  \n",
       "79263                    2018-07-30  \n",
       "82868                    2018-07-24  \n",
       "92643                    2017-06-23  \n",
       "97647                    2018-06-26  \n",
       "98038                    2018-07-19  "
      ]
     },
     "execution_count": 105,
     "metadata": {},
     "output_type": "execute_result"
    }
   ],
   "source": [
    "data_order[(data_order.order_status == 'delivered') & (data_order.order_delivered_customer_date.isnull())]"
   ]
  },
  {
   "cell_type": "code",
   "execution_count": 106,
   "metadata": {},
   "outputs": [],
   "source": [
    "'Me traigo aquellos registros con fecha de salida nulos y que han sido entregados. En la parte derecha, imputo el valor con el promedio de demora'\n",
    "\n",
    "data_order.loc[(data_order.order_status == 'delivered') & (data_order.order_delivered_customer_date.isnull()), 'order_delivered_customer_date'] = data_order.order_delivered_carrier_date + pd.Timedelta(promedio_demora_llegada) "
   ]
  },
  {
   "cell_type": "code",
   "execution_count": 110,
   "metadata": {},
   "outputs": [
    {
     "data": {
      "text/html": [
       "<div>\n",
       "<style scoped>\n",
       "    .dataframe tbody tr th:only-of-type {\n",
       "        vertical-align: middle;\n",
       "    }\n",
       "\n",
       "    .dataframe tbody tr th {\n",
       "        vertical-align: top;\n",
       "    }\n",
       "\n",
       "    .dataframe thead th {\n",
       "        text-align: right;\n",
       "    }\n",
       "</style>\n",
       "<table border=\"1\" class=\"dataframe\">\n",
       "  <thead>\n",
       "    <tr style=\"text-align: right;\">\n",
       "      <th></th>\n",
       "      <th>order_id</th>\n",
       "      <th>customer_id</th>\n",
       "      <th>order_status</th>\n",
       "      <th>order_purchase_timestamp</th>\n",
       "      <th>order_approved_at</th>\n",
       "      <th>order_delivered_carrier_date</th>\n",
       "      <th>order_delivered_customer_date</th>\n",
       "      <th>order_estimated_delivery_date</th>\n",
       "    </tr>\n",
       "  </thead>\n",
       "  <tbody>\n",
       "    <tr>\n",
       "      <th>3002</th>\n",
       "      <td>2d1e2d5bf4dc7227b3bfebb81328c15f</td>\n",
       "      <td>ec05a6d8558c6455f0cbbd8a420ad34f</td>\n",
       "      <td>delivered</td>\n",
       "      <td>2017-11-28 17:44:07</td>\n",
       "      <td>2017-11-28 17:56:40</td>\n",
       "      <td>2017-11-30 18:12:23</td>\n",
       "      <td>2017-12-08 17:46:31.253344124</td>\n",
       "      <td>2017-12-18</td>\n",
       "    </tr>\n",
       "  </tbody>\n",
       "</table>\n",
       "</div>"
      ],
      "text/plain": [
       "                              order_id                       customer_id  \\\n",
       "3002  2d1e2d5bf4dc7227b3bfebb81328c15f  ec05a6d8558c6455f0cbbd8a420ad34f   \n",
       "\n",
       "     order_status order_purchase_timestamp   order_approved_at  \\\n",
       "3002    delivered      2017-11-28 17:44:07 2017-11-28 17:56:40   \n",
       "\n",
       "     order_delivered_carrier_date order_delivered_customer_date  \\\n",
       "3002          2017-11-30 18:12:23 2017-12-08 17:46:31.253344124   \n",
       "\n",
       "     order_estimated_delivery_date  \n",
       "3002                    2017-12-18  "
      ]
     },
     "execution_count": 110,
     "metadata": {},
     "output_type": "execute_result"
    }
   ],
   "source": [
    "data_order[data_order.index == 3002]"
   ]
  },
  {
   "cell_type": "markdown",
   "metadata": {},
   "source": [
    "#### ***Ahora observamos los valores faltantes en las compras que no fueron entregadas***"
   ]
  },
  {
   "cell_type": "code",
   "execution_count": 111,
   "metadata": {},
   "outputs": [
    {
     "data": {
      "text/plain": [
       "order_id                            0\n",
       "customer_id                         0\n",
       "order_status                        0\n",
       "order_purchase_timestamp            0\n",
       "order_approved_at                 146\n",
       "order_delivered_carrier_date     1780\n",
       "order_delivered_customer_date    2956\n",
       "order_estimated_delivery_date       0\n",
       "dtype: int64"
      ]
     },
     "execution_count": 111,
     "metadata": {},
     "output_type": "execute_result"
    }
   ],
   "source": [
    "data_order.isnull().sum()"
   ]
  },
  {
   "cell_type": "code",
   "execution_count": 122,
   "metadata": {},
   "outputs": [
    {
     "data": {
      "text/html": [
       "<div>\n",
       "<style scoped>\n",
       "    .dataframe tbody tr th:only-of-type {\n",
       "        vertical-align: middle;\n",
       "    }\n",
       "\n",
       "    .dataframe tbody tr th {\n",
       "        vertical-align: top;\n",
       "    }\n",
       "\n",
       "    .dataframe thead th {\n",
       "        text-align: right;\n",
       "    }\n",
       "</style>\n",
       "<table border=\"1\" class=\"dataframe\">\n",
       "  <thead>\n",
       "    <tr style=\"text-align: right;\">\n",
       "      <th></th>\n",
       "      <th>order_id</th>\n",
       "      <th>customer_id</th>\n",
       "      <th>order_status</th>\n",
       "      <th>order_purchase_timestamp</th>\n",
       "      <th>order_approved_at</th>\n",
       "      <th>order_delivered_carrier_date</th>\n",
       "      <th>order_delivered_customer_date</th>\n",
       "      <th>order_estimated_delivery_date</th>\n",
       "    </tr>\n",
       "  </thead>\n",
       "  <tbody>\n",
       "    <tr>\n",
       "      <th>1130</th>\n",
       "      <td>00b1cb0320190ca0daa2c88b35206009</td>\n",
       "      <td>3532ba38a3fd242259a514ac2b6ae6b6</td>\n",
       "      <td>canceled</td>\n",
       "      <td>2018-08-28 15:26:39</td>\n",
       "      <td>NaT</td>\n",
       "      <td>NaT</td>\n",
       "      <td>NaT</td>\n",
       "      <td>2018-09-12</td>\n",
       "    </tr>\n",
       "    <tr>\n",
       "      <th>1801</th>\n",
       "      <td>ed3efbd3a87bea76c2812c66a0b32219</td>\n",
       "      <td>191984a8ba4cbb2145acb4fe35b69664</td>\n",
       "      <td>canceled</td>\n",
       "      <td>2018-09-20 13:54:16</td>\n",
       "      <td>NaT</td>\n",
       "      <td>NaT</td>\n",
       "      <td>NaT</td>\n",
       "      <td>2018-10-17</td>\n",
       "    </tr>\n",
       "    <tr>\n",
       "      <th>1868</th>\n",
       "      <td>df8282afe61008dc26c6c31011474d02</td>\n",
       "      <td>aa797b187b5466bc6925aaaa4bb3bed1</td>\n",
       "      <td>canceled</td>\n",
       "      <td>2017-03-04 12:14:30</td>\n",
       "      <td>NaT</td>\n",
       "      <td>NaT</td>\n",
       "      <td>NaT</td>\n",
       "      <td>2017-04-10</td>\n",
       "    </tr>\n",
       "    <tr>\n",
       "      <th>2029</th>\n",
       "      <td>8d4c637f1accf7a88a4555f02741e606</td>\n",
       "      <td>b1dd715db389a2077f43174e7a675d07</td>\n",
       "      <td>canceled</td>\n",
       "      <td>2018-08-29 16:27:49</td>\n",
       "      <td>NaT</td>\n",
       "      <td>NaT</td>\n",
       "      <td>NaT</td>\n",
       "      <td>2018-09-13</td>\n",
       "    </tr>\n",
       "    <tr>\n",
       "      <th>2161</th>\n",
       "      <td>7a9d4c7f9b068337875b95465330f2fc</td>\n",
       "      <td>7f71ae48074c0cfec9195f88fcbfac55</td>\n",
       "      <td>canceled</td>\n",
       "      <td>2017-05-01 16:12:39</td>\n",
       "      <td>NaT</td>\n",
       "      <td>NaT</td>\n",
       "      <td>NaT</td>\n",
       "      <td>2017-05-30</td>\n",
       "    </tr>\n",
       "    <tr>\n",
       "      <th>...</th>\n",
       "      <td>...</td>\n",
       "      <td>...</td>\n",
       "      <td>...</td>\n",
       "      <td>...</td>\n",
       "      <td>...</td>\n",
       "      <td>...</td>\n",
       "      <td>...</td>\n",
       "      <td>...</td>\n",
       "    </tr>\n",
       "    <tr>\n",
       "      <th>97696</th>\n",
       "      <td>5a00b4d35edffc56b825c3646a99ba9d</td>\n",
       "      <td>6a3bdf004ca96338fb5fad1b8d93c2e6</td>\n",
       "      <td>canceled</td>\n",
       "      <td>2017-07-02 15:38:46</td>\n",
       "      <td>NaT</td>\n",
       "      <td>NaT</td>\n",
       "      <td>NaT</td>\n",
       "      <td>2017-07-25</td>\n",
       "    </tr>\n",
       "    <tr>\n",
       "      <th>98415</th>\n",
       "      <td>227c804e2a44760671a6a5697ea549e4</td>\n",
       "      <td>62e7477e75e542243ee62a0ba73f410f</td>\n",
       "      <td>canceled</td>\n",
       "      <td>2017-09-28 15:02:56</td>\n",
       "      <td>NaT</td>\n",
       "      <td>NaT</td>\n",
       "      <td>NaT</td>\n",
       "      <td>2017-10-16</td>\n",
       "    </tr>\n",
       "    <tr>\n",
       "      <th>98909</th>\n",
       "      <td>e49e7ce1471b4693482d40c2bd3ad196</td>\n",
       "      <td>e4e7ab3f449aeb401f0216f86c2104db</td>\n",
       "      <td>canceled</td>\n",
       "      <td>2018-08-07 11:16:28</td>\n",
       "      <td>NaT</td>\n",
       "      <td>NaT</td>\n",
       "      <td>NaT</td>\n",
       "      <td>2018-08-10</td>\n",
       "    </tr>\n",
       "    <tr>\n",
       "      <th>99283</th>\n",
       "      <td>3a3cddda5a7c27851bd96c3313412840</td>\n",
       "      <td>0b0d6095c5555fe083844281f6b093bb</td>\n",
       "      <td>canceled</td>\n",
       "      <td>2018-08-31 16:13:44</td>\n",
       "      <td>NaT</td>\n",
       "      <td>NaT</td>\n",
       "      <td>NaT</td>\n",
       "      <td>2018-10-01</td>\n",
       "    </tr>\n",
       "    <tr>\n",
       "      <th>99347</th>\n",
       "      <td>a89abace0dcc01eeb267a9660b5ac126</td>\n",
       "      <td>2f0524a7b1b3845a1a57fcf3910c4333</td>\n",
       "      <td>canceled</td>\n",
       "      <td>2018-09-06 18:45:47</td>\n",
       "      <td>NaT</td>\n",
       "      <td>NaT</td>\n",
       "      <td>NaT</td>\n",
       "      <td>2018-09-27</td>\n",
       "    </tr>\n",
       "  </tbody>\n",
       "</table>\n",
       "<p>146 rows × 8 columns</p>\n",
       "</div>"
      ],
      "text/plain": [
       "                               order_id                       customer_id  \\\n",
       "1130   00b1cb0320190ca0daa2c88b35206009  3532ba38a3fd242259a514ac2b6ae6b6   \n",
       "1801   ed3efbd3a87bea76c2812c66a0b32219  191984a8ba4cbb2145acb4fe35b69664   \n",
       "1868   df8282afe61008dc26c6c31011474d02  aa797b187b5466bc6925aaaa4bb3bed1   \n",
       "2029   8d4c637f1accf7a88a4555f02741e606  b1dd715db389a2077f43174e7a675d07   \n",
       "2161   7a9d4c7f9b068337875b95465330f2fc  7f71ae48074c0cfec9195f88fcbfac55   \n",
       "...                                 ...                               ...   \n",
       "97696  5a00b4d35edffc56b825c3646a99ba9d  6a3bdf004ca96338fb5fad1b8d93c2e6   \n",
       "98415  227c804e2a44760671a6a5697ea549e4  62e7477e75e542243ee62a0ba73f410f   \n",
       "98909  e49e7ce1471b4693482d40c2bd3ad196  e4e7ab3f449aeb401f0216f86c2104db   \n",
       "99283  3a3cddda5a7c27851bd96c3313412840  0b0d6095c5555fe083844281f6b093bb   \n",
       "99347  a89abace0dcc01eeb267a9660b5ac126  2f0524a7b1b3845a1a57fcf3910c4333   \n",
       "\n",
       "      order_status order_purchase_timestamp order_approved_at  \\\n",
       "1130      canceled      2018-08-28 15:26:39               NaT   \n",
       "1801      canceled      2018-09-20 13:54:16               NaT   \n",
       "1868      canceled      2017-03-04 12:14:30               NaT   \n",
       "2029      canceled      2018-08-29 16:27:49               NaT   \n",
       "2161      canceled      2017-05-01 16:12:39               NaT   \n",
       "...            ...                      ...               ...   \n",
       "97696     canceled      2017-07-02 15:38:46               NaT   \n",
       "98415     canceled      2017-09-28 15:02:56               NaT   \n",
       "98909     canceled      2018-08-07 11:16:28               NaT   \n",
       "99283     canceled      2018-08-31 16:13:44               NaT   \n",
       "99347     canceled      2018-09-06 18:45:47               NaT   \n",
       "\n",
       "      order_delivered_carrier_date order_delivered_customer_date  \\\n",
       "1130                           NaT                           NaT   \n",
       "1801                           NaT                           NaT   \n",
       "1868                           NaT                           NaT   \n",
       "2029                           NaT                           NaT   \n",
       "2161                           NaT                           NaT   \n",
       "...                            ...                           ...   \n",
       "97696                          NaT                           NaT   \n",
       "98415                          NaT                           NaT   \n",
       "98909                          NaT                           NaT   \n",
       "99283                          NaT                           NaT   \n",
       "99347                          NaT                           NaT   \n",
       "\n",
       "      order_estimated_delivery_date  \n",
       "1130                     2018-09-12  \n",
       "1801                     2018-10-17  \n",
       "1868                     2017-04-10  \n",
       "2029                     2018-09-13  \n",
       "2161                     2017-05-30  \n",
       "...                             ...  \n",
       "97696                    2017-07-25  \n",
       "98415                    2017-10-16  \n",
       "98909                    2018-08-10  \n",
       "99283                    2018-10-01  \n",
       "99347                    2018-09-27  \n",
       "\n",
       "[146 rows x 8 columns]"
      ]
     },
     "execution_count": 122,
     "metadata": {},
     "output_type": "execute_result"
    }
   ],
   "source": [
    "'Estos nulos no se tocan, porque son todas órdenes canceladas o solamente creadas. Por eso no tienen fecha de aprobación'\n",
    "\n",
    "data_order[data_order.order_approved_at.isnull()]"
   ]
  },
  {
   "cell_type": "code",
   "execution_count": 125,
   "metadata": {},
   "outputs": [
    {
     "data": {
      "text/plain": [
       "unavailable    608\n",
       "canceled       550\n",
       "invoiced       314\n",
       "processing     301\n",
       "created          5\n",
       "approved         2\n",
       "Name: order_status, dtype: int64"
      ]
     },
     "execution_count": 125,
     "metadata": {},
     "output_type": "execute_result"
    }
   ],
   "source": [
    "'Estos nulos son todos de compras que no se terminaron concretando. Está bien que no tengan fecha de salida'\n",
    "\n",
    "data_order[data_order.order_delivered_carrier_date.isnull()].order_status.value_counts()"
   ]
  },
  {
   "cell_type": "code",
   "execution_count": 126,
   "metadata": {},
   "outputs": [
    {
     "data": {
      "text/plain": [
       "shipped        1107\n",
       "canceled        619\n",
       "unavailable     608\n",
       "invoiced        314\n",
       "processing      301\n",
       "created           5\n",
       "approved          2\n",
       "Name: order_status, dtype: int64"
      ]
     },
     "execution_count": 126,
     "metadata": {},
     "output_type": "execute_result"
    }
   ],
   "source": [
    "data_order[data_order.order_delivered_customer_date.isnull()].order_status.value_counts()"
   ]
  },
  {
   "cell_type": "code",
   "execution_count": 129,
   "metadata": {},
   "outputs": [
    {
     "data": {
      "text/html": [
       "<div>\n",
       "<style scoped>\n",
       "    .dataframe tbody tr th:only-of-type {\n",
       "        vertical-align: middle;\n",
       "    }\n",
       "\n",
       "    .dataframe tbody tr th {\n",
       "        vertical-align: top;\n",
       "    }\n",
       "\n",
       "    .dataframe thead th {\n",
       "        text-align: right;\n",
       "    }\n",
       "</style>\n",
       "<table border=\"1\" class=\"dataframe\">\n",
       "  <thead>\n",
       "    <tr style=\"text-align: right;\">\n",
       "      <th></th>\n",
       "      <th>order_id</th>\n",
       "      <th>customer_id</th>\n",
       "      <th>order_status</th>\n",
       "      <th>order_purchase_timestamp</th>\n",
       "      <th>order_approved_at</th>\n",
       "      <th>order_delivered_carrier_date</th>\n",
       "      <th>order_delivered_customer_date</th>\n",
       "      <th>order_estimated_delivery_date</th>\n",
       "    </tr>\n",
       "  </thead>\n",
       "  <tbody>\n",
       "    <tr>\n",
       "      <th>44</th>\n",
       "      <td>ee64d42b8cf066f35eac1cf57de1aa85</td>\n",
       "      <td>caded193e8e47b8362864762a83db3c5</td>\n",
       "      <td>shipped</td>\n",
       "      <td>2018-06-04 16:44:48</td>\n",
       "      <td>2018-06-05 04:31:18</td>\n",
       "      <td>2018-06-05 14:32:00</td>\n",
       "      <td>NaT</td>\n",
       "      <td>2018-06-28</td>\n",
       "    </tr>\n",
       "    <tr>\n",
       "      <th>154</th>\n",
       "      <td>6942b8da583c2f9957e990d028607019</td>\n",
       "      <td>52006a9383bf149a4fb24226b173106f</td>\n",
       "      <td>shipped</td>\n",
       "      <td>2018-01-10 11:33:07</td>\n",
       "      <td>2018-01-11 02:32:30</td>\n",
       "      <td>2018-01-11 19:39:23</td>\n",
       "      <td>NaT</td>\n",
       "      <td>2018-02-07</td>\n",
       "    </tr>\n",
       "    <tr>\n",
       "      <th>162</th>\n",
       "      <td>36530871a5e80138db53bcfd8a104d90</td>\n",
       "      <td>4dafe3c841d2d6cc8a8b6d25b35704b9</td>\n",
       "      <td>shipped</td>\n",
       "      <td>2017-05-09 11:48:37</td>\n",
       "      <td>2017-05-11 11:45:14</td>\n",
       "      <td>2017-05-11 13:21:47</td>\n",
       "      <td>NaT</td>\n",
       "      <td>2017-06-08</td>\n",
       "    </tr>\n",
       "    <tr>\n",
       "      <th>231</th>\n",
       "      <td>4d630f57194f5aba1a3d12ce23e71cd9</td>\n",
       "      <td>6d491c9fe2f04f6e2af6ec033cd8907c</td>\n",
       "      <td>shipped</td>\n",
       "      <td>2017-11-17 19:53:21</td>\n",
       "      <td>2017-11-18 19:50:31</td>\n",
       "      <td>2017-11-22 17:28:34</td>\n",
       "      <td>NaT</td>\n",
       "      <td>2017-12-13</td>\n",
       "    </tr>\n",
       "    <tr>\n",
       "      <th>299</th>\n",
       "      <td>3b4ad687e7e5190db827e1ae5a8989dd</td>\n",
       "      <td>1a87b8517b7d31373b50396eb15cb445</td>\n",
       "      <td>shipped</td>\n",
       "      <td>2018-06-28 12:52:15</td>\n",
       "      <td>2018-06-28 13:11:09</td>\n",
       "      <td>2018-07-04 15:20:00</td>\n",
       "      <td>NaT</td>\n",
       "      <td>2018-08-03</td>\n",
       "    </tr>\n",
       "    <tr>\n",
       "      <th>...</th>\n",
       "      <td>...</td>\n",
       "      <td>...</td>\n",
       "      <td>...</td>\n",
       "      <td>...</td>\n",
       "      <td>...</td>\n",
       "      <td>...</td>\n",
       "      <td>...</td>\n",
       "      <td>...</td>\n",
       "    </tr>\n",
       "    <tr>\n",
       "      <th>98534</th>\n",
       "      <td>a59ef0abffbef8ddaae23600b6ee6604</td>\n",
       "      <td>49e64271fb8eeb19851dc7e850e92204</td>\n",
       "      <td>shipped</td>\n",
       "      <td>2017-11-06 17:35:49</td>\n",
       "      <td>2017-11-07 06:31:44</td>\n",
       "      <td>2017-11-07 18:57:39</td>\n",
       "      <td>NaT</td>\n",
       "      <td>2017-11-24</td>\n",
       "    </tr>\n",
       "    <tr>\n",
       "      <th>98779</th>\n",
       "      <td>dab8a6c6bd6ec448df5b3a6b6cb887bc</td>\n",
       "      <td>394653a10cab83cad40d7e2713f3ab89</td>\n",
       "      <td>shipped</td>\n",
       "      <td>2018-07-14 10:12:51</td>\n",
       "      <td>2018-07-16 12:30:58</td>\n",
       "      <td>2018-07-16 14:34:00</td>\n",
       "      <td>NaT</td>\n",
       "      <td>2018-08-03</td>\n",
       "    </tr>\n",
       "    <tr>\n",
       "      <th>98932</th>\n",
       "      <td>492aed3c33bac22a8e04138319829283</td>\n",
       "      <td>58466c1166c377a56f6b2ae0d93ffbc0</td>\n",
       "      <td>shipped</td>\n",
       "      <td>2018-07-06 16:26:47</td>\n",
       "      <td>2018-07-06 16:35:10</td>\n",
       "      <td>2018-07-10 12:27:00</td>\n",
       "      <td>NaT</td>\n",
       "      <td>2018-07-26</td>\n",
       "    </tr>\n",
       "    <tr>\n",
       "      <th>99113</th>\n",
       "      <td>274a7f7e4f1c17b7434a830e9b8759b1</td>\n",
       "      <td>670af30ca5b8c20878fecdafa5ee01b9</td>\n",
       "      <td>shipped</td>\n",
       "      <td>2018-06-23 13:25:15</td>\n",
       "      <td>2018-06-23 13:40:11</td>\n",
       "      <td>2018-07-04 13:51:00</td>\n",
       "      <td>NaT</td>\n",
       "      <td>2018-07-24</td>\n",
       "    </tr>\n",
       "    <tr>\n",
       "      <th>99181</th>\n",
       "      <td>636cdd02667dc8d76d9296bf20a6890a</td>\n",
       "      <td>c162256b133c76f79181ce61d66545db</td>\n",
       "      <td>shipped</td>\n",
       "      <td>2018-02-17 14:31:22</td>\n",
       "      <td>2018-02-20 07:11:31</td>\n",
       "      <td>2018-02-20 19:18:58</td>\n",
       "      <td>NaT</td>\n",
       "      <td>2018-03-14</td>\n",
       "    </tr>\n",
       "  </tbody>\n",
       "</table>\n",
       "<p>1107 rows × 8 columns</p>\n",
       "</div>"
      ],
      "text/plain": [
       "                               order_id                       customer_id  \\\n",
       "44     ee64d42b8cf066f35eac1cf57de1aa85  caded193e8e47b8362864762a83db3c5   \n",
       "154    6942b8da583c2f9957e990d028607019  52006a9383bf149a4fb24226b173106f   \n",
       "162    36530871a5e80138db53bcfd8a104d90  4dafe3c841d2d6cc8a8b6d25b35704b9   \n",
       "231    4d630f57194f5aba1a3d12ce23e71cd9  6d491c9fe2f04f6e2af6ec033cd8907c   \n",
       "299    3b4ad687e7e5190db827e1ae5a8989dd  1a87b8517b7d31373b50396eb15cb445   \n",
       "...                                 ...                               ...   \n",
       "98534  a59ef0abffbef8ddaae23600b6ee6604  49e64271fb8eeb19851dc7e850e92204   \n",
       "98779  dab8a6c6bd6ec448df5b3a6b6cb887bc  394653a10cab83cad40d7e2713f3ab89   \n",
       "98932  492aed3c33bac22a8e04138319829283  58466c1166c377a56f6b2ae0d93ffbc0   \n",
       "99113  274a7f7e4f1c17b7434a830e9b8759b1  670af30ca5b8c20878fecdafa5ee01b9   \n",
       "99181  636cdd02667dc8d76d9296bf20a6890a  c162256b133c76f79181ce61d66545db   \n",
       "\n",
       "      order_status order_purchase_timestamp   order_approved_at  \\\n",
       "44         shipped      2018-06-04 16:44:48 2018-06-05 04:31:18   \n",
       "154        shipped      2018-01-10 11:33:07 2018-01-11 02:32:30   \n",
       "162        shipped      2017-05-09 11:48:37 2017-05-11 11:45:14   \n",
       "231        shipped      2017-11-17 19:53:21 2017-11-18 19:50:31   \n",
       "299        shipped      2018-06-28 12:52:15 2018-06-28 13:11:09   \n",
       "...            ...                      ...                 ...   \n",
       "98534      shipped      2017-11-06 17:35:49 2017-11-07 06:31:44   \n",
       "98779      shipped      2018-07-14 10:12:51 2018-07-16 12:30:58   \n",
       "98932      shipped      2018-07-06 16:26:47 2018-07-06 16:35:10   \n",
       "99113      shipped      2018-06-23 13:25:15 2018-06-23 13:40:11   \n",
       "99181      shipped      2018-02-17 14:31:22 2018-02-20 07:11:31   \n",
       "\n",
       "      order_delivered_carrier_date order_delivered_customer_date  \\\n",
       "44             2018-06-05 14:32:00                           NaT   \n",
       "154            2018-01-11 19:39:23                           NaT   \n",
       "162            2017-05-11 13:21:47                           NaT   \n",
       "231            2017-11-22 17:28:34                           NaT   \n",
       "299            2018-07-04 15:20:00                           NaT   \n",
       "...                            ...                           ...   \n",
       "98534          2017-11-07 18:57:39                           NaT   \n",
       "98779          2018-07-16 14:34:00                           NaT   \n",
       "98932          2018-07-10 12:27:00                           NaT   \n",
       "99113          2018-07-04 13:51:00                           NaT   \n",
       "99181          2018-02-20 19:18:58                           NaT   \n",
       "\n",
       "      order_estimated_delivery_date  \n",
       "44                       2018-06-28  \n",
       "154                      2018-02-07  \n",
       "162                      2017-06-08  \n",
       "231                      2017-12-13  \n",
       "299                      2018-08-03  \n",
       "...                             ...  \n",
       "98534                    2017-11-24  \n",
       "98779                    2018-08-03  \n",
       "98932                    2018-07-26  \n",
       "99113                    2018-07-24  \n",
       "99181                    2018-03-14  \n",
       "\n",
       "[1107 rows x 8 columns]"
      ]
     },
     "execution_count": 129,
     "metadata": {},
     "output_type": "execute_result"
    }
   ],
   "source": [
    "'Habrá habido problemas con el flete, por eso nunca llegó. Palmó el camionero'\n",
    "\n",
    "data_order[(data_order.order_delivered_customer_date.isnull()) & (data_order.order_status == 'shipped')]"
   ]
  },
  {
   "cell_type": "markdown",
   "metadata": {},
   "source": [
    "***PREGUNTA DEL MILLÓN, ¿POR QUÈ CON LA MÀSCARA ME TRAE LOS MICROSEGUNDOS?***"
   ]
  },
  {
   "cell_type": "code",
   "execution_count": 136,
   "metadata": {},
   "outputs": [
    {
     "data": {
      "text/plain": [
       "order_id                                 object\n",
       "customer_id                              object\n",
       "order_status                             object\n",
       "order_purchase_timestamp         datetime64[ns]\n",
       "order_approved_at                datetime64[ns]\n",
       "order_delivered_carrier_date     datetime64[ns]\n",
       "order_delivered_customer_date    datetime64[ns]\n",
       "order_estimated_delivery_date    datetime64[ns]\n",
       "dtype: object"
      ]
     },
     "execution_count": 136,
     "metadata": {},
     "output_type": "execute_result"
    }
   ],
   "source": [
    "data_order[data_order.index == 3002].dtypes"
   ]
  },
  {
   "cell_type": "code",
   "execution_count": 138,
   "metadata": {},
   "outputs": [
    {
     "data": {
      "text/html": [
       "<div>\n",
       "<style scoped>\n",
       "    .dataframe tbody tr th:only-of-type {\n",
       "        vertical-align: middle;\n",
       "    }\n",
       "\n",
       "    .dataframe tbody tr th {\n",
       "        vertical-align: top;\n",
       "    }\n",
       "\n",
       "    .dataframe thead th {\n",
       "        text-align: right;\n",
       "    }\n",
       "</style>\n",
       "<table border=\"1\" class=\"dataframe\">\n",
       "  <thead>\n",
       "    <tr style=\"text-align: right;\">\n",
       "      <th></th>\n",
       "      <th>order_id</th>\n",
       "      <th>customer_id</th>\n",
       "      <th>order_status</th>\n",
       "      <th>order_purchase_timestamp</th>\n",
       "      <th>order_approved_at</th>\n",
       "      <th>order_delivered_carrier_date</th>\n",
       "      <th>order_delivered_customer_date</th>\n",
       "      <th>order_estimated_delivery_date</th>\n",
       "    </tr>\n",
       "  </thead>\n",
       "  <tbody>\n",
       "    <tr>\n",
       "      <th>15</th>\n",
       "      <td>dcb36b511fcac050b97cd5c05de84dc3</td>\n",
       "      <td>3b6828a50ffe546942b7a473d70ac0fc</td>\n",
       "      <td>delivered</td>\n",
       "      <td>2018-06-07 19:03:12</td>\n",
       "      <td>2018-06-07 21:51:42.204700651</td>\n",
       "      <td>2018-06-11 14:54:00</td>\n",
       "      <td>2018-06-21 15:34:32</td>\n",
       "      <td>2018-07-04</td>\n",
       "    </tr>\n",
       "  </tbody>\n",
       "</table>\n",
       "</div>"
      ],
      "text/plain": [
       "                            order_id                       customer_id  \\\n",
       "15  dcb36b511fcac050b97cd5c05de84dc3  3b6828a50ffe546942b7a473d70ac0fc   \n",
       "\n",
       "   order_status order_purchase_timestamp             order_approved_at  \\\n",
       "15    delivered      2018-06-07 19:03:12 2018-06-07 21:51:42.204700651   \n",
       "\n",
       "   order_delivered_carrier_date order_delivered_customer_date  \\\n",
       "15          2018-06-11 14:54:00           2018-06-21 15:34:32   \n",
       "\n",
       "   order_estimated_delivery_date  \n",
       "15                    2018-07-04  "
      ]
     },
     "execution_count": 138,
     "metadata": {},
     "output_type": "execute_result"
    }
   ],
   "source": [
    "data_order[data_order.index == 15]"
   ]
  },
  {
   "cell_type": "code",
   "execution_count": 151,
   "metadata": {},
   "outputs": [
    {
     "data": {
      "text/html": [
       "<div>\n",
       "<style scoped>\n",
       "    .dataframe tbody tr th:only-of-type {\n",
       "        vertical-align: middle;\n",
       "    }\n",
       "\n",
       "    .dataframe tbody tr th {\n",
       "        vertical-align: top;\n",
       "    }\n",
       "\n",
       "    .dataframe thead th {\n",
       "        text-align: right;\n",
       "    }\n",
       "</style>\n",
       "<table border=\"1\" class=\"dataframe\">\n",
       "  <thead>\n",
       "    <tr style=\"text-align: right;\">\n",
       "      <th></th>\n",
       "      <th>order_id</th>\n",
       "      <th>customer_id</th>\n",
       "      <th>order_status</th>\n",
       "      <th>order_purchase_timestamp</th>\n",
       "      <th>order_approved_at</th>\n",
       "      <th>order_delivered_carrier_date</th>\n",
       "      <th>order_delivered_customer_date</th>\n",
       "      <th>order_estimated_delivery_date</th>\n",
       "      <th>queonda</th>\n",
       "    </tr>\n",
       "  </thead>\n",
       "  <tbody>\n",
       "    <tr>\n",
       "      <th>15</th>\n",
       "      <td>dcb36b511fcac050b97cd5c05de84dc3</td>\n",
       "      <td>3b6828a50ffe546942b7a473d70ac0fc</td>\n",
       "      <td>delivered</td>\n",
       "      <td>2018-06-07 19:03:12</td>\n",
       "      <td>2018-06-07 21:51:42.204700651</td>\n",
       "      <td>2018-06-11 14:54:00</td>\n",
       "      <td>2018-06-21 15:34:32</td>\n",
       "      <td>2018-07-04</td>\n",
       "      <td>2018-06-07 21:51:42.204700651</td>\n",
       "    </tr>\n",
       "  </tbody>\n",
       "</table>\n",
       "</div>"
      ],
      "text/plain": [
       "                            order_id                       customer_id  \\\n",
       "15  dcb36b511fcac050b97cd5c05de84dc3  3b6828a50ffe546942b7a473d70ac0fc   \n",
       "\n",
       "   order_status order_purchase_timestamp             order_approved_at  \\\n",
       "15    delivered      2018-06-07 19:03:12 2018-06-07 21:51:42.204700651   \n",
       "\n",
       "   order_delivered_carrier_date order_delivered_customer_date  \\\n",
       "15          2018-06-11 14:54:00           2018-06-21 15:34:32   \n",
       "\n",
       "   order_estimated_delivery_date                       queonda  \n",
       "15                    2018-07-04 2018-06-07 21:51:42.204700651  "
      ]
     },
     "execution_count": 151,
     "metadata": {},
     "output_type": "execute_result"
    }
   ],
   "source": [
    "data_order['queonda'] = pd.to_datetime(data_order['order_approved_at'], unit = 'D')\n",
    "data_order[data_order.index == 15]"
   ]
  },
  {
   "cell_type": "code",
   "execution_count": 177,
   "metadata": {},
   "outputs": [],
   "source": [
    "lista = ['order_purchase_timestamp', 'order_approved_at', 'order_delivered_carrier_date', 'order_delivered_customer_date', 'order_estimated_delivery_date']\n",
    "\n",
    "for i in lista:\n",
    "    data_order[i] = pd.to_datetime(data_order[i]).round('s')"
   ]
  },
  {
   "cell_type": "code",
   "execution_count": 179,
   "metadata": {},
   "outputs": [
    {
     "data": {
      "text/html": [
       "<div>\n",
       "<style scoped>\n",
       "    .dataframe tbody tr th:only-of-type {\n",
       "        vertical-align: middle;\n",
       "    }\n",
       "\n",
       "    .dataframe tbody tr th {\n",
       "        vertical-align: top;\n",
       "    }\n",
       "\n",
       "    .dataframe thead th {\n",
       "        text-align: right;\n",
       "    }\n",
       "</style>\n",
       "<table border=\"1\" class=\"dataframe\">\n",
       "  <thead>\n",
       "    <tr style=\"text-align: right;\">\n",
       "      <th></th>\n",
       "      <th>order_id</th>\n",
       "      <th>customer_id</th>\n",
       "      <th>order_status</th>\n",
       "      <th>order_purchase_timestamp</th>\n",
       "      <th>order_approved_at</th>\n",
       "      <th>order_delivered_carrier_date</th>\n",
       "      <th>order_delivered_customer_date</th>\n",
       "      <th>order_estimated_delivery_date</th>\n",
       "    </tr>\n",
       "  </thead>\n",
       "  <tbody>\n",
       "    <tr>\n",
       "      <th>3002</th>\n",
       "      <td>2d1e2d5bf4dc7227b3bfebb81328c15f</td>\n",
       "      <td>ec05a6d8558c6455f0cbbd8a420ad34f</td>\n",
       "      <td>delivered</td>\n",
       "      <td>2017-11-28 17:44:07</td>\n",
       "      <td>2017-11-28 17:56:40</td>\n",
       "      <td>2017-11-30 18:12:23</td>\n",
       "      <td>2017-12-08 17:46:31</td>\n",
       "      <td>2017-12-18</td>\n",
       "    </tr>\n",
       "  </tbody>\n",
       "</table>\n",
       "</div>"
      ],
      "text/plain": [
       "                              order_id                       customer_id  \\\n",
       "3002  2d1e2d5bf4dc7227b3bfebb81328c15f  ec05a6d8558c6455f0cbbd8a420ad34f   \n",
       "\n",
       "     order_status order_purchase_timestamp   order_approved_at  \\\n",
       "3002    delivered      2017-11-28 17:44:07 2017-11-28 17:56:40   \n",
       "\n",
       "     order_delivered_carrier_date order_delivered_customer_date  \\\n",
       "3002          2017-11-30 18:12:23           2017-12-08 17:46:31   \n",
       "\n",
       "     order_estimated_delivery_date  \n",
       "3002                    2017-12-18  "
      ]
     },
     "execution_count": 179,
     "metadata": {},
     "output_type": "execute_result"
    }
   ],
   "source": [
    "data_order[data_order.index == 3002]"
   ]
  },
  {
   "cell_type": "code",
   "execution_count": 182,
   "metadata": {},
   "outputs": [],
   "source": [
    "data_order.to_parquet('orders_normalizada')"
   ]
  }
 ],
 "metadata": {
  "kernelspec": {
   "display_name": "Python 3.9.12 ('datascience')",
   "language": "python",
   "name": "python3"
  },
  "language_info": {
   "codemirror_mode": {
    "name": "ipython",
    "version": 3
   },
   "file_extension": ".py",
   "mimetype": "text/x-python",
   "name": "python",
   "nbconvert_exporter": "python",
   "pygments_lexer": "ipython3",
   "version": "3.9.12"
  },
  "orig_nbformat": 4,
  "vscode": {
   "interpreter": {
    "hash": "9b0261dadc93494a3555537365c322d83416c4a1ed03d5df7c77bc94b07686c8"
   }
  }
 },
 "nbformat": 4,
 "nbformat_minor": 2
}
