{
 "cells": [
  {
   "cell_type": "code",
   "execution_count": 1,
   "metadata": {},
   "outputs": [],
   "source": [
    "import pandas as pd\n",
    "import numpy as np\n",
    "import seaborn as sns\n",
    "import matplotlib.pyplot as plt"
   ]
  },
  {
   "cell_type": "code",
   "execution_count": 2,
   "metadata": {},
   "outputs": [],
   "source": [
    "data_order_items = pd.read_csv('data\\olist_order_items_dataset.csv')"
   ]
  },
  {
   "cell_type": "code",
   "execution_count": 3,
   "metadata": {},
   "outputs": [
    {
     "data": {
      "text/plain": [
       "(112650, 7)"
      ]
     },
     "execution_count": 3,
     "metadata": {},
     "output_type": "execute_result"
    }
   ],
   "source": [
    "data_order_items.shape"
   ]
  },
  {
   "cell_type": "code",
   "execution_count": 4,
   "metadata": {},
   "outputs": [
    {
     "data": {
      "text/html": [
       "<div>\n",
       "<style scoped>\n",
       "    .dataframe tbody tr th:only-of-type {\n",
       "        vertical-align: middle;\n",
       "    }\n",
       "\n",
       "    .dataframe tbody tr th {\n",
       "        vertical-align: top;\n",
       "    }\n",
       "\n",
       "    .dataframe thead th {\n",
       "        text-align: right;\n",
       "    }\n",
       "</style>\n",
       "<table border=\"1\" class=\"dataframe\">\n",
       "  <thead>\n",
       "    <tr style=\"text-align: right;\">\n",
       "      <th></th>\n",
       "      <th>order_id</th>\n",
       "      <th>order_item_id</th>\n",
       "      <th>product_id</th>\n",
       "      <th>seller_id</th>\n",
       "      <th>shipping_limit_date</th>\n",
       "      <th>price</th>\n",
       "      <th>freight_value</th>\n",
       "    </tr>\n",
       "  </thead>\n",
       "  <tbody>\n",
       "    <tr>\n",
       "      <th>0</th>\n",
       "      <td>00010242fe8c5a6d1ba2dd792cb16214</td>\n",
       "      <td>1</td>\n",
       "      <td>4244733e06e7ecb4970a6e2683c13e61</td>\n",
       "      <td>48436dade18ac8b2bce089ec2a041202</td>\n",
       "      <td>2017-09-19 09:45:35</td>\n",
       "      <td>58.9</td>\n",
       "      <td>13.29</td>\n",
       "    </tr>\n",
       "    <tr>\n",
       "      <th>1</th>\n",
       "      <td>00018f77f2f0320c557190d7a144bdd3</td>\n",
       "      <td>1</td>\n",
       "      <td>e5f2d52b802189ee658865ca93d83a8f</td>\n",
       "      <td>dd7ddc04e1b6c2c614352b383efe2d36</td>\n",
       "      <td>2017-05-03 11:05:13</td>\n",
       "      <td>239.9</td>\n",
       "      <td>19.93</td>\n",
       "    </tr>\n",
       "  </tbody>\n",
       "</table>\n",
       "</div>"
      ],
      "text/plain": [
       "                           order_id  order_item_id  \\\n",
       "0  00010242fe8c5a6d1ba2dd792cb16214              1   \n",
       "1  00018f77f2f0320c557190d7a144bdd3              1   \n",
       "\n",
       "                         product_id                         seller_id  \\\n",
       "0  4244733e06e7ecb4970a6e2683c13e61  48436dade18ac8b2bce089ec2a041202   \n",
       "1  e5f2d52b802189ee658865ca93d83a8f  dd7ddc04e1b6c2c614352b383efe2d36   \n",
       "\n",
       "   shipping_limit_date  price  freight_value  \n",
       "0  2017-09-19 09:45:35   58.9          13.29  \n",
       "1  2017-05-03 11:05:13  239.9          19.93  "
      ]
     },
     "execution_count": 4,
     "metadata": {},
     "output_type": "execute_result"
    }
   ],
   "source": [
    "data_order_items.head(2)"
   ]
  },
  {
   "cell_type": "code",
   "execution_count": 9,
   "metadata": {},
   "outputs": [
    {
     "data": {
      "text/plain": [
       "1     98666\n",
       "2      9803\n",
       "3      2287\n",
       "4       965\n",
       "5       460\n",
       "6       256\n",
       "7        58\n",
       "8        36\n",
       "9        28\n",
       "10       25\n",
       "11       17\n",
       "12       13\n",
       "13        8\n",
       "14        7\n",
       "15        5\n",
       "16        3\n",
       "17        3\n",
       "18        3\n",
       "19        3\n",
       "20        3\n",
       "21        1\n",
       "Name: order_item_id, dtype: int64"
      ]
     },
     "execution_count": 9,
     "metadata": {},
     "output_type": "execute_result"
    }
   ],
   "source": [
    "'No sabemos qué será el id del item, si ya tenemos el del producto y el de la orden. Pero se puede ver que está demasiado desbalanceado, casi todos corresponden al item 1'\n",
    "\n",
    "data_order_items.order_item_id.value_counts()"
   ]
  },
  {
   "cell_type": "code",
   "execution_count": 11,
   "metadata": {},
   "outputs": [
    {
     "data": {
      "text/plain": [
       "0"
      ]
     },
     "execution_count": 11,
     "metadata": {},
     "output_type": "execute_result"
    }
   ],
   "source": [
    "data_order_items.duplicated().sum()"
   ]
  },
  {
   "cell_type": "code",
   "execution_count": 12,
   "metadata": {},
   "outputs": [
    {
     "data": {
      "text/plain": [
       "order_id               0\n",
       "order_item_id          0\n",
       "product_id             0\n",
       "seller_id              0\n",
       "shipping_limit_date    0\n",
       "price                  0\n",
       "freight_value          0\n",
       "dtype: int64"
      ]
     },
     "execution_count": 12,
     "metadata": {},
     "output_type": "execute_result"
    }
   ],
   "source": [
    "data_order_items.isnull().sum()"
   ]
  },
  {
   "cell_type": "code",
   "execution_count": 13,
   "metadata": {},
   "outputs": [
    {
     "data": {
      "text/plain": [
       "order_id                object\n",
       "order_item_id            int64\n",
       "product_id              object\n",
       "seller_id               object\n",
       "shipping_limit_date     object\n",
       "price                  float64\n",
       "freight_value          float64\n",
       "dtype: object"
      ]
     },
     "execution_count": 13,
     "metadata": {},
     "output_type": "execute_result"
    }
   ],
   "source": [
    "data_order_items.dtypes"
   ]
  },
  {
   "cell_type": "markdown",
   "metadata": {},
   "source": [
    "Convertir shipping_limit_date de objetct a date"
   ]
  },
  {
   "cell_type": "code",
   "execution_count": 16,
   "metadata": {},
   "outputs": [
    {
     "name": "stderr",
     "output_type": "stream",
     "text": [
      "c:\\Users\\leand\\miniconda3\\envs\\datascience\\lib\\site-packages\\seaborn\\_decorators.py:36: FutureWarning: Pass the following variable as a keyword arg: x. From version 0.12, the only valid positional argument will be `data`, and passing other arguments without an explicit keyword will result in an error or misinterpretation.\n",
      "  warnings.warn(\n"
     ]
    },
    {
     "data": {
      "image/png": "[encoded data removed]",
      "text/plain": [
       "<Figure size 432x288 with 1 Axes>"
      ]
     },
     "metadata": {
      "needs_background": "light"
     },
     "output_type": "display_data"
    }
   ],
   "source": [
    "sns.boxplot(data_order_items.price)\n",
    "plt.show()"
   ]
  },
  {
   "cell_type": "markdown",
   "metadata": {},
   "source": [
    "Están dentro de los parámetros racionales los precios outliers de los items"
   ]
  },
  {
   "cell_type": "code",
   "execution_count": 17,
   "metadata": {},
   "outputs": [
    {
     "name": "stderr",
     "output_type": "stream",
     "text": [
      "c:\\Users\\leand\\miniconda3\\envs\\datascience\\lib\\site-packages\\seaborn\\_decorators.py:36: FutureWarning: Pass the following variable as a keyword arg: x. From version 0.12, the only valid positional argument will be `data`, and passing other arguments without an explicit keyword will result in an error or misinterpretation.\n",
      "  warnings.warn(\n"
     ]
    },
    {
     "data": {
      "image/png": "[encoded data removed]",
      "text/plain": [
       "<Figure size 432x288 with 1 Axes>"
      ]
     },
     "metadata": {
      "needs_background": "light"
     },
     "output_type": "display_data"
    }
   ],
   "source": [
    "'Precio del flete'\n",
    "\n",
    "sns.boxplot(data_order_items.freight_value)\n",
    "plt.show()\n"
   ]
  },
  {
   "cell_type": "code",
   "execution_count": 19,
   "metadata": {},
   "outputs": [
    {
     "data": {
      "text/plain": [
       "409.68"
      ]
     },
     "execution_count": 19,
     "metadata": {},
     "output_type": "execute_result"
    }
   ],
   "source": [
    "data_order_items.freight_value.max()"
   ]
  },
  {
   "cell_type": "markdown",
   "metadata": {},
   "source": [
    "Raro. 400 reales son 10 lucas, parece mucho para un flete. Salvo que te lo lleve Bolsonaro a tu casa"
   ]
  },
  {
   "cell_type": "code",
   "execution_count": 46,
   "metadata": {},
   "outputs": [
    {
     "data": {
      "image/png": "[encoded data removed]",
      "text/plain": [
       "<Figure size 720x360 with 1 Axes>"
      ]
     },
     "metadata": {
      "needs_background": "light"
     },
     "output_type": "display_data"
    }
   ],
   "source": [
    "plt.figure(figsize= (10,5))\n",
    "\n",
    "sns.histplot(data_order_items.freight_value, kde = True)\n",
    "plt.axis([0, 100, 0, 4000])\n",
    "plt.show()"
   ]
  },
  {
   "cell_type": "code",
   "execution_count": 26,
   "metadata": {},
   "outputs": [
    {
     "data": {
      "text/html": [
       "<div>\n",
       "<style scoped>\n",
       "    .dataframe tbody tr th:only-of-type {\n",
       "        vertical-align: middle;\n",
       "    }\n",
       "\n",
       "    .dataframe tbody tr th {\n",
       "        vertical-align: top;\n",
       "    }\n",
       "\n",
       "    .dataframe thead th {\n",
       "        text-align: right;\n",
       "    }\n",
       "</style>\n",
       "<table border=\"1\" class=\"dataframe\">\n",
       "  <thead>\n",
       "    <tr style=\"text-align: right;\">\n",
       "      <th></th>\n",
       "      <th>order_id</th>\n",
       "      <th>order_item_id</th>\n",
       "      <th>product_id</th>\n",
       "      <th>seller_id</th>\n",
       "      <th>shipping_limit_date</th>\n",
       "      <th>price</th>\n",
       "      <th>freight_value</th>\n",
       "    </tr>\n",
       "  </thead>\n",
       "  <tbody>\n",
       "    <tr>\n",
       "      <th>3303</th>\n",
       "      <td>076d1555fb53a89b0ef4d529e527a0f6</td>\n",
       "      <td>1</td>\n",
       "      <td>a3cd9517ebf5a50dca25acce54f3b171</td>\n",
       "      <td>6fa9202c10491e472dffd59a3e82b2a3</td>\n",
       "      <td>2018-08-07 04:35:22</td>\n",
       "      <td>2338.08</td>\n",
       "      <td>375.28</td>\n",
       "    </tr>\n",
       "    <tr>\n",
       "      <th>3584</th>\n",
       "      <td>0822bcde10bb5d023755a71bc8f7797f</td>\n",
       "      <td>1</td>\n",
       "      <td>363a9f5b97bf194da23858be722a7aa5</td>\n",
       "      <td>9596c870880d900012f2e8e6e30d06d7</td>\n",
       "      <td>2018-05-10 23:52:39</td>\n",
       "      <td>990.00</td>\n",
       "      <td>321.46</td>\n",
       "    </tr>\n",
       "    <tr>\n",
       "      <th>5037</th>\n",
       "      <td>0b6230647ed16f4b3e70282dc4b5b87f</td>\n",
       "      <td>1</td>\n",
       "      <td>46e24ce614899e36617e37ea1e4aa6ff</td>\n",
       "      <td>17f51e7198701186712e53a39c564617</td>\n",
       "      <td>2018-06-01 19:14:24</td>\n",
       "      <td>1050.00</td>\n",
       "      <td>321.88</td>\n",
       "    </tr>\n",
       "    <tr>\n",
       "      <th>6268</th>\n",
       "      <td>0e4672661531addf3fa0f55961e55242</td>\n",
       "      <td>1</td>\n",
       "      <td>dc861f18267cce21f3b70f9f7990b8ce</td>\n",
       "      <td>17f51e7198701186712e53a39c564617</td>\n",
       "      <td>2017-07-12 04:03:18</td>\n",
       "      <td>990.00</td>\n",
       "      <td>314.02</td>\n",
       "    </tr>\n",
       "    <tr>\n",
       "      <th>16731</th>\n",
       "      <td>264a7e199467906c0727394df82d1a6a</td>\n",
       "      <td>1</td>\n",
       "      <td>97c948ebc8c04b26b7bbb095d4228f2a</td>\n",
       "      <td>17f51e7198701186712e53a39c564617</td>\n",
       "      <td>2018-04-23 17:15:10</td>\n",
       "      <td>1050.00</td>\n",
       "      <td>338.30</td>\n",
       "    </tr>\n",
       "    <tr>\n",
       "      <th>27183</th>\n",
       "      <td>3dd5626c63f493f8b8f8788c2be24baa</td>\n",
       "      <td>1</td>\n",
       "      <td>3a1855685a49813f60e6193864f7215e</td>\n",
       "      <td>c510bc1718f0f2961eaa42a23330681a</td>\n",
       "      <td>2018-05-04 19:50:59</td>\n",
       "      <td>2699.00</td>\n",
       "      <td>306.06</td>\n",
       "    </tr>\n",
       "    <tr>\n",
       "      <th>28044</th>\n",
       "      <td>3fde74c28a3d5d618c00f26d51baafa0</td>\n",
       "      <td>1</td>\n",
       "      <td>a3cd9517ebf5a50dca25acce54f3b171</td>\n",
       "      <td>6fa9202c10491e472dffd59a3e82b2a3</td>\n",
       "      <td>2018-08-22 03:15:09</td>\n",
       "      <td>2338.08</td>\n",
       "      <td>375.28</td>\n",
       "    </tr>\n",
       "    <tr>\n",
       "      <th>29787</th>\n",
       "      <td>43bdbd9dc0931d72befdf4765af6c442</td>\n",
       "      <td>1</td>\n",
       "      <td>7e53e051875b2a0c9f22acd8a9a29a20</td>\n",
       "      <td>eeb6de78f79159600292e314a77cbd18</td>\n",
       "      <td>2018-07-12 08:35:21</td>\n",
       "      <td>3089.00</td>\n",
       "      <td>317.47</td>\n",
       "    </tr>\n",
       "    <tr>\n",
       "      <th>48320</th>\n",
       "      <td>6ddfbf514959b49b6410c01ad93054bb</td>\n",
       "      <td>1</td>\n",
       "      <td>363a9f5b97bf194da23858be722a7aa5</td>\n",
       "      <td>9596c870880d900012f2e8e6e30d06d7</td>\n",
       "      <td>2017-11-30 15:10:57</td>\n",
       "      <td>1045.00</td>\n",
       "      <td>314.40</td>\n",
       "    </tr>\n",
       "    <tr>\n",
       "      <th>69797</th>\n",
       "      <td>9f49bd16053df810384e793386312674</td>\n",
       "      <td>1</td>\n",
       "      <td>256a9c364b75753b97bee410c9491ad8</td>\n",
       "      <td>5c030029b5916fed0986310385ec9009</td>\n",
       "      <td>2018-08-02 03:44:28</td>\n",
       "      <td>1149.00</td>\n",
       "      <td>339.59</td>\n",
       "    </tr>\n",
       "    <tr>\n",
       "      <th>73486</th>\n",
       "      <td>a77e1550db865202c56b19ddc6dc4d53</td>\n",
       "      <td>1</td>\n",
       "      <td>ec31d2a17b299511e7c8627be9337b9b</td>\n",
       "      <td>257e61d3251fb5efb9daadddbc2cf7ca</td>\n",
       "      <td>2018-04-25 06:55:13</td>\n",
       "      <td>979.00</td>\n",
       "      <td>409.68</td>\n",
       "    </tr>\n",
       "    <tr>\n",
       "      <th>87936</th>\n",
       "      <td>c7a07ddd52bbe18b61da49a8d89853d3</td>\n",
       "      <td>1</td>\n",
       "      <td>97c948ebc8c04b26b7bbb095d4228f2a</td>\n",
       "      <td>17f51e7198701186712e53a39c564617</td>\n",
       "      <td>2018-07-31 10:45:11</td>\n",
       "      <td>1050.00</td>\n",
       "      <td>322.10</td>\n",
       "    </tr>\n",
       "    <tr>\n",
       "      <th>111842</th>\n",
       "      <td>fe12e676fd493885d417a34bc3917411</td>\n",
       "      <td>1</td>\n",
       "      <td>1d16c0509e7011656e03c6a582ff6667</td>\n",
       "      <td>17f51e7198701186712e53a39c564617</td>\n",
       "      <td>2017-06-06 18:35:15</td>\n",
       "      <td>760.00</td>\n",
       "      <td>312.41</td>\n",
       "    </tr>\n",
       "  </tbody>\n",
       "</table>\n",
       "</div>"
      ],
      "text/plain": [
       "                                order_id  order_item_id  \\\n",
       "3303    076d1555fb53a89b0ef4d529e527a0f6              1   \n",
       "3584    0822bcde10bb5d023755a71bc8f7797f              1   \n",
       "5037    0b6230647ed16f4b3e70282dc4b5b87f              1   \n",
       "6268    0e4672661531addf3fa0f55961e55242              1   \n",
       "16731   264a7e199467906c0727394df82d1a6a              1   \n",
       "27183   3dd5626c63f493f8b8f8788c2be24baa              1   \n",
       "28044   3fde74c28a3d5d618c00f26d51baafa0              1   \n",
       "29787   43bdbd9dc0931d72befdf4765af6c442              1   \n",
       "48320   6ddfbf514959b49b6410c01ad93054bb              1   \n",
       "69797   9f49bd16053df810384e793386312674              1   \n",
       "73486   a77e1550db865202c56b19ddc6dc4d53              1   \n",
       "87936   c7a07ddd52bbe18b61da49a8d89853d3              1   \n",
       "111842  fe12e676fd493885d417a34bc3917411              1   \n",
       "\n",
       "                              product_id                         seller_id  \\\n",
       "3303    a3cd9517ebf5a50dca25acce54f3b171  6fa9202c10491e472dffd59a3e82b2a3   \n",
       "3584    363a9f5b97bf194da23858be722a7aa5  9596c870880d900012f2e8e6e30d06d7   \n",
       "5037    46e24ce614899e36617e37ea1e4aa6ff  17f51e7198701186712e53a39c564617   \n",
       "6268    dc861f18267cce21f3b70f9f7990b8ce  17f51e7198701186712e53a39c564617   \n",
       "16731   97c948ebc8c04b26b7bbb095d4228f2a  17f51e7198701186712e53a39c564617   \n",
       "27183   3a1855685a49813f60e6193864f7215e  c510bc1718f0f2961eaa42a23330681a   \n",
       "28044   a3cd9517ebf5a50dca25acce54f3b171  6fa9202c10491e472dffd59a3e82b2a3   \n",
       "29787   7e53e051875b2a0c9f22acd8a9a29a20  eeb6de78f79159600292e314a77cbd18   \n",
       "48320   363a9f5b97bf194da23858be722a7aa5  9596c870880d900012f2e8e6e30d06d7   \n",
       "69797   256a9c364b75753b97bee410c9491ad8  5c030029b5916fed0986310385ec9009   \n",
       "73486   ec31d2a17b299511e7c8627be9337b9b  257e61d3251fb5efb9daadddbc2cf7ca   \n",
       "87936   97c948ebc8c04b26b7bbb095d4228f2a  17f51e7198701186712e53a39c564617   \n",
       "111842  1d16c0509e7011656e03c6a582ff6667  17f51e7198701186712e53a39c564617   \n",
       "\n",
       "        shipping_limit_date    price  freight_value  \n",
       "3303    2018-08-07 04:35:22  2338.08         375.28  \n",
       "3584    2018-05-10 23:52:39   990.00         321.46  \n",
       "5037    2018-06-01 19:14:24  1050.00         321.88  \n",
       "6268    2017-07-12 04:03:18   990.00         314.02  \n",
       "16731   2018-04-23 17:15:10  1050.00         338.30  \n",
       "27183   2018-05-04 19:50:59  2699.00         306.06  \n",
       "28044   2018-08-22 03:15:09  2338.08         375.28  \n",
       "29787   2018-07-12 08:35:21  3089.00         317.47  \n",
       "48320   2017-11-30 15:10:57  1045.00         314.40  \n",
       "69797   2018-08-02 03:44:28  1149.00         339.59  \n",
       "73486   2018-04-25 06:55:13   979.00         409.68  \n",
       "87936   2018-07-31 10:45:11  1050.00         322.10  \n",
       "111842  2017-06-06 18:35:15   760.00         312.41  "
      ]
     },
     "execution_count": 26,
     "metadata": {},
     "output_type": "execute_result"
    }
   ],
   "source": [
    "'Tiene sentido que los fletes sean tan caros considerando el precio del producto'\n",
    "\n",
    "data_order_items[data_order_items.freight_value > 300]"
   ]
  },
  {
   "cell_type": "code",
   "execution_count": 29,
   "metadata": {},
   "outputs": [
    {
     "data": {
      "text/html": [
       "<div>\n",
       "<style scoped>\n",
       "    .dataframe tbody tr th:only-of-type {\n",
       "        vertical-align: middle;\n",
       "    }\n",
       "\n",
       "    .dataframe tbody tr th {\n",
       "        vertical-align: top;\n",
       "    }\n",
       "\n",
       "    .dataframe thead th {\n",
       "        text-align: right;\n",
       "    }\n",
       "</style>\n",
       "<table border=\"1\" class=\"dataframe\">\n",
       "  <thead>\n",
       "    <tr style=\"text-align: right;\">\n",
       "      <th></th>\n",
       "      <th>order_id</th>\n",
       "      <th>order_item_id</th>\n",
       "      <th>product_id</th>\n",
       "      <th>seller_id</th>\n",
       "      <th>shipping_limit_date</th>\n",
       "      <th>price</th>\n",
       "      <th>freight_value</th>\n",
       "    </tr>\n",
       "  </thead>\n",
       "  <tbody>\n",
       "    <tr>\n",
       "      <th>865</th>\n",
       "      <td>02014f2495eef0e869616829d481d743</td>\n",
       "      <td>1</td>\n",
       "      <td>43cc8e4d981bc04b9d78b12e8a908d41</td>\n",
       "      <td>6061155addc1e54b4cfb51c1c2a32ad8</td>\n",
       "      <td>2018-08-24 11:05:25</td>\n",
       "      <td>1240.00</td>\n",
       "      <td>102.63</td>\n",
       "    </tr>\n",
       "    <tr>\n",
       "      <th>1084</th>\n",
       "      <td>028558cddca332b40b4ac4cb77407edf</td>\n",
       "      <td>1</td>\n",
       "      <td>a233df9a388d27dbdfd31731d4236db0</td>\n",
       "      <td>784ba75dd9d20200c4caed3d7a77141a</td>\n",
       "      <td>2017-07-04 10:35:09</td>\n",
       "      <td>2649.99</td>\n",
       "      <td>134.17</td>\n",
       "    </tr>\n",
       "    <tr>\n",
       "      <th>1122</th>\n",
       "      <td>029c545413b10a6bd7540401f6eef0a3</td>\n",
       "      <td>1</td>\n",
       "      <td>8d4e92265a16e69a1e1d76e67e46d72f</td>\n",
       "      <td>54219883e72aad869adfb2a54b7bfa0f</td>\n",
       "      <td>2018-07-17 09:30:15</td>\n",
       "      <td>1350.00</td>\n",
       "      <td>294.76</td>\n",
       "    </tr>\n",
       "    <tr>\n",
       "      <th>1282</th>\n",
       "      <td>02fab07a655ce404330d65b508f32d9e</td>\n",
       "      <td>1</td>\n",
       "      <td>63c4a70e0a12b4bd9475fca9e9937e76</td>\n",
       "      <td>d66c305afaec317ebee552073a674429</td>\n",
       "      <td>2017-05-25 14:55:17</td>\n",
       "      <td>122.99</td>\n",
       "      <td>164.98</td>\n",
       "    </tr>\n",
       "    <tr>\n",
       "      <th>1453</th>\n",
       "      <td>03572de4ee0598b00c48f6de965fcf78</td>\n",
       "      <td>1</td>\n",
       "      <td>e303dfa61ada1f0823b4775f192606b3</td>\n",
       "      <td>058cb5aeb36d7c0fcae20fc85d5e0a59</td>\n",
       "      <td>2018-08-01 14:04:22</td>\n",
       "      <td>148.50</td>\n",
       "      <td>165.32</td>\n",
       "    </tr>\n",
       "    <tr>\n",
       "      <th>...</th>\n",
       "      <td>...</td>\n",
       "      <td>...</td>\n",
       "      <td>...</td>\n",
       "      <td>...</td>\n",
       "      <td>...</td>\n",
       "      <td>...</td>\n",
       "      <td>...</td>\n",
       "    </tr>\n",
       "    <tr>\n",
       "      <th>111858</th>\n",
       "      <td>fe1a4e86595ca403c258c586e8fd99c4</td>\n",
       "      <td>1</td>\n",
       "      <td>a9561ee69e9f8808eb4add53d720a447</td>\n",
       "      <td>d2374cbcbb3ca4ab1086534108cc3ab7</td>\n",
       "      <td>2018-08-23 18:55:10</td>\n",
       "      <td>189.90</td>\n",
       "      <td>148.88</td>\n",
       "    </tr>\n",
       "    <tr>\n",
       "      <th>111957</th>\n",
       "      <td>fe579bd413f722e51bc98182441e135c</td>\n",
       "      <td>1</td>\n",
       "      <td>4aa52adb5489aa151e17023d4e153297</td>\n",
       "      <td>f45122a9ab94eb4f3f8953578bc0c560</td>\n",
       "      <td>2017-05-17 17:10:13</td>\n",
       "      <td>1878.33</td>\n",
       "      <td>102.38</td>\n",
       "    </tr>\n",
       "    <tr>\n",
       "      <th>112233</th>\n",
       "      <td>fefacc66af859508bf1a7934eab1e97f</td>\n",
       "      <td>1</td>\n",
       "      <td>69c590f7ffc7bf8db97190b6cb6ed62e</td>\n",
       "      <td>80ceebb4ee9b31afb6c6a916a574a1e2</td>\n",
       "      <td>2018-08-02 04:05:13</td>\n",
       "      <td>6729.00</td>\n",
       "      <td>193.21</td>\n",
       "    </tr>\n",
       "    <tr>\n",
       "      <th>112359</th>\n",
       "      <td>ff3e501f56dcf0752578d86df833558f</td>\n",
       "      <td>1</td>\n",
       "      <td>608af629c5b520efe1caf06e1cfc4abc</td>\n",
       "      <td>5dceca129747e92ff8ef7a997dc4f8ca</td>\n",
       "      <td>2017-10-27 21:14:33</td>\n",
       "      <td>299.90</td>\n",
       "      <td>170.11</td>\n",
       "    </tr>\n",
       "    <tr>\n",
       "      <th>112472</th>\n",
       "      <td>ff96d596c25445650eee60b94fa62244</td>\n",
       "      <td>1</td>\n",
       "      <td>f7b30f48c235d715e00822023d8a4dce</td>\n",
       "      <td>7238a95bb63ef7e498389fb863b834a1</td>\n",
       "      <td>2018-05-04 13:50:07</td>\n",
       "      <td>329.00</td>\n",
       "      <td>127.55</td>\n",
       "    </tr>\n",
       "  </tbody>\n",
       "</table>\n",
       "<p>671 rows × 7 columns</p>\n",
       "</div>"
      ],
      "text/plain": [
       "                                order_id  order_item_id  \\\n",
       "865     02014f2495eef0e869616829d481d743              1   \n",
       "1084    028558cddca332b40b4ac4cb77407edf              1   \n",
       "1122    029c545413b10a6bd7540401f6eef0a3              1   \n",
       "1282    02fab07a655ce404330d65b508f32d9e              1   \n",
       "1453    03572de4ee0598b00c48f6de965fcf78              1   \n",
       "...                                  ...            ...   \n",
       "111858  fe1a4e86595ca403c258c586e8fd99c4              1   \n",
       "111957  fe579bd413f722e51bc98182441e135c              1   \n",
       "112233  fefacc66af859508bf1a7934eab1e97f              1   \n",
       "112359  ff3e501f56dcf0752578d86df833558f              1   \n",
       "112472  ff96d596c25445650eee60b94fa62244              1   \n",
       "\n",
       "                              product_id                         seller_id  \\\n",
       "865     43cc8e4d981bc04b9d78b12e8a908d41  6061155addc1e54b4cfb51c1c2a32ad8   \n",
       "1084    a233df9a388d27dbdfd31731d4236db0  784ba75dd9d20200c4caed3d7a77141a   \n",
       "1122    8d4e92265a16e69a1e1d76e67e46d72f  54219883e72aad869adfb2a54b7bfa0f   \n",
       "1282    63c4a70e0a12b4bd9475fca9e9937e76  d66c305afaec317ebee552073a674429   \n",
       "1453    e303dfa61ada1f0823b4775f192606b3  058cb5aeb36d7c0fcae20fc85d5e0a59   \n",
       "...                                  ...                               ...   \n",
       "111858  a9561ee69e9f8808eb4add53d720a447  d2374cbcbb3ca4ab1086534108cc3ab7   \n",
       "111957  4aa52adb5489aa151e17023d4e153297  f45122a9ab94eb4f3f8953578bc0c560   \n",
       "112233  69c590f7ffc7bf8db97190b6cb6ed62e  80ceebb4ee9b31afb6c6a916a574a1e2   \n",
       "112359  608af629c5b520efe1caf06e1cfc4abc  5dceca129747e92ff8ef7a997dc4f8ca   \n",
       "112472  f7b30f48c235d715e00822023d8a4dce  7238a95bb63ef7e498389fb863b834a1   \n",
       "\n",
       "        shipping_limit_date    price  freight_value  \n",
       "865     2018-08-24 11:05:25  1240.00         102.63  \n",
       "1084    2017-07-04 10:35:09  2649.99         134.17  \n",
       "1122    2018-07-17 09:30:15  1350.00         294.76  \n",
       "1282    2017-05-25 14:55:17   122.99         164.98  \n",
       "1453    2018-08-01 14:04:22   148.50         165.32  \n",
       "...                     ...      ...            ...  \n",
       "111858  2018-08-23 18:55:10   189.90         148.88  \n",
       "111957  2017-05-17 17:10:13  1878.33         102.38  \n",
       "112233  2018-08-02 04:05:13  6729.00         193.21  \n",
       "112359  2017-10-27 21:14:33   299.90         170.11  \n",
       "112472  2018-05-04 13:50:07   329.00         127.55  \n",
       "\n",
       "[671 rows x 7 columns]"
      ]
     },
     "execution_count": 29,
     "metadata": {},
     "output_type": "execute_result"
    }
   ],
   "source": [
    "'Vemos casos donde el precio del flete es bastante alto para lo que sale el producto'\n",
    "\n",
    "data_order_items[data_order_items.freight_value > 100]"
   ]
  },
  {
   "cell_type": "code",
   "execution_count": 30,
   "metadata": {},
   "outputs": [
    {
     "data": {
      "text/html": [
       "<div>\n",
       "<style scoped>\n",
       "    .dataframe tbody tr th:only-of-type {\n",
       "        vertical-align: middle;\n",
       "    }\n",
       "\n",
       "    .dataframe tbody tr th {\n",
       "        vertical-align: top;\n",
       "    }\n",
       "\n",
       "    .dataframe thead th {\n",
       "        text-align: right;\n",
       "    }\n",
       "</style>\n",
       "<table border=\"1\" class=\"dataframe\">\n",
       "  <thead>\n",
       "    <tr style=\"text-align: right;\">\n",
       "      <th></th>\n",
       "      <th>order_id</th>\n",
       "      <th>order_item_id</th>\n",
       "      <th>product_id</th>\n",
       "      <th>seller_id</th>\n",
       "      <th>shipping_limit_date</th>\n",
       "      <th>price</th>\n",
       "      <th>freight_value</th>\n",
       "    </tr>\n",
       "  </thead>\n",
       "  <tbody>\n",
       "    <tr>\n",
       "      <th>73486</th>\n",
       "      <td>a77e1550db865202c56b19ddc6dc4d53</td>\n",
       "      <td>1</td>\n",
       "      <td>ec31d2a17b299511e7c8627be9337b9b</td>\n",
       "      <td>257e61d3251fb5efb9daadddbc2cf7ca</td>\n",
       "      <td>2018-04-25 06:55:13</td>\n",
       "      <td>979.0</td>\n",
       "      <td>409.68</td>\n",
       "    </tr>\n",
       "  </tbody>\n",
       "</table>\n",
       "</div>"
      ],
      "text/plain": [
       "                               order_id  order_item_id  \\\n",
       "73486  a77e1550db865202c56b19ddc6dc4d53              1   \n",
       "\n",
       "                             product_id                         seller_id  \\\n",
       "73486  ec31d2a17b299511e7c8627be9337b9b  257e61d3251fb5efb9daadddbc2cf7ca   \n",
       "\n",
       "       shipping_limit_date  price  freight_value  \n",
       "73486  2018-04-25 06:55:13  979.0         409.68  "
      ]
     },
     "execution_count": 30,
     "metadata": {},
     "output_type": "execute_result"
    }
   ],
   "source": [
    "data_order_items[data_order_items.freight_value > 400]"
   ]
  },
  {
   "cell_type": "markdown",
   "metadata": {},
   "source": [
    "Ideas:\n",
    "\n",
    "+ Podemos sacar alto KPI con el precio del flete respecto al producto\n",
    "+ Se puede crear una columna con el porcentaje del precio del flete respecto al valor del producto, para considerar rentabilidad de la transacción\n",
    "\n",
    "\n"
   ]
  },
  {
   "cell_type": "markdown",
   "metadata": {},
   "source": [
    "+ Consideren qué hacer con esos outliers del precio del flete. Por ahora, nosotros los dejaríamos ya que no están necesariamente mal"
   ]
  },
  {
   "cell_type": "markdown",
   "metadata": {},
   "source": [
    "Convertir shipping_limit_date de objetct a date"
   ]
  }
 ],
 "metadata": {
  "kernelspec": {
   "display_name": "Python 3.10.2 64-bit",
   "language": "python",
   "name": "python3"
  },
  "language_info": {
   "codemirror_mode": {
    "name": "ipython",
    "version": 3
   },
   "file_extension": ".py",
   "mimetype": "text/x-python",
   "name": "python",
   "nbconvert_exporter": "python",
   "pygments_lexer": "ipython3",
   "version": "3.10.2"
  },
  "orig_nbformat": 4,
  "vscode": {
   "interpreter": {
    "hash": "ba18286d27dd3f1705df4025c31d2b7021c67fcd01f023a6f194ed0db21ec453"
   }
  }
 },
 "nbformat": 4,
 "nbformat_minor": 2
}
